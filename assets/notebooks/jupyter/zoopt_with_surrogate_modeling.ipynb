{
  "nbformat": 4,
  "nbformat_minor": 0,
  "metadata": {
    "colab": {
      "provenance": []
    },
    "kernelspec": {
      "name": "python3",
      "display_name": "Python 3"
    },
    "language_info": {
      "name": "python"
    },
    "widgets": {
      "application/vnd.jupyter.widget-state+json": {
        "d35ae2ab51ef41678ae7c33c96252c93": {
          "model_module": "@jupyter-widgets/controls",
          "model_name": "HBoxModel",
          "model_module_version": "1.5.0",
          "state": {
            "_dom_classes": [],
            "_model_module": "@jupyter-widgets/controls",
            "_model_module_version": "1.5.0",
            "_model_name": "HBoxModel",
            "_view_count": null,
            "_view_module": "@jupyter-widgets/controls",
            "_view_module_version": "1.5.0",
            "_view_name": "HBoxView",
            "box_style": "",
            "children": [
              "IPY_MODEL_8922ca3d724c43f9a4a0481a7f7caf5a",
              "IPY_MODEL_1c9ba2a45f844537bfd3b27cd4a7c999",
              "IPY_MODEL_c23a061271a447d2a7f9e4acf8c34a7a"
            ],
            "layout": "IPY_MODEL_d792839fafcf4480b513aafeda53e591"
          }
        },
        "8922ca3d724c43f9a4a0481a7f7caf5a": {
          "model_module": "@jupyter-widgets/controls",
          "model_name": "HTMLModel",
          "model_module_version": "1.5.0",
          "state": {
            "_dom_classes": [],
            "_model_module": "@jupyter-widgets/controls",
            "_model_module_version": "1.5.0",
            "_model_name": "HTMLModel",
            "_view_count": null,
            "_view_module": "@jupyter-widgets/controls",
            "_view_module_version": "1.5.0",
            "_view_name": "HTMLView",
            "description": "",
            "description_tooltip": null,
            "layout": "IPY_MODEL_73b95e26a6e54a968efb1e9ee34a0b2b",
            "placeholder": "​",
            "style": "IPY_MODEL_cede3e503fb648aa9e6887cce36c4a7b",
            "value": "Processing: 100%"
          }
        },
        "1c9ba2a45f844537bfd3b27cd4a7c999": {
          "model_module": "@jupyter-widgets/controls",
          "model_name": "FloatProgressModel",
          "model_module_version": "1.5.0",
          "state": {
            "_dom_classes": [],
            "_model_module": "@jupyter-widgets/controls",
            "_model_module_version": "1.5.0",
            "_model_name": "FloatProgressModel",
            "_view_count": null,
            "_view_module": "@jupyter-widgets/controls",
            "_view_module_version": "1.5.0",
            "_view_name": "ProgressView",
            "bar_style": "",
            "description": "",
            "description_tooltip": null,
            "layout": "IPY_MODEL_10ba4aedce8740ba87aeff889d341760",
            "max": 81,
            "min": 0,
            "orientation": "horizontal",
            "style": "IPY_MODEL_194e1bceb56845919f4fb2efd11393a6",
            "value": 81
          }
        },
        "c23a061271a447d2a7f9e4acf8c34a7a": {
          "model_module": "@jupyter-widgets/controls",
          "model_name": "HTMLModel",
          "model_module_version": "1.5.0",
          "state": {
            "_dom_classes": [],
            "_model_module": "@jupyter-widgets/controls",
            "_model_module_version": "1.5.0",
            "_model_name": "HTMLModel",
            "_view_count": null,
            "_view_module": "@jupyter-widgets/controls",
            "_view_module_version": "1.5.0",
            "_view_name": "HTMLView",
            "description": "",
            "description_tooltip": null,
            "layout": "IPY_MODEL_450ab2f3ab7548f8aac7877e5204aa98",
            "placeholder": "​",
            "style": "IPY_MODEL_76ffb49618d14c2391615149813f7e6d",
            "value": " 81/81 [00:26&lt;00:00,  5.24it/s]"
          }
        },
        "d792839fafcf4480b513aafeda53e591": {
          "model_module": "@jupyter-widgets/base",
          "model_name": "LayoutModel",
          "model_module_version": "1.2.0",
          "state": {
            "_model_module": "@jupyter-widgets/base",
            "_model_module_version": "1.2.0",
            "_model_name": "LayoutModel",
            "_view_count": null,
            "_view_module": "@jupyter-widgets/base",
            "_view_module_version": "1.2.0",
            "_view_name": "LayoutView",
            "align_content": null,
            "align_items": null,
            "align_self": null,
            "border": null,
            "bottom": null,
            "display": null,
            "flex": null,
            "flex_flow": null,
            "grid_area": null,
            "grid_auto_columns": null,
            "grid_auto_flow": null,
            "grid_auto_rows": null,
            "grid_column": null,
            "grid_gap": null,
            "grid_row": null,
            "grid_template_areas": null,
            "grid_template_columns": null,
            "grid_template_rows": null,
            "height": null,
            "justify_content": null,
            "justify_items": null,
            "left": null,
            "margin": null,
            "max_height": null,
            "max_width": null,
            "min_height": null,
            "min_width": null,
            "object_fit": null,
            "object_position": null,
            "order": null,
            "overflow": null,
            "overflow_x": null,
            "overflow_y": null,
            "padding": null,
            "right": null,
            "top": null,
            "visibility": "hidden",
            "width": null
          }
        },
        "73b95e26a6e54a968efb1e9ee34a0b2b": {
          "model_module": "@jupyter-widgets/base",
          "model_name": "LayoutModel",
          "model_module_version": "1.2.0",
          "state": {
            "_model_module": "@jupyter-widgets/base",
            "_model_module_version": "1.2.0",
            "_model_name": "LayoutModel",
            "_view_count": null,
            "_view_module": "@jupyter-widgets/base",
            "_view_module_version": "1.2.0",
            "_view_name": "LayoutView",
            "align_content": null,
            "align_items": null,
            "align_self": null,
            "border": null,
            "bottom": null,
            "display": null,
            "flex": null,
            "flex_flow": null,
            "grid_area": null,
            "grid_auto_columns": null,
            "grid_auto_flow": null,
            "grid_auto_rows": null,
            "grid_column": null,
            "grid_gap": null,
            "grid_row": null,
            "grid_template_areas": null,
            "grid_template_columns": null,
            "grid_template_rows": null,
            "height": null,
            "justify_content": null,
            "justify_items": null,
            "left": null,
            "margin": null,
            "max_height": null,
            "max_width": null,
            "min_height": null,
            "min_width": null,
            "object_fit": null,
            "object_position": null,
            "order": null,
            "overflow": null,
            "overflow_x": null,
            "overflow_y": null,
            "padding": null,
            "right": null,
            "top": null,
            "visibility": null,
            "width": null
          }
        },
        "cede3e503fb648aa9e6887cce36c4a7b": {
          "model_module": "@jupyter-widgets/controls",
          "model_name": "DescriptionStyleModel",
          "model_module_version": "1.5.0",
          "state": {
            "_model_module": "@jupyter-widgets/controls",
            "_model_module_version": "1.5.0",
            "_model_name": "DescriptionStyleModel",
            "_view_count": null,
            "_view_module": "@jupyter-widgets/base",
            "_view_module_version": "1.2.0",
            "_view_name": "StyleView",
            "description_width": ""
          }
        },
        "10ba4aedce8740ba87aeff889d341760": {
          "model_module": "@jupyter-widgets/base",
          "model_name": "LayoutModel",
          "model_module_version": "1.2.0",
          "state": {
            "_model_module": "@jupyter-widgets/base",
            "_model_module_version": "1.2.0",
            "_model_name": "LayoutModel",
            "_view_count": null,
            "_view_module": "@jupyter-widgets/base",
            "_view_module_version": "1.2.0",
            "_view_name": "LayoutView",
            "align_content": null,
            "align_items": null,
            "align_self": null,
            "border": null,
            "bottom": null,
            "display": null,
            "flex": null,
            "flex_flow": null,
            "grid_area": null,
            "grid_auto_columns": null,
            "grid_auto_flow": null,
            "grid_auto_rows": null,
            "grid_column": null,
            "grid_gap": null,
            "grid_row": null,
            "grid_template_areas": null,
            "grid_template_columns": null,
            "grid_template_rows": null,
            "height": null,
            "justify_content": null,
            "justify_items": null,
            "left": null,
            "margin": null,
            "max_height": null,
            "max_width": null,
            "min_height": null,
            "min_width": null,
            "object_fit": null,
            "object_position": null,
            "order": null,
            "overflow": null,
            "overflow_x": null,
            "overflow_y": null,
            "padding": null,
            "right": null,
            "top": null,
            "visibility": null,
            "width": null
          }
        },
        "194e1bceb56845919f4fb2efd11393a6": {
          "model_module": "@jupyter-widgets/controls",
          "model_name": "ProgressStyleModel",
          "model_module_version": "1.5.0",
          "state": {
            "_model_module": "@jupyter-widgets/controls",
            "_model_module_version": "1.5.0",
            "_model_name": "ProgressStyleModel",
            "_view_count": null,
            "_view_module": "@jupyter-widgets/base",
            "_view_module_version": "1.2.0",
            "_view_name": "StyleView",
            "bar_color": null,
            "description_width": ""
          }
        },
        "450ab2f3ab7548f8aac7877e5204aa98": {
          "model_module": "@jupyter-widgets/base",
          "model_name": "LayoutModel",
          "model_module_version": "1.2.0",
          "state": {
            "_model_module": "@jupyter-widgets/base",
            "_model_module_version": "1.2.0",
            "_model_name": "LayoutModel",
            "_view_count": null,
            "_view_module": "@jupyter-widgets/base",
            "_view_module_version": "1.2.0",
            "_view_name": "LayoutView",
            "align_content": null,
            "align_items": null,
            "align_self": null,
            "border": null,
            "bottom": null,
            "display": null,
            "flex": null,
            "flex_flow": null,
            "grid_area": null,
            "grid_auto_columns": null,
            "grid_auto_flow": null,
            "grid_auto_rows": null,
            "grid_column": null,
            "grid_gap": null,
            "grid_row": null,
            "grid_template_areas": null,
            "grid_template_columns": null,
            "grid_template_rows": null,
            "height": null,
            "justify_content": null,
            "justify_items": null,
            "left": null,
            "margin": null,
            "max_height": null,
            "max_width": null,
            "min_height": null,
            "min_width": null,
            "object_fit": null,
            "object_position": null,
            "order": null,
            "overflow": null,
            "overflow_x": null,
            "overflow_y": null,
            "padding": null,
            "right": null,
            "top": null,
            "visibility": null,
            "width": null
          }
        },
        "76ffb49618d14c2391615149813f7e6d": {
          "model_module": "@jupyter-widgets/controls",
          "model_name": "DescriptionStyleModel",
          "model_module_version": "1.5.0",
          "state": {
            "_model_module": "@jupyter-widgets/controls",
            "_model_module_version": "1.5.0",
            "_model_name": "DescriptionStyleModel",
            "_view_count": null,
            "_view_module": "@jupyter-widgets/base",
            "_view_module_version": "1.2.0",
            "_view_name": "StyleView",
            "description_width": ""
          }
        },
        "a90a44a1ea8f4053a1dc027cf118493d": {
          "model_module": "@jupyter-widgets/controls",
          "model_name": "HBoxModel",
          "model_module_version": "1.5.0",
          "state": {
            "_dom_classes": [],
            "_model_module": "@jupyter-widgets/controls",
            "_model_module_version": "1.5.0",
            "_model_name": "HBoxModel",
            "_view_count": null,
            "_view_module": "@jupyter-widgets/controls",
            "_view_module_version": "1.5.0",
            "_view_name": "HBoxView",
            "box_style": "",
            "children": [
              "IPY_MODEL_9822eeba747f4a7ebfce7c1e2cbe01fa",
              "IPY_MODEL_27606f13f2fb498aaa2458e22785c5c2",
              "IPY_MODEL_505355c7f909480096b3e6fcc7f9250f"
            ],
            "layout": "IPY_MODEL_35c46a7735ab408d89c5f07274d66622"
          }
        },
        "9822eeba747f4a7ebfce7c1e2cbe01fa": {
          "model_module": "@jupyter-widgets/controls",
          "model_name": "HTMLModel",
          "model_module_version": "1.5.0",
          "state": {
            "_dom_classes": [],
            "_model_module": "@jupyter-widgets/controls",
            "_model_module_version": "1.5.0",
            "_model_name": "HTMLModel",
            "_view_count": null,
            "_view_module": "@jupyter-widgets/controls",
            "_view_module_version": "1.5.0",
            "_view_name": "HTMLView",
            "description": "",
            "description_tooltip": null,
            "layout": "IPY_MODEL_16a835ef52d24fde8d35f5268b310518",
            "placeholder": "​",
            "style": "IPY_MODEL_c72dff4315854a6b97f7193a2a1e4f5f",
            "value": "Processing: 100%"
          }
        },
        "27606f13f2fb498aaa2458e22785c5c2": {
          "model_module": "@jupyter-widgets/controls",
          "model_name": "FloatProgressModel",
          "model_module_version": "1.5.0",
          "state": {
            "_dom_classes": [],
            "_model_module": "@jupyter-widgets/controls",
            "_model_module_version": "1.5.0",
            "_model_name": "FloatProgressModel",
            "_view_count": null,
            "_view_module": "@jupyter-widgets/controls",
            "_view_module_version": "1.5.0",
            "_view_name": "ProgressView",
            "bar_style": "",
            "description": "",
            "description_tooltip": null,
            "layout": "IPY_MODEL_0ce6af31420b4e04a3ac83fcb416603d",
            "max": 4,
            "min": 0,
            "orientation": "horizontal",
            "style": "IPY_MODEL_c6cd15d012ce429dbcc6ffdd8c82e998",
            "value": 4
          }
        },
        "505355c7f909480096b3e6fcc7f9250f": {
          "model_module": "@jupyter-widgets/controls",
          "model_name": "HTMLModel",
          "model_module_version": "1.5.0",
          "state": {
            "_dom_classes": [],
            "_model_module": "@jupyter-widgets/controls",
            "_model_module_version": "1.5.0",
            "_model_name": "HTMLModel",
            "_view_count": null,
            "_view_module": "@jupyter-widgets/controls",
            "_view_module_version": "1.5.0",
            "_view_name": "HTMLView",
            "description": "",
            "description_tooltip": null,
            "layout": "IPY_MODEL_1f852e89f58d4880b0ca5174e77d413a",
            "placeholder": "​",
            "style": "IPY_MODEL_d65af9050dcf4a5bb67cdc77ce968a38",
            "value": " 4/4 [00:01&lt;00:00,  2.74it/s]"
          }
        },
        "35c46a7735ab408d89c5f07274d66622": {
          "model_module": "@jupyter-widgets/base",
          "model_name": "LayoutModel",
          "model_module_version": "1.2.0",
          "state": {
            "_model_module": "@jupyter-widgets/base",
            "_model_module_version": "1.2.0",
            "_model_name": "LayoutModel",
            "_view_count": null,
            "_view_module": "@jupyter-widgets/base",
            "_view_module_version": "1.2.0",
            "_view_name": "LayoutView",
            "align_content": null,
            "align_items": null,
            "align_self": null,
            "border": null,
            "bottom": null,
            "display": null,
            "flex": null,
            "flex_flow": null,
            "grid_area": null,
            "grid_auto_columns": null,
            "grid_auto_flow": null,
            "grid_auto_rows": null,
            "grid_column": null,
            "grid_gap": null,
            "grid_row": null,
            "grid_template_areas": null,
            "grid_template_columns": null,
            "grid_template_rows": null,
            "height": null,
            "justify_content": null,
            "justify_items": null,
            "left": null,
            "margin": null,
            "max_height": null,
            "max_width": null,
            "min_height": null,
            "min_width": null,
            "object_fit": null,
            "object_position": null,
            "order": null,
            "overflow": null,
            "overflow_x": null,
            "overflow_y": null,
            "padding": null,
            "right": null,
            "top": null,
            "visibility": "hidden",
            "width": null
          }
        },
        "16a835ef52d24fde8d35f5268b310518": {
          "model_module": "@jupyter-widgets/base",
          "model_name": "LayoutModel",
          "model_module_version": "1.2.0",
          "state": {
            "_model_module": "@jupyter-widgets/base",
            "_model_module_version": "1.2.0",
            "_model_name": "LayoutModel",
            "_view_count": null,
            "_view_module": "@jupyter-widgets/base",
            "_view_module_version": "1.2.0",
            "_view_name": "LayoutView",
            "align_content": null,
            "align_items": null,
            "align_self": null,
            "border": null,
            "bottom": null,
            "display": null,
            "flex": null,
            "flex_flow": null,
            "grid_area": null,
            "grid_auto_columns": null,
            "grid_auto_flow": null,
            "grid_auto_rows": null,
            "grid_column": null,
            "grid_gap": null,
            "grid_row": null,
            "grid_template_areas": null,
            "grid_template_columns": null,
            "grid_template_rows": null,
            "height": null,
            "justify_content": null,
            "justify_items": null,
            "left": null,
            "margin": null,
            "max_height": null,
            "max_width": null,
            "min_height": null,
            "min_width": null,
            "object_fit": null,
            "object_position": null,
            "order": null,
            "overflow": null,
            "overflow_x": null,
            "overflow_y": null,
            "padding": null,
            "right": null,
            "top": null,
            "visibility": null,
            "width": null
          }
        },
        "c72dff4315854a6b97f7193a2a1e4f5f": {
          "model_module": "@jupyter-widgets/controls",
          "model_name": "DescriptionStyleModel",
          "model_module_version": "1.5.0",
          "state": {
            "_model_module": "@jupyter-widgets/controls",
            "_model_module_version": "1.5.0",
            "_model_name": "DescriptionStyleModel",
            "_view_count": null,
            "_view_module": "@jupyter-widgets/base",
            "_view_module_version": "1.2.0",
            "_view_name": "StyleView",
            "description_width": ""
          }
        },
        "0ce6af31420b4e04a3ac83fcb416603d": {
          "model_module": "@jupyter-widgets/base",
          "model_name": "LayoutModel",
          "model_module_version": "1.2.0",
          "state": {
            "_model_module": "@jupyter-widgets/base",
            "_model_module_version": "1.2.0",
            "_model_name": "LayoutModel",
            "_view_count": null,
            "_view_module": "@jupyter-widgets/base",
            "_view_module_version": "1.2.0",
            "_view_name": "LayoutView",
            "align_content": null,
            "align_items": null,
            "align_self": null,
            "border": null,
            "bottom": null,
            "display": null,
            "flex": null,
            "flex_flow": null,
            "grid_area": null,
            "grid_auto_columns": null,
            "grid_auto_flow": null,
            "grid_auto_rows": null,
            "grid_column": null,
            "grid_gap": null,
            "grid_row": null,
            "grid_template_areas": null,
            "grid_template_columns": null,
            "grid_template_rows": null,
            "height": null,
            "justify_content": null,
            "justify_items": null,
            "left": null,
            "margin": null,
            "max_height": null,
            "max_width": null,
            "min_height": null,
            "min_width": null,
            "object_fit": null,
            "object_position": null,
            "order": null,
            "overflow": null,
            "overflow_x": null,
            "overflow_y": null,
            "padding": null,
            "right": null,
            "top": null,
            "visibility": null,
            "width": null
          }
        },
        "c6cd15d012ce429dbcc6ffdd8c82e998": {
          "model_module": "@jupyter-widgets/controls",
          "model_name": "ProgressStyleModel",
          "model_module_version": "1.5.0",
          "state": {
            "_model_module": "@jupyter-widgets/controls",
            "_model_module_version": "1.5.0",
            "_model_name": "ProgressStyleModel",
            "_view_count": null,
            "_view_module": "@jupyter-widgets/base",
            "_view_module_version": "1.2.0",
            "_view_name": "StyleView",
            "bar_color": null,
            "description_width": ""
          }
        },
        "1f852e89f58d4880b0ca5174e77d413a": {
          "model_module": "@jupyter-widgets/base",
          "model_name": "LayoutModel",
          "model_module_version": "1.2.0",
          "state": {
            "_model_module": "@jupyter-widgets/base",
            "_model_module_version": "1.2.0",
            "_model_name": "LayoutModel",
            "_view_count": null,
            "_view_module": "@jupyter-widgets/base",
            "_view_module_version": "1.2.0",
            "_view_name": "LayoutView",
            "align_content": null,
            "align_items": null,
            "align_self": null,
            "border": null,
            "bottom": null,
            "display": null,
            "flex": null,
            "flex_flow": null,
            "grid_area": null,
            "grid_auto_columns": null,
            "grid_auto_flow": null,
            "grid_auto_rows": null,
            "grid_column": null,
            "grid_gap": null,
            "grid_row": null,
            "grid_template_areas": null,
            "grid_template_columns": null,
            "grid_template_rows": null,
            "height": null,
            "justify_content": null,
            "justify_items": null,
            "left": null,
            "margin": null,
            "max_height": null,
            "max_width": null,
            "min_height": null,
            "min_width": null,
            "object_fit": null,
            "object_position": null,
            "order": null,
            "overflow": null,
            "overflow_x": null,
            "overflow_y": null,
            "padding": null,
            "right": null,
            "top": null,
            "visibility": null,
            "width": null
          }
        },
        "d65af9050dcf4a5bb67cdc77ce968a38": {
          "model_module": "@jupyter-widgets/controls",
          "model_name": "DescriptionStyleModel",
          "model_module_version": "1.5.0",
          "state": {
            "_model_module": "@jupyter-widgets/controls",
            "_model_module_version": "1.5.0",
            "_model_name": "DescriptionStyleModel",
            "_view_count": null,
            "_view_module": "@jupyter-widgets/base",
            "_view_module_version": "1.2.0",
            "_view_name": "StyleView",
            "description_width": ""
          }
        },
        "fff31f72c608427f96bc6a50c4dd9cb0": {
          "model_module": "@jupyter-widgets/controls",
          "model_name": "VBoxModel",
          "model_module_version": "1.5.0",
          "state": {
            "_dom_classes": [
              "widget-interact"
            ],
            "_model_module": "@jupyter-widgets/controls",
            "_model_module_version": "1.5.0",
            "_model_name": "VBoxModel",
            "_view_count": null,
            "_view_module": "@jupyter-widgets/controls",
            "_view_module_version": "1.5.0",
            "_view_name": "VBoxView",
            "box_style": "",
            "children": [
              "IPY_MODEL_cfa0f400fb5d4009af8e4d268688f343",
              "IPY_MODEL_1121c03be4a6442780384b01c6c6028a"
            ],
            "layout": "IPY_MODEL_1453b70370e548778b17d9befb652e76"
          }
        },
        "cfa0f400fb5d4009af8e4d268688f343": {
          "model_module": "@jupyter-widgets/controls",
          "model_name": "ToggleButtonsModel",
          "model_module_version": "1.5.0",
          "state": {
            "_dom_classes": [],
            "_model_module": "@jupyter-widgets/controls",
            "_model_module_version": "1.5.0",
            "_model_name": "ToggleButtonsModel",
            "_options_labels": [
              "Pipeline Plot",
              "Hyperparameters",
              "Residuals",
              "Prediction Error",
              "Cooks Distance",
              "Feature Selection",
              "Learning Curve",
              "Manifold Learning",
              "Validation Curve",
              "Feature Importance",
              "Feature Importance (All)",
              "Decision Tree",
              "Interactive Residuals"
            ],
            "_view_count": null,
            "_view_module": "@jupyter-widgets/controls",
            "_view_module_version": "1.5.0",
            "_view_name": "ToggleButtonsView",
            "button_style": "",
            "description": "Plot Type:",
            "description_tooltip": null,
            "disabled": false,
            "icons": [
              ""
            ],
            "index": 0,
            "layout": "IPY_MODEL_402eee2989454221800fffdbd6b0b731",
            "style": "IPY_MODEL_96f59357e2314af7a990dd57a12fd15a",
            "tooltips": []
          }
        },
        "1121c03be4a6442780384b01c6c6028a": {
          "model_module": "@jupyter-widgets/output",
          "model_name": "OutputModel",
          "model_module_version": "1.0.0",
          "state": {
            "_dom_classes": [],
            "_model_module": "@jupyter-widgets/output",
            "_model_module_version": "1.0.0",
            "_model_name": "OutputModel",
            "_view_count": null,
            "_view_module": "@jupyter-widgets/output",
            "_view_module_version": "1.0.0",
            "_view_name": "OutputView",
            "layout": "IPY_MODEL_79e6acccab64410c92ae40d40fd6d4d6",
            "msg_id": "",
            "outputs": [
              {
                "output_type": "display_data",
                "data": {
                  "text/plain": "<Figure size 1700x600 with 1 Axes>",
                  "image/png": "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\n"
                },
                "metadata": {}
              }
            ]
          }
        },
        "1453b70370e548778b17d9befb652e76": {
          "model_module": "@jupyter-widgets/base",
          "model_name": "LayoutModel",
          "model_module_version": "1.2.0",
          "state": {
            "_model_module": "@jupyter-widgets/base",
            "_model_module_version": "1.2.0",
            "_model_name": "LayoutModel",
            "_view_count": null,
            "_view_module": "@jupyter-widgets/base",
            "_view_module_version": "1.2.0",
            "_view_name": "LayoutView",
            "align_content": null,
            "align_items": null,
            "align_self": null,
            "border": null,
            "bottom": null,
            "display": null,
            "flex": null,
            "flex_flow": null,
            "grid_area": null,
            "grid_auto_columns": null,
            "grid_auto_flow": null,
            "grid_auto_rows": null,
            "grid_column": null,
            "grid_gap": null,
            "grid_row": null,
            "grid_template_areas": null,
            "grid_template_columns": null,
            "grid_template_rows": null,
            "height": null,
            "justify_content": null,
            "justify_items": null,
            "left": null,
            "margin": null,
            "max_height": null,
            "max_width": null,
            "min_height": null,
            "min_width": null,
            "object_fit": null,
            "object_position": null,
            "order": null,
            "overflow": null,
            "overflow_x": null,
            "overflow_y": null,
            "padding": null,
            "right": null,
            "top": null,
            "visibility": null,
            "width": null
          }
        },
        "402eee2989454221800fffdbd6b0b731": {
          "model_module": "@jupyter-widgets/base",
          "model_name": "LayoutModel",
          "model_module_version": "1.2.0",
          "state": {
            "_model_module": "@jupyter-widgets/base",
            "_model_module_version": "1.2.0",
            "_model_name": "LayoutModel",
            "_view_count": null,
            "_view_module": "@jupyter-widgets/base",
            "_view_module_version": "1.2.0",
            "_view_name": "LayoutView",
            "align_content": null,
            "align_items": null,
            "align_self": null,
            "border": null,
            "bottom": null,
            "display": null,
            "flex": null,
            "flex_flow": null,
            "grid_area": null,
            "grid_auto_columns": null,
            "grid_auto_flow": null,
            "grid_auto_rows": null,
            "grid_column": null,
            "grid_gap": null,
            "grid_row": null,
            "grid_template_areas": null,
            "grid_template_columns": null,
            "grid_template_rows": null,
            "height": null,
            "justify_content": null,
            "justify_items": null,
            "left": null,
            "margin": null,
            "max_height": null,
            "max_width": null,
            "min_height": null,
            "min_width": null,
            "object_fit": null,
            "object_position": null,
            "order": null,
            "overflow": null,
            "overflow_x": null,
            "overflow_y": null,
            "padding": null,
            "right": null,
            "top": null,
            "visibility": null,
            "width": null
          }
        },
        "96f59357e2314af7a990dd57a12fd15a": {
          "model_module": "@jupyter-widgets/controls",
          "model_name": "ToggleButtonsStyleModel",
          "model_module_version": "1.5.0",
          "state": {
            "_model_module": "@jupyter-widgets/controls",
            "_model_module_version": "1.5.0",
            "_model_name": "ToggleButtonsStyleModel",
            "_view_count": null,
            "_view_module": "@jupyter-widgets/base",
            "_view_module_version": "1.2.0",
            "_view_name": "StyleView",
            "button_width": "",
            "description_width": "",
            "font_weight": ""
          }
        },
        "79e6acccab64410c92ae40d40fd6d4d6": {
          "model_module": "@jupyter-widgets/base",
          "model_name": "LayoutModel",
          "model_module_version": "1.2.0",
          "state": {
            "_model_module": "@jupyter-widgets/base",
            "_model_module_version": "1.2.0",
            "_model_name": "LayoutModel",
            "_view_count": null,
            "_view_module": "@jupyter-widgets/base",
            "_view_module_version": "1.2.0",
            "_view_name": "LayoutView",
            "align_content": null,
            "align_items": null,
            "align_self": null,
            "border": null,
            "bottom": null,
            "display": null,
            "flex": null,
            "flex_flow": null,
            "grid_area": null,
            "grid_auto_columns": null,
            "grid_auto_flow": null,
            "grid_auto_rows": null,
            "grid_column": null,
            "grid_gap": null,
            "grid_row": null,
            "grid_template_areas": null,
            "grid_template_columns": null,
            "grid_template_rows": null,
            "height": null,
            "justify_content": null,
            "justify_items": null,
            "left": null,
            "margin": null,
            "max_height": null,
            "max_width": null,
            "min_height": null,
            "min_width": null,
            "object_fit": null,
            "object_position": null,
            "order": null,
            "overflow": null,
            "overflow_x": null,
            "overflow_y": null,
            "padding": null,
            "right": null,
            "top": null,
            "visibility": null,
            "width": null
          }
        }
      }
    }
  },
  "cells": [
    {
      "cell_type": "code",
      "source": [
        "!pip install pycaret\n",
        "!pip install mlflow\n",
        "!pip install shap\n",
        "!pip install zoopt"
      ],
      "metadata": {
        "colab": {
          "base_uri": "https://localhost:8080/"
        },
        "id": "1Q-3AqYkrQbm",
        "outputId": "61713b8a-c93b-4602-b7c8-ca557f11d51b"
      },
      "execution_count": 1,
      "outputs": [
        {
          "output_type": "stream",
          "name": "stdout",
          "text": [
            "Collecting pycaret\n",
            "  Downloading pycaret-3.3.2-py3-none-any.whl (486 kB)\n",
            "\u001b[2K     \u001b[90m━━━━━━━━━━━━━━━━━━━━━━━━━━━━━━━━━━━━━━━━\u001b[0m \u001b[32m486.1/486.1 kB\u001b[0m \u001b[31m5.2 MB/s\u001b[0m eta \u001b[36m0:00:00\u001b[0m\n",
            "\u001b[?25hRequirement already satisfied: ipython>=5.5.0 in /usr/local/lib/python3.10/dist-packages (from pycaret) (7.34.0)\n",
            "Requirement already satisfied: ipywidgets>=7.6.5 in /usr/local/lib/python3.10/dist-packages (from pycaret) (7.7.1)\n",
            "Requirement already satisfied: tqdm>=4.62.0 in /usr/local/lib/python3.10/dist-packages (from pycaret) (4.66.4)\n",
            "Requirement already satisfied: numpy<1.27,>=1.21 in /usr/local/lib/python3.10/dist-packages (from pycaret) (1.25.2)\n",
            "Requirement already satisfied: pandas<2.2.0 in /usr/local/lib/python3.10/dist-packages (from pycaret) (2.0.3)\n",
            "Requirement already satisfied: jinja2>=3 in /usr/local/lib/python3.10/dist-packages (from pycaret) (3.1.3)\n",
            "Requirement already satisfied: scipy<=1.11.4,>=1.6.1 in /usr/local/lib/python3.10/dist-packages (from pycaret) (1.11.4)\n",
            "Collecting joblib<1.4,>=1.2.0 (from pycaret)\n",
            "  Downloading joblib-1.3.2-py3-none-any.whl (302 kB)\n",
            "\u001b[2K     \u001b[90m━━━━━━━━━━━━━━━━━━━━━━━━━━━━━━━━━━━━━━━━\u001b[0m \u001b[32m302.2/302.2 kB\u001b[0m \u001b[31m4.9 MB/s\u001b[0m eta \u001b[36m0:00:00\u001b[0m\n",
            "\u001b[?25hCollecting scikit-learn>1.4.0 (from pycaret)\n",
            "  Downloading scikit_learn-1.4.2-cp310-cp310-manylinux_2_17_x86_64.manylinux2014_x86_64.whl (12.1 MB)\n",
            "\u001b[2K     \u001b[90m━━━━━━━━━━━━━━━━━━━━━━━━━━━━━━━━━━━━━━━━\u001b[0m \u001b[32m12.1/12.1 MB\u001b[0m \u001b[31m16.2 MB/s\u001b[0m eta \u001b[36m0:00:00\u001b[0m\n",
            "\u001b[?25hCollecting pyod>=1.1.3 (from pycaret)\n",
            "  Downloading pyod-1.1.3.tar.gz (160 kB)\n",
            "\u001b[2K     \u001b[90m━━━━━━━━━━━━━━━━━━━━━━━━━━━━━━━━━━━━━━━━\u001b[0m \u001b[32m160.5/160.5 kB\u001b[0m \u001b[31m5.3 MB/s\u001b[0m eta \u001b[36m0:00:00\u001b[0m\n",
            "\u001b[?25h  Preparing metadata (setup.py) ... \u001b[?25l\u001b[?25hdone\n",
            "Collecting imbalanced-learn>=0.12.0 (from pycaret)\n",
            "  Downloading imbalanced_learn-0.12.2-py3-none-any.whl (257 kB)\n",
            "\u001b[2K     \u001b[90m━━━━━━━━━━━━━━━━━━━━━━━━━━━━━━━━━━━━━━━━\u001b[0m \u001b[32m258.0/258.0 kB\u001b[0m \u001b[31m11.1 MB/s\u001b[0m eta \u001b[36m0:00:00\u001b[0m\n",
            "\u001b[?25hCollecting category-encoders>=2.4.0 (from pycaret)\n",
            "  Downloading category_encoders-2.6.3-py2.py3-none-any.whl (81 kB)\n",
            "\u001b[2K     \u001b[90m━━━━━━━━━━━━━━━━━━━━━━━━━━━━━━━━━━━━━━━━\u001b[0m \u001b[32m81.9/81.9 kB\u001b[0m \u001b[31m4.8 MB/s\u001b[0m eta \u001b[36m0:00:00\u001b[0m\n",
            "\u001b[?25hRequirement already satisfied: lightgbm>=3.0.0 in /usr/local/lib/python3.10/dist-packages (from pycaret) (4.1.0)\n",
            "Requirement already satisfied: numba>=0.55.0 in /usr/local/lib/python3.10/dist-packages (from pycaret) (0.58.1)\n",
            "Requirement already satisfied: requests>=2.27.1 in /usr/local/lib/python3.10/dist-packages (from pycaret) (2.31.0)\n",
            "Requirement already satisfied: psutil>=5.9.0 in /usr/local/lib/python3.10/dist-packages (from pycaret) (5.9.5)\n",
            "Requirement already satisfied: markupsafe>=2.0.1 in /usr/local/lib/python3.10/dist-packages (from pycaret) (2.1.5)\n",
            "Requirement already satisfied: importlib-metadata>=4.12.0 in /usr/local/lib/python3.10/dist-packages (from pycaret) (7.1.0)\n",
            "Requirement already satisfied: nbformat>=4.2.0 in /usr/local/lib/python3.10/dist-packages (from pycaret) (5.10.4)\n",
            "Requirement already satisfied: cloudpickle in /usr/local/lib/python3.10/dist-packages (from pycaret) (2.2.1)\n",
            "Collecting deprecation>=2.1.0 (from pycaret)\n",
            "  Downloading deprecation-2.1.0-py2.py3-none-any.whl (11 kB)\n",
            "Collecting xxhash (from pycaret)\n",
            "  Downloading xxhash-3.4.1-cp310-cp310-manylinux_2_17_x86_64.manylinux2014_x86_64.whl (194 kB)\n",
            "\u001b[2K     \u001b[90m━━━━━━━━━━━━━━━━━━━━━━━━━━━━━━━━━━━━━━━━\u001b[0m \u001b[32m194.1/194.1 kB\u001b[0m \u001b[31m7.6 MB/s\u001b[0m eta \u001b[36m0:00:00\u001b[0m\n",
            "\u001b[?25hRequirement already satisfied: matplotlib<3.8.0 in /usr/local/lib/python3.10/dist-packages (from pycaret) (3.7.1)\n",
            "Collecting scikit-plot>=0.3.7 (from pycaret)\n",
            "  Downloading scikit_plot-0.3.7-py3-none-any.whl (33 kB)\n",
            "Requirement already satisfied: yellowbrick>=1.4 in /usr/local/lib/python3.10/dist-packages (from pycaret) (1.5)\n",
            "Requirement already satisfied: plotly>=5.14.0 in /usr/local/lib/python3.10/dist-packages (from pycaret) (5.15.0)\n",
            "Collecting kaleido>=0.2.1 (from pycaret)\n",
            "  Downloading kaleido-0.2.1-py2.py3-none-manylinux1_x86_64.whl (79.9 MB)\n",
            "\u001b[2K     \u001b[90m━━━━━━━━━━━━━━━━━━━━━━━━━━━━━━━━━━━━━━━━\u001b[0m \u001b[32m79.9/79.9 MB\u001b[0m \u001b[31m6.6 MB/s\u001b[0m eta \u001b[36m0:00:00\u001b[0m\n",
            "\u001b[?25hCollecting schemdraw==0.15 (from pycaret)\n",
            "  Downloading schemdraw-0.15-py3-none-any.whl (106 kB)\n",
            "\u001b[2K     \u001b[90m━━━━━━━━━━━━━━━━━━━━━━━━━━━━━━━━━━━━━━━━\u001b[0m \u001b[32m106.8/106.8 kB\u001b[0m \u001b[31m2.6 MB/s\u001b[0m eta \u001b[36m0:00:00\u001b[0m\n",
            "\u001b[?25hCollecting plotly-resampler>=0.8.3.1 (from pycaret)\n",
            "  Downloading plotly_resampler-0.10.0-py3-none-any.whl (80 kB)\n",
            "\u001b[2K     \u001b[90m━━━━━━━━━━━━━━━━━━━━━━━━━━━━━━━━━━━━━━━━\u001b[0m \u001b[32m80.7/80.7 kB\u001b[0m \u001b[31m3.0 MB/s\u001b[0m eta \u001b[36m0:00:00\u001b[0m\n",
            "\u001b[?25hRequirement already satisfied: statsmodels>=0.12.1 in /usr/local/lib/python3.10/dist-packages (from pycaret) (0.14.2)\n",
            "Collecting sktime==0.26.0 (from pycaret)\n",
            "  Downloading sktime-0.26.0-py3-none-any.whl (21.8 MB)\n",
            "\u001b[2K     \u001b[90m━━━━━━━━━━━━━━━━━━━━━━━━━━━━━━━━━━━━━━━━\u001b[0m \u001b[32m21.8/21.8 MB\u001b[0m \u001b[31m19.3 MB/s\u001b[0m eta \u001b[36m0:00:00\u001b[0m\n",
            "\u001b[?25hCollecting tbats>=1.1.3 (from pycaret)\n",
            "  Downloading tbats-1.1.3-py3-none-any.whl (44 kB)\n",
            "\u001b[2K     \u001b[90m━━━━━━━━━━━━━━━━━━━━━━━━━━━━━━━━━━━━━━━━\u001b[0m \u001b[32m44.0/44.0 kB\u001b[0m \u001b[31m2.5 MB/s\u001b[0m eta \u001b[36m0:00:00\u001b[0m\n",
            "\u001b[?25hCollecting pmdarima>=2.0.4 (from pycaret)\n",
            "  Downloading pmdarima-2.0.4-cp310-cp310-manylinux_2_17_x86_64.manylinux2014_x86_64.manylinux_2_28_x86_64.whl (2.1 MB)\n",
            "\u001b[2K     \u001b[90m━━━━━━━━━━━━━━━━━━━━━━━━━━━━━━━━━━━━━━━━\u001b[0m \u001b[32m2.1/2.1 MB\u001b[0m \u001b[31m19.8 MB/s\u001b[0m eta \u001b[36m0:00:00\u001b[0m\n",
            "\u001b[?25hCollecting wurlitzer (from pycaret)\n",
            "  Downloading wurlitzer-3.1.0-py3-none-any.whl (8.4 kB)\n",
            "Requirement already satisfied: packaging in /usr/local/lib/python3.10/dist-packages (from sktime==0.26.0->pycaret) (24.0)\n",
            "Collecting scikit-base<0.8.0 (from sktime==0.26.0->pycaret)\n",
            "  Downloading scikit_base-0.7.7-py3-none-any.whl (129 kB)\n",
            "\u001b[2K     \u001b[90m━━━━━━━━━━━━━━━━━━━━━━━━━━━━━━━━━━━━━━━━\u001b[0m \u001b[32m129.9/129.9 kB\u001b[0m \u001b[31m9.7 MB/s\u001b[0m eta \u001b[36m0:00:00\u001b[0m\n",
            "\u001b[?25hRequirement already satisfied: patsy>=0.5.1 in /usr/local/lib/python3.10/dist-packages (from category-encoders>=2.4.0->pycaret) (0.5.6)\n",
            "Requirement already satisfied: threadpoolctl>=2.0.0 in /usr/local/lib/python3.10/dist-packages (from imbalanced-learn>=0.12.0->pycaret) (3.5.0)\n",
            "Requirement already satisfied: zipp>=0.5 in /usr/local/lib/python3.10/dist-packages (from importlib-metadata>=4.12.0->pycaret) (3.18.1)\n",
            "Requirement already satisfied: setuptools>=18.5 in /usr/local/lib/python3.10/dist-packages (from ipython>=5.5.0->pycaret) (67.7.2)\n",
            "Collecting jedi>=0.16 (from ipython>=5.5.0->pycaret)\n",
            "  Downloading jedi-0.19.1-py2.py3-none-any.whl (1.6 MB)\n",
            "\u001b[2K     \u001b[90m━━━━━━━━━━━━━━━━━━━━━━━━━━━━━━━━━━━━━━━━\u001b[0m \u001b[32m1.6/1.6 MB\u001b[0m \u001b[31m20.7 MB/s\u001b[0m eta \u001b[36m0:00:00\u001b[0m\n",
            "\u001b[?25hRequirement already satisfied: decorator in /usr/local/lib/python3.10/dist-packages (from ipython>=5.5.0->pycaret) (4.4.2)\n",
            "Requirement already satisfied: pickleshare in /usr/local/lib/python3.10/dist-packages (from ipython>=5.5.0->pycaret) (0.7.5)\n",
            "Requirement already satisfied: traitlets>=4.2 in /usr/local/lib/python3.10/dist-packages (from ipython>=5.5.0->pycaret) (5.7.1)\n",
            "Requirement already satisfied: prompt-toolkit!=3.0.0,!=3.0.1,<3.1.0,>=2.0.0 in /usr/local/lib/python3.10/dist-packages (from ipython>=5.5.0->pycaret) (3.0.43)\n",
            "Requirement already satisfied: pygments in /usr/local/lib/python3.10/dist-packages (from ipython>=5.5.0->pycaret) (2.16.1)\n",
            "Requirement already satisfied: backcall in /usr/local/lib/python3.10/dist-packages (from ipython>=5.5.0->pycaret) (0.2.0)\n",
            "Requirement already satisfied: matplotlib-inline in /usr/local/lib/python3.10/dist-packages (from ipython>=5.5.0->pycaret) (0.1.7)\n",
            "Requirement already satisfied: pexpect>4.3 in /usr/local/lib/python3.10/dist-packages (from ipython>=5.5.0->pycaret) (4.9.0)\n",
            "Requirement already satisfied: ipykernel>=4.5.1 in /usr/local/lib/python3.10/dist-packages (from ipywidgets>=7.6.5->pycaret) (5.5.6)\n",
            "Requirement already satisfied: ipython-genutils~=0.2.0 in /usr/local/lib/python3.10/dist-packages (from ipywidgets>=7.6.5->pycaret) (0.2.0)\n",
            "Requirement already satisfied: widgetsnbextension~=3.6.0 in /usr/local/lib/python3.10/dist-packages (from ipywidgets>=7.6.5->pycaret) (3.6.6)\n",
            "Requirement already satisfied: jupyterlab-widgets>=1.0.0 in /usr/local/lib/python3.10/dist-packages (from ipywidgets>=7.6.5->pycaret) (3.0.10)\n",
            "Requirement already satisfied: contourpy>=1.0.1 in /usr/local/lib/python3.10/dist-packages (from matplotlib<3.8.0->pycaret) (1.2.1)\n",
            "Requirement already satisfied: cycler>=0.10 in /usr/local/lib/python3.10/dist-packages (from matplotlib<3.8.0->pycaret) (0.12.1)\n",
            "Requirement already satisfied: fonttools>=4.22.0 in /usr/local/lib/python3.10/dist-packages (from matplotlib<3.8.0->pycaret) (4.51.0)\n",
            "Requirement already satisfied: kiwisolver>=1.0.1 in /usr/local/lib/python3.10/dist-packages (from matplotlib<3.8.0->pycaret) (1.4.5)\n",
            "Requirement already satisfied: pillow>=6.2.0 in /usr/local/lib/python3.10/dist-packages (from matplotlib<3.8.0->pycaret) (9.4.0)\n",
            "Requirement already satisfied: pyparsing>=2.3.1 in /usr/local/lib/python3.10/dist-packages (from matplotlib<3.8.0->pycaret) (3.1.2)\n",
            "Requirement already satisfied: python-dateutil>=2.7 in /usr/local/lib/python3.10/dist-packages (from matplotlib<3.8.0->pycaret) (2.8.2)\n",
            "Requirement already satisfied: fastjsonschema>=2.15 in /usr/local/lib/python3.10/dist-packages (from nbformat>=4.2.0->pycaret) (2.19.1)\n",
            "Requirement already satisfied: jsonschema>=2.6 in /usr/local/lib/python3.10/dist-packages (from nbformat>=4.2.0->pycaret) (4.19.2)\n",
            "Requirement already satisfied: jupyter-core!=5.0.*,>=4.12 in /usr/local/lib/python3.10/dist-packages (from nbformat>=4.2.0->pycaret) (5.7.2)\n",
            "Requirement already satisfied: llvmlite<0.42,>=0.41.0dev0 in /usr/local/lib/python3.10/dist-packages (from numba>=0.55.0->pycaret) (0.41.1)\n",
            "Requirement already satisfied: pytz>=2020.1 in /usr/local/lib/python3.10/dist-packages (from pandas<2.2.0->pycaret) (2023.4)\n",
            "Requirement already satisfied: tzdata>=2022.1 in /usr/local/lib/python3.10/dist-packages (from pandas<2.2.0->pycaret) (2024.1)\n",
            "Requirement already satisfied: tenacity>=6.2.0 in /usr/local/lib/python3.10/dist-packages (from plotly>=5.14.0->pycaret) (8.2.3)\n",
            "Collecting dash>=2.9.0 (from plotly-resampler>=0.8.3.1->pycaret)\n",
            "  Downloading dash-2.17.0-py3-none-any.whl (7.5 MB)\n",
            "\u001b[2K     \u001b[90m━━━━━━━━━━━━━━━━━━━━━━━━━━━━━━━━━━━━━━━━\u001b[0m \u001b[32m7.5/7.5 MB\u001b[0m \u001b[31m25.1 MB/s\u001b[0m eta \u001b[36m0:00:00\u001b[0m\n",
            "\u001b[?25hCollecting orjson<4.0.0,>=3.8.0 (from plotly-resampler>=0.8.3.1->pycaret)\n",
            "  Downloading orjson-3.10.3-cp310-cp310-manylinux_2_17_x86_64.manylinux2014_x86_64.whl (142 kB)\n",
            "\u001b[2K     \u001b[90m━━━━━━━━━━━━━━━━━━━━━━━━━━━━━━━━━━━━━━━━\u001b[0m \u001b[32m142.5/142.5 kB\u001b[0m \u001b[31m3.4 MB/s\u001b[0m eta \u001b[36m0:00:00\u001b[0m\n",
            "\u001b[?25hCollecting tsdownsample>=0.1.3 (from plotly-resampler>=0.8.3.1->pycaret)\n",
            "  Downloading tsdownsample-0.1.3-cp310-cp310-manylinux_2_17_x86_64.manylinux2014_x86_64.whl (2.1 MB)\n",
            "\u001b[2K     \u001b[90m━━━━━━━━━━━━━━━━━━━━━━━━━━━━━━━━━━━━━━━━\u001b[0m \u001b[32m2.1/2.1 MB\u001b[0m \u001b[31m39.4 MB/s\u001b[0m eta \u001b[36m0:00:00\u001b[0m\n",
            "\u001b[?25hRequirement already satisfied: Cython!=0.29.18,!=0.29.31,>=0.29 in /usr/local/lib/python3.10/dist-packages (from pmdarima>=2.0.4->pycaret) (3.0.10)\n",
            "Requirement already satisfied: urllib3 in /usr/local/lib/python3.10/dist-packages (from pmdarima>=2.0.4->pycaret) (2.0.7)\n",
            "Requirement already satisfied: six in /usr/local/lib/python3.10/dist-packages (from pyod>=1.1.3->pycaret) (1.16.0)\n",
            "Requirement already satisfied: charset-normalizer<4,>=2 in /usr/local/lib/python3.10/dist-packages (from requests>=2.27.1->pycaret) (3.3.2)\n",
            "Requirement already satisfied: idna<4,>=2.5 in /usr/local/lib/python3.10/dist-packages (from requests>=2.27.1->pycaret) (3.7)\n",
            "Requirement already satisfied: certifi>=2017.4.17 in /usr/local/lib/python3.10/dist-packages (from requests>=2.27.1->pycaret) (2024.2.2)\n",
            "Requirement already satisfied: Flask<3.1,>=1.0.4 in /usr/local/lib/python3.10/dist-packages (from dash>=2.9.0->plotly-resampler>=0.8.3.1->pycaret) (2.2.5)\n",
            "Requirement already satisfied: Werkzeug<3.1 in /usr/local/lib/python3.10/dist-packages (from dash>=2.9.0->plotly-resampler>=0.8.3.1->pycaret) (3.0.2)\n",
            "Collecting dash-html-components==2.0.0 (from dash>=2.9.0->plotly-resampler>=0.8.3.1->pycaret)\n",
            "  Downloading dash_html_components-2.0.0-py3-none-any.whl (4.1 kB)\n",
            "Collecting dash-core-components==2.0.0 (from dash>=2.9.0->plotly-resampler>=0.8.3.1->pycaret)\n",
            "  Downloading dash_core_components-2.0.0-py3-none-any.whl (3.8 kB)\n",
            "Collecting dash-table==5.0.0 (from dash>=2.9.0->plotly-resampler>=0.8.3.1->pycaret)\n",
            "  Downloading dash_table-5.0.0-py3-none-any.whl (3.9 kB)\n",
            "Requirement already satisfied: typing-extensions>=4.1.1 in /usr/local/lib/python3.10/dist-packages (from dash>=2.9.0->plotly-resampler>=0.8.3.1->pycaret) (4.11.0)\n",
            "Collecting retrying (from dash>=2.9.0->plotly-resampler>=0.8.3.1->pycaret)\n",
            "  Downloading retrying-1.3.4-py3-none-any.whl (11 kB)\n",
            "Requirement already satisfied: nest-asyncio in /usr/local/lib/python3.10/dist-packages (from dash>=2.9.0->plotly-resampler>=0.8.3.1->pycaret) (1.6.0)\n",
            "Requirement already satisfied: jupyter-client in /usr/local/lib/python3.10/dist-packages (from ipykernel>=4.5.1->ipywidgets>=7.6.5->pycaret) (6.1.12)\n",
            "Requirement already satisfied: tornado>=4.2 in /usr/local/lib/python3.10/dist-packages (from ipykernel>=4.5.1->ipywidgets>=7.6.5->pycaret) (6.3.3)\n",
            "Requirement already satisfied: parso<0.9.0,>=0.8.3 in /usr/local/lib/python3.10/dist-packages (from jedi>=0.16->ipython>=5.5.0->pycaret) (0.8.4)\n",
            "Requirement already satisfied: attrs>=22.2.0 in /usr/local/lib/python3.10/dist-packages (from jsonschema>=2.6->nbformat>=4.2.0->pycaret) (23.2.0)\n",
            "Requirement already satisfied: jsonschema-specifications>=2023.03.6 in /usr/local/lib/python3.10/dist-packages (from jsonschema>=2.6->nbformat>=4.2.0->pycaret) (2023.12.1)\n",
            "Requirement already satisfied: referencing>=0.28.4 in /usr/local/lib/python3.10/dist-packages (from jsonschema>=2.6->nbformat>=4.2.0->pycaret) (0.35.1)\n",
            "Requirement already satisfied: rpds-py>=0.7.1 in /usr/local/lib/python3.10/dist-packages (from jsonschema>=2.6->nbformat>=4.2.0->pycaret) (0.18.0)\n",
            "Requirement already satisfied: platformdirs>=2.5 in /usr/local/lib/python3.10/dist-packages (from jupyter-core!=5.0.*,>=4.12->nbformat>=4.2.0->pycaret) (4.2.1)\n",
            "Requirement already satisfied: ptyprocess>=0.5 in /usr/local/lib/python3.10/dist-packages (from pexpect>4.3->ipython>=5.5.0->pycaret) (0.7.0)\n",
            "Requirement already satisfied: wcwidth in /usr/local/lib/python3.10/dist-packages (from prompt-toolkit!=3.0.0,!=3.0.1,<3.1.0,>=2.0.0->ipython>=5.5.0->pycaret) (0.2.13)\n",
            "Requirement already satisfied: notebook>=4.4.1 in /usr/local/lib/python3.10/dist-packages (from widgetsnbextension~=3.6.0->ipywidgets>=7.6.5->pycaret) (6.5.5)\n",
            "Requirement already satisfied: itsdangerous>=2.0 in /usr/local/lib/python3.10/dist-packages (from Flask<3.1,>=1.0.4->dash>=2.9.0->plotly-resampler>=0.8.3.1->pycaret) (2.2.0)\n",
            "Requirement already satisfied: click>=8.0 in /usr/local/lib/python3.10/dist-packages (from Flask<3.1,>=1.0.4->dash>=2.9.0->plotly-resampler>=0.8.3.1->pycaret) (8.1.7)\n",
            "Requirement already satisfied: pyzmq<25,>=17 in /usr/local/lib/python3.10/dist-packages (from notebook>=4.4.1->widgetsnbextension~=3.6.0->ipywidgets>=7.6.5->pycaret) (24.0.1)\n",
            "Requirement already satisfied: argon2-cffi in /usr/local/lib/python3.10/dist-packages (from notebook>=4.4.1->widgetsnbextension~=3.6.0->ipywidgets>=7.6.5->pycaret) (23.1.0)\n",
            "Requirement already satisfied: nbconvert>=5 in /usr/local/lib/python3.10/dist-packages (from notebook>=4.4.1->widgetsnbextension~=3.6.0->ipywidgets>=7.6.5->pycaret) (6.5.4)\n",
            "Requirement already satisfied: Send2Trash>=1.8.0 in /usr/local/lib/python3.10/dist-packages (from notebook>=4.4.1->widgetsnbextension~=3.6.0->ipywidgets>=7.6.5->pycaret) (1.8.3)\n",
            "Requirement already satisfied: terminado>=0.8.3 in /usr/local/lib/python3.10/dist-packages (from notebook>=4.4.1->widgetsnbextension~=3.6.0->ipywidgets>=7.6.5->pycaret) (0.18.1)\n",
            "Requirement already satisfied: prometheus-client in /usr/local/lib/python3.10/dist-packages (from notebook>=4.4.1->widgetsnbextension~=3.6.0->ipywidgets>=7.6.5->pycaret) (0.20.0)\n",
            "Requirement already satisfied: nbclassic>=0.4.7 in /usr/local/lib/python3.10/dist-packages (from notebook>=4.4.1->widgetsnbextension~=3.6.0->ipywidgets>=7.6.5->pycaret) (1.0.0)\n",
            "Requirement already satisfied: jupyter-server>=1.8 in /usr/local/lib/python3.10/dist-packages (from nbclassic>=0.4.7->notebook>=4.4.1->widgetsnbextension~=3.6.0->ipywidgets>=7.6.5->pycaret) (1.24.0)\n",
            "Requirement already satisfied: notebook-shim>=0.2.3 in /usr/local/lib/python3.10/dist-packages (from nbclassic>=0.4.7->notebook>=4.4.1->widgetsnbextension~=3.6.0->ipywidgets>=7.6.5->pycaret) (0.2.4)\n",
            "Requirement already satisfied: lxml in /usr/local/lib/python3.10/dist-packages (from nbconvert>=5->notebook>=4.4.1->widgetsnbextension~=3.6.0->ipywidgets>=7.6.5->pycaret) (4.9.4)\n",
            "Requirement already satisfied: beautifulsoup4 in /usr/local/lib/python3.10/dist-packages (from nbconvert>=5->notebook>=4.4.1->widgetsnbextension~=3.6.0->ipywidgets>=7.6.5->pycaret) (4.12.3)\n",
            "Requirement already satisfied: bleach in /usr/local/lib/python3.10/dist-packages (from nbconvert>=5->notebook>=4.4.1->widgetsnbextension~=3.6.0->ipywidgets>=7.6.5->pycaret) (6.1.0)\n",
            "Requirement already satisfied: defusedxml in /usr/local/lib/python3.10/dist-packages (from nbconvert>=5->notebook>=4.4.1->widgetsnbextension~=3.6.0->ipywidgets>=7.6.5->pycaret) (0.7.1)\n",
            "Requirement already satisfied: entrypoints>=0.2.2 in /usr/local/lib/python3.10/dist-packages (from nbconvert>=5->notebook>=4.4.1->widgetsnbextension~=3.6.0->ipywidgets>=7.6.5->pycaret) (0.4)\n",
            "Requirement already satisfied: jupyterlab-pygments in /usr/local/lib/python3.10/dist-packages (from nbconvert>=5->notebook>=4.4.1->widgetsnbextension~=3.6.0->ipywidgets>=7.6.5->pycaret) (0.3.0)\n",
            "Requirement already satisfied: mistune<2,>=0.8.1 in /usr/local/lib/python3.10/dist-packages (from nbconvert>=5->notebook>=4.4.1->widgetsnbextension~=3.6.0->ipywidgets>=7.6.5->pycaret) (0.8.4)\n",
            "Requirement already satisfied: nbclient>=0.5.0 in /usr/local/lib/python3.10/dist-packages (from nbconvert>=5->notebook>=4.4.1->widgetsnbextension~=3.6.0->ipywidgets>=7.6.5->pycaret) (0.10.0)\n",
            "Requirement already satisfied: pandocfilters>=1.4.1 in /usr/local/lib/python3.10/dist-packages (from nbconvert>=5->notebook>=4.4.1->widgetsnbextension~=3.6.0->ipywidgets>=7.6.5->pycaret) (1.5.1)\n",
            "Requirement already satisfied: tinycss2 in /usr/local/lib/python3.10/dist-packages (from nbconvert>=5->notebook>=4.4.1->widgetsnbextension~=3.6.0->ipywidgets>=7.6.5->pycaret) (1.3.0)\n",
            "Requirement already satisfied: argon2-cffi-bindings in /usr/local/lib/python3.10/dist-packages (from argon2-cffi->notebook>=4.4.1->widgetsnbextension~=3.6.0->ipywidgets>=7.6.5->pycaret) (21.2.0)\n",
            "Requirement already satisfied: anyio<4,>=3.1.0 in /usr/local/lib/python3.10/dist-packages (from jupyter-server>=1.8->nbclassic>=0.4.7->notebook>=4.4.1->widgetsnbextension~=3.6.0->ipywidgets>=7.6.5->pycaret) (3.7.1)\n",
            "Requirement already satisfied: websocket-client in /usr/local/lib/python3.10/dist-packages (from jupyter-server>=1.8->nbclassic>=0.4.7->notebook>=4.4.1->widgetsnbextension~=3.6.0->ipywidgets>=7.6.5->pycaret) (1.8.0)\n",
            "Requirement already satisfied: cffi>=1.0.1 in /usr/local/lib/python3.10/dist-packages (from argon2-cffi-bindings->argon2-cffi->notebook>=4.4.1->widgetsnbextension~=3.6.0->ipywidgets>=7.6.5->pycaret) (1.16.0)\n",
            "Requirement already satisfied: soupsieve>1.2 in /usr/local/lib/python3.10/dist-packages (from beautifulsoup4->nbconvert>=5->notebook>=4.4.1->widgetsnbextension~=3.6.0->ipywidgets>=7.6.5->pycaret) (2.5)\n",
            "Requirement already satisfied: webencodings in /usr/local/lib/python3.10/dist-packages (from bleach->nbconvert>=5->notebook>=4.4.1->widgetsnbextension~=3.6.0->ipywidgets>=7.6.5->pycaret) (0.5.1)\n",
            "Requirement already satisfied: sniffio>=1.1 in /usr/local/lib/python3.10/dist-packages (from anyio<4,>=3.1.0->jupyter-server>=1.8->nbclassic>=0.4.7->notebook>=4.4.1->widgetsnbextension~=3.6.0->ipywidgets>=7.6.5->pycaret) (1.3.1)\n",
            "Requirement already satisfied: exceptiongroup in /usr/local/lib/python3.10/dist-packages (from anyio<4,>=3.1.0->jupyter-server>=1.8->nbclassic>=0.4.7->notebook>=4.4.1->widgetsnbextension~=3.6.0->ipywidgets>=7.6.5->pycaret) (1.2.1)\n",
            "Requirement already satisfied: pycparser in /usr/local/lib/python3.10/dist-packages (from cffi>=1.0.1->argon2-cffi-bindings->argon2-cffi->notebook>=4.4.1->widgetsnbextension~=3.6.0->ipywidgets>=7.6.5->pycaret) (2.22)\n",
            "Building wheels for collected packages: pyod\n",
            "  Building wheel for pyod (setup.py) ... \u001b[?25l\u001b[?25hdone\n",
            "  Created wheel for pyod: filename=pyod-1.1.3-py3-none-any.whl size=190250 sha256=6a2b71ba3e21e7a2b70955542ea843df52a9ca80d969cf54eb486273e983cc37\n",
            "  Stored in directory: /root/.cache/pip/wheels/05/f8/db/124d43bec122d6ec0ab3713fadfe25ebed8af52ec561682b4e\n",
            "Successfully built pyod\n",
            "Installing collected packages: kaleido, dash-table, dash-html-components, dash-core-components, xxhash, wurlitzer, tsdownsample, scikit-base, schemdraw, retrying, orjson, joblib, jedi, deprecation, scikit-learn, sktime, scikit-plot, pyod, imbalanced-learn, dash, pmdarima, plotly-resampler, category-encoders, tbats, pycaret\n",
            "  Attempting uninstall: joblib\n",
            "    Found existing installation: joblib 1.4.2\n",
            "    Uninstalling joblib-1.4.2:\n",
            "      Successfully uninstalled joblib-1.4.2\n",
            "  Attempting uninstall: scikit-learn\n",
            "    Found existing installation: scikit-learn 1.2.2\n",
            "    Uninstalling scikit-learn-1.2.2:\n",
            "      Successfully uninstalled scikit-learn-1.2.2\n",
            "  Attempting uninstall: imbalanced-learn\n",
            "    Found existing installation: imbalanced-learn 0.10.1\n",
            "    Uninstalling imbalanced-learn-0.10.1:\n",
            "      Successfully uninstalled imbalanced-learn-0.10.1\n",
            "Successfully installed category-encoders-2.6.3 dash-2.17.0 dash-core-components-2.0.0 dash-html-components-2.0.0 dash-table-5.0.0 deprecation-2.1.0 imbalanced-learn-0.12.2 jedi-0.19.1 joblib-1.3.2 kaleido-0.2.1 orjson-3.10.3 plotly-resampler-0.10.0 pmdarima-2.0.4 pycaret-3.3.2 pyod-1.1.3 retrying-1.3.4 schemdraw-0.15 scikit-base-0.7.7 scikit-learn-1.4.2 scikit-plot-0.3.7 sktime-0.26.0 tbats-1.1.3 tsdownsample-0.1.3 wurlitzer-3.1.0 xxhash-3.4.1\n",
            "Collecting mlflow\n",
            "  Downloading mlflow-2.12.1-py3-none-any.whl (20.2 MB)\n",
            "\u001b[2K     \u001b[90m━━━━━━━━━━━━━━━━━━━━━━━━━━━━━━━━━━━━━━━━\u001b[0m \u001b[32m20.2/20.2 MB\u001b[0m \u001b[31m36.0 MB/s\u001b[0m eta \u001b[36m0:00:00\u001b[0m\n",
            "\u001b[?25hRequirement already satisfied: Flask<4 in /usr/local/lib/python3.10/dist-packages (from mlflow) (2.2.5)\n",
            "Collecting alembic!=1.10.0,<2 (from mlflow)\n",
            "  Downloading alembic-1.13.1-py3-none-any.whl (233 kB)\n",
            "\u001b[2K     \u001b[90m━━━━━━━━━━━━━━━━━━━━━━━━━━━━━━━━━━━━━━━━\u001b[0m \u001b[32m233.4/233.4 kB\u001b[0m \u001b[31m21.9 MB/s\u001b[0m eta \u001b[36m0:00:00\u001b[0m\n",
            "\u001b[?25hRequirement already satisfied: click<9,>=7.0 in /usr/local/lib/python3.10/dist-packages (from mlflow) (8.1.7)\n",
            "Requirement already satisfied: cloudpickle<4 in /usr/local/lib/python3.10/dist-packages (from mlflow) (2.2.1)\n",
            "Collecting docker<8,>=4.0.0 (from mlflow)\n",
            "  Downloading docker-7.0.0-py3-none-any.whl (147 kB)\n",
            "\u001b[2K     \u001b[90m━━━━━━━━━━━━━━━━━━━━━━━━━━━━━━━━━━━━━━━━\u001b[0m \u001b[32m147.6/147.6 kB\u001b[0m \u001b[31m15.5 MB/s\u001b[0m eta \u001b[36m0:00:00\u001b[0m\n",
            "\u001b[?25hRequirement already satisfied: entrypoints<1 in /usr/local/lib/python3.10/dist-packages (from mlflow) (0.4)\n",
            "Collecting gitpython<4,>=3.1.9 (from mlflow)\n",
            "  Downloading GitPython-3.1.43-py3-none-any.whl (207 kB)\n",
            "\u001b[2K     \u001b[90m━━━━━━━━━━━━━━━━━━━━━━━━━━━━━━━━━━━━━━━━\u001b[0m \u001b[32m207.3/207.3 kB\u001b[0m \u001b[31m20.9 MB/s\u001b[0m eta \u001b[36m0:00:00\u001b[0m\n",
            "\u001b[?25hCollecting graphene<4 (from mlflow)\n",
            "  Downloading graphene-3.3-py2.py3-none-any.whl (128 kB)\n",
            "\u001b[2K     \u001b[90m━━━━━━━━━━━━━━━━━━━━━━━━━━━━━━━━━━━━━━━━\u001b[0m \u001b[32m128.2/128.2 kB\u001b[0m \u001b[31m16.3 MB/s\u001b[0m eta \u001b[36m0:00:00\u001b[0m\n",
            "\u001b[?25hRequirement already satisfied: importlib-metadata!=4.7.0,<8,>=3.7.0 in /usr/local/lib/python3.10/dist-packages (from mlflow) (7.1.0)\n",
            "Requirement already satisfied: markdown<4,>=3.3 in /usr/local/lib/python3.10/dist-packages (from mlflow) (3.6)\n",
            "Requirement already satisfied: matplotlib<4 in /usr/local/lib/python3.10/dist-packages (from mlflow) (3.7.1)\n",
            "Requirement already satisfied: numpy<2 in /usr/local/lib/python3.10/dist-packages (from mlflow) (1.25.2)\n",
            "Requirement already satisfied: packaging<25 in /usr/local/lib/python3.10/dist-packages (from mlflow) (24.0)\n",
            "Requirement already satisfied: pandas<3 in /usr/local/lib/python3.10/dist-packages (from mlflow) (2.0.3)\n",
            "Requirement already satisfied: protobuf<6,>=3.12.0 in /usr/local/lib/python3.10/dist-packages (from mlflow) (3.20.3)\n",
            "Requirement already satisfied: pyarrow<16,>=4.0.0 in /usr/local/lib/python3.10/dist-packages (from mlflow) (14.0.2)\n",
            "Requirement already satisfied: pytz<2025 in /usr/local/lib/python3.10/dist-packages (from mlflow) (2023.4)\n",
            "Requirement already satisfied: pyyaml<7,>=5.1 in /usr/local/lib/python3.10/dist-packages (from mlflow) (6.0.1)\n",
            "Collecting querystring-parser<2 (from mlflow)\n",
            "  Downloading querystring_parser-1.2.4-py2.py3-none-any.whl (7.9 kB)\n",
            "Requirement already satisfied: requests<3,>=2.17.3 in /usr/local/lib/python3.10/dist-packages (from mlflow) (2.31.0)\n",
            "Requirement already satisfied: scikit-learn<2 in /usr/local/lib/python3.10/dist-packages (from mlflow) (1.4.2)\n",
            "Requirement already satisfied: scipy<2 in /usr/local/lib/python3.10/dist-packages (from mlflow) (1.11.4)\n",
            "Requirement already satisfied: sqlalchemy<3,>=1.4.0 in /usr/local/lib/python3.10/dist-packages (from mlflow) (2.0.29)\n",
            "Requirement already satisfied: sqlparse<1,>=0.4.0 in /usr/local/lib/python3.10/dist-packages (from mlflow) (0.5.0)\n",
            "Requirement already satisfied: Jinja2<4,>=2.11 in /usr/local/lib/python3.10/dist-packages (from mlflow) (3.1.3)\n",
            "Collecting gunicorn<22 (from mlflow)\n",
            "  Downloading gunicorn-21.2.0-py3-none-any.whl (80 kB)\n",
            "\u001b[2K     \u001b[90m━━━━━━━━━━━━━━━━━━━━━━━━━━━━━━━━━━━━━━━━\u001b[0m \u001b[32m80.2/80.2 kB\u001b[0m \u001b[31m9.4 MB/s\u001b[0m eta \u001b[36m0:00:00\u001b[0m\n",
            "\u001b[?25hCollecting Mako (from alembic!=1.10.0,<2->mlflow)\n",
            "  Downloading Mako-1.3.3-py3-none-any.whl (78 kB)\n",
            "\u001b[2K     \u001b[90m━━━━━━━━━━━━━━━━━━━━━━━━━━━━━━━━━━━━━━━━\u001b[0m \u001b[32m78.8/78.8 kB\u001b[0m \u001b[31m9.5 MB/s\u001b[0m eta \u001b[36m0:00:00\u001b[0m\n",
            "\u001b[?25hRequirement already satisfied: typing-extensions>=4 in /usr/local/lib/python3.10/dist-packages (from alembic!=1.10.0,<2->mlflow) (4.11.0)\n",
            "Requirement already satisfied: urllib3>=1.26.0 in /usr/local/lib/python3.10/dist-packages (from docker<8,>=4.0.0->mlflow) (2.0.7)\n",
            "Requirement already satisfied: Werkzeug>=2.2.2 in /usr/local/lib/python3.10/dist-packages (from Flask<4->mlflow) (3.0.2)\n",
            "Requirement already satisfied: itsdangerous>=2.0 in /usr/local/lib/python3.10/dist-packages (from Flask<4->mlflow) (2.2.0)\n",
            "Collecting gitdb<5,>=4.0.1 (from gitpython<4,>=3.1.9->mlflow)\n",
            "  Downloading gitdb-4.0.11-py3-none-any.whl (62 kB)\n",
            "\u001b[2K     \u001b[90m━━━━━━━━━━━━━━━━━━━━━━━━━━━━━━━━━━━━━━━━\u001b[0m \u001b[32m62.7/62.7 kB\u001b[0m \u001b[31m7.5 MB/s\u001b[0m eta \u001b[36m0:00:00\u001b[0m\n",
            "\u001b[?25hCollecting graphql-core<3.3,>=3.1 (from graphene<4->mlflow)\n",
            "  Downloading graphql_core-3.2.3-py3-none-any.whl (202 kB)\n",
            "\u001b[2K     \u001b[90m━━━━━━━━━━━━━━━━━━━━━━━━━━━━━━━━━━━━━━━━\u001b[0m \u001b[32m202.9/202.9 kB\u001b[0m \u001b[31m21.4 MB/s\u001b[0m eta \u001b[36m0:00:00\u001b[0m\n",
            "\u001b[?25hCollecting graphql-relay<3.3,>=3.1 (from graphene<4->mlflow)\n",
            "  Downloading graphql_relay-3.2.0-py3-none-any.whl (16 kB)\n",
            "Collecting aniso8601<10,>=8 (from graphene<4->mlflow)\n",
            "  Downloading aniso8601-9.0.1-py2.py3-none-any.whl (52 kB)\n",
            "\u001b[2K     \u001b[90m━━━━━━━━━━━━━━━━━━━━━━━━━━━━━━━━━━━━━━━━\u001b[0m \u001b[32m52.8/52.8 kB\u001b[0m \u001b[31m6.7 MB/s\u001b[0m eta \u001b[36m0:00:00\u001b[0m\n",
            "\u001b[?25hRequirement already satisfied: zipp>=0.5 in /usr/local/lib/python3.10/dist-packages (from importlib-metadata!=4.7.0,<8,>=3.7.0->mlflow) (3.18.1)\n",
            "Requirement already satisfied: MarkupSafe>=2.0 in /usr/local/lib/python3.10/dist-packages (from Jinja2<4,>=2.11->mlflow) (2.1.5)\n",
            "Requirement already satisfied: contourpy>=1.0.1 in /usr/local/lib/python3.10/dist-packages (from matplotlib<4->mlflow) (1.2.1)\n",
            "Requirement already satisfied: cycler>=0.10 in /usr/local/lib/python3.10/dist-packages (from matplotlib<4->mlflow) (0.12.1)\n",
            "Requirement already satisfied: fonttools>=4.22.0 in /usr/local/lib/python3.10/dist-packages (from matplotlib<4->mlflow) (4.51.0)\n",
            "Requirement already satisfied: kiwisolver>=1.0.1 in /usr/local/lib/python3.10/dist-packages (from matplotlib<4->mlflow) (1.4.5)\n",
            "Requirement already satisfied: pillow>=6.2.0 in /usr/local/lib/python3.10/dist-packages (from matplotlib<4->mlflow) (9.4.0)\n",
            "Requirement already satisfied: pyparsing>=2.3.1 in /usr/local/lib/python3.10/dist-packages (from matplotlib<4->mlflow) (3.1.2)\n",
            "Requirement already satisfied: python-dateutil>=2.7 in /usr/local/lib/python3.10/dist-packages (from matplotlib<4->mlflow) (2.8.2)\n",
            "Requirement already satisfied: tzdata>=2022.1 in /usr/local/lib/python3.10/dist-packages (from pandas<3->mlflow) (2024.1)\n",
            "Requirement already satisfied: six in /usr/local/lib/python3.10/dist-packages (from querystring-parser<2->mlflow) (1.16.0)\n",
            "Requirement already satisfied: charset-normalizer<4,>=2 in /usr/local/lib/python3.10/dist-packages (from requests<3,>=2.17.3->mlflow) (3.3.2)\n",
            "Requirement already satisfied: idna<4,>=2.5 in /usr/local/lib/python3.10/dist-packages (from requests<3,>=2.17.3->mlflow) (3.7)\n",
            "Requirement already satisfied: certifi>=2017.4.17 in /usr/local/lib/python3.10/dist-packages (from requests<3,>=2.17.3->mlflow) (2024.2.2)\n",
            "Requirement already satisfied: joblib>=1.2.0 in /usr/local/lib/python3.10/dist-packages (from scikit-learn<2->mlflow) (1.3.2)\n",
            "Requirement already satisfied: threadpoolctl>=2.0.0 in /usr/local/lib/python3.10/dist-packages (from scikit-learn<2->mlflow) (3.5.0)\n",
            "Requirement already satisfied: greenlet!=0.4.17 in /usr/local/lib/python3.10/dist-packages (from sqlalchemy<3,>=1.4.0->mlflow) (3.0.3)\n",
            "Collecting smmap<6,>=3.0.1 (from gitdb<5,>=4.0.1->gitpython<4,>=3.1.9->mlflow)\n",
            "  Downloading smmap-5.0.1-py3-none-any.whl (24 kB)\n",
            "Installing collected packages: aniso8601, smmap, querystring-parser, Mako, gunicorn, graphql-core, graphql-relay, gitdb, docker, alembic, graphene, gitpython, mlflow\n",
            "Successfully installed Mako-1.3.3 alembic-1.13.1 aniso8601-9.0.1 docker-7.0.0 gitdb-4.0.11 gitpython-3.1.43 graphene-3.3 graphql-core-3.2.3 graphql-relay-3.2.0 gunicorn-21.2.0 mlflow-2.12.1 querystring-parser-1.2.4 smmap-5.0.1\n",
            "Collecting shap\n",
            "  Downloading shap-0.45.1-cp310-cp310-manylinux_2_12_x86_64.manylinux2010_x86_64.manylinux_2_17_x86_64.manylinux2014_x86_64.whl (540 kB)\n",
            "\u001b[2K     \u001b[90m━━━━━━━━━━━━━━━━━━━━━━━━━━━━━━━━━━━━━━━━\u001b[0m \u001b[32m540.5/540.5 kB\u001b[0m \u001b[31m7.1 MB/s\u001b[0m eta \u001b[36m0:00:00\u001b[0m\n",
            "\u001b[?25hRequirement already satisfied: numpy in /usr/local/lib/python3.10/dist-packages (from shap) (1.25.2)\n",
            "Requirement already satisfied: scipy in /usr/local/lib/python3.10/dist-packages (from shap) (1.11.4)\n",
            "Requirement already satisfied: scikit-learn in /usr/local/lib/python3.10/dist-packages (from shap) (1.4.2)\n",
            "Requirement already satisfied: pandas in /usr/local/lib/python3.10/dist-packages (from shap) (2.0.3)\n",
            "Requirement already satisfied: tqdm>=4.27.0 in /usr/local/lib/python3.10/dist-packages (from shap) (4.66.4)\n",
            "Requirement already satisfied: packaging>20.9 in /usr/local/lib/python3.10/dist-packages (from shap) (24.0)\n",
            "Collecting slicer==0.0.8 (from shap)\n",
            "  Downloading slicer-0.0.8-py3-none-any.whl (15 kB)\n",
            "Requirement already satisfied: numba in /usr/local/lib/python3.10/dist-packages (from shap) (0.58.1)\n",
            "Requirement already satisfied: cloudpickle in /usr/local/lib/python3.10/dist-packages (from shap) (2.2.1)\n",
            "Requirement already satisfied: llvmlite<0.42,>=0.41.0dev0 in /usr/local/lib/python3.10/dist-packages (from numba->shap) (0.41.1)\n",
            "Requirement already satisfied: python-dateutil>=2.8.2 in /usr/local/lib/python3.10/dist-packages (from pandas->shap) (2.8.2)\n",
            "Requirement already satisfied: pytz>=2020.1 in /usr/local/lib/python3.10/dist-packages (from pandas->shap) (2023.4)\n",
            "Requirement already satisfied: tzdata>=2022.1 in /usr/local/lib/python3.10/dist-packages (from pandas->shap) (2024.1)\n",
            "Requirement already satisfied: joblib>=1.2.0 in /usr/local/lib/python3.10/dist-packages (from scikit-learn->shap) (1.3.2)\n",
            "Requirement already satisfied: threadpoolctl>=2.0.0 in /usr/local/lib/python3.10/dist-packages (from scikit-learn->shap) (3.5.0)\n",
            "Requirement already satisfied: six>=1.5 in /usr/local/lib/python3.10/dist-packages (from python-dateutil>=2.8.2->pandas->shap) (1.16.0)\n",
            "Installing collected packages: slicer, shap\n",
            "Successfully installed shap-0.45.1 slicer-0.0.8\n",
            "Collecting zoopt\n",
            "  Downloading zoopt-0.4.2-py3-none-any.whl (55 kB)\n",
            "\u001b[2K     \u001b[90m━━━━━━━━━━━━━━━━━━━━━━━━━━━━━━━━━━━━━━━━\u001b[0m \u001b[32m55.3/55.3 kB\u001b[0m \u001b[31m1.4 MB/s\u001b[0m eta \u001b[36m0:00:00\u001b[0m\n",
            "\u001b[?25hRequirement already satisfied: numpy in /usr/local/lib/python3.10/dist-packages (from zoopt) (1.25.2)\n",
            "Requirement already satisfied: matplotlib in /usr/local/lib/python3.10/dist-packages (from zoopt) (3.7.1)\n",
            "Requirement already satisfied: contourpy>=1.0.1 in /usr/local/lib/python3.10/dist-packages (from matplotlib->zoopt) (1.2.1)\n",
            "Requirement already satisfied: cycler>=0.10 in /usr/local/lib/python3.10/dist-packages (from matplotlib->zoopt) (0.12.1)\n",
            "Requirement already satisfied: fonttools>=4.22.0 in /usr/local/lib/python3.10/dist-packages (from matplotlib->zoopt) (4.51.0)\n",
            "Requirement already satisfied: kiwisolver>=1.0.1 in /usr/local/lib/python3.10/dist-packages (from matplotlib->zoopt) (1.4.5)\n",
            "Requirement already satisfied: packaging>=20.0 in /usr/local/lib/python3.10/dist-packages (from matplotlib->zoopt) (24.0)\n",
            "Requirement already satisfied: pillow>=6.2.0 in /usr/local/lib/python3.10/dist-packages (from matplotlib->zoopt) (9.4.0)\n",
            "Requirement already satisfied: pyparsing>=2.3.1 in /usr/local/lib/python3.10/dist-packages (from matplotlib->zoopt) (3.1.2)\n",
            "Requirement already satisfied: python-dateutil>=2.7 in /usr/local/lib/python3.10/dist-packages (from matplotlib->zoopt) (2.8.2)\n",
            "Requirement already satisfied: six>=1.5 in /usr/local/lib/python3.10/dist-packages (from python-dateutil>=2.7->matplotlib->zoopt) (1.16.0)\n",
            "Installing collected packages: zoopt\n",
            "Successfully installed zoopt-0.4.2\n"
          ]
        }
      ]
    },
    {
      "cell_type": "code",
      "source": [],
      "metadata": {
        "id": "3buE9YlUCXwb"
      },
      "execution_count": 1,
      "outputs": []
    },
    {
      "cell_type": "code",
      "execution_count": 97,
      "metadata": {
        "colab": {
          "base_uri": "https://localhost:8080/",
          "height": 224
        },
        "id": "98IPtPP6rFWL",
        "outputId": "ff189246-3ff8-4e30-d01f-236737fa5f1d"
      },
      "outputs": [
        {
          "output_type": "display_data",
          "data": {
            "text/plain": [
              "   Relative Compactness  Surface Area  Wall Area  Roof Area  Overall Height  \\\n",
              "0                  0.98         514.5      294.0     110.25             7.0   \n",
              "1                  0.98         514.5      294.0     110.25             7.0   \n",
              "2                  0.98         514.5      294.0     110.25             7.0   \n",
              "3                  0.98         514.5      294.0     110.25             7.0   \n",
              "4                  0.90         563.5      318.5     122.50             7.0   \n",
              "\n",
              "   Orientation  Glazing Area  Glazing Area Distribution  Heating Load  \\\n",
              "0            2           0.0                          0         15.55   \n",
              "1            3           0.0                          0         15.55   \n",
              "2            4           0.0                          0         15.55   \n",
              "3            5           0.0                          0         15.55   \n",
              "4            2           0.0                          0         20.84   \n",
              "\n",
              "   Cooling Load  \n",
              "0         21.33  \n",
              "1         21.33  \n",
              "2         21.33  \n",
              "3         21.33  \n",
              "4         28.28  "
            ],
            "text/html": [
              "\n",
              "  <div id=\"df-c9043bcf-23c7-42a3-9dc3-e1cd0e5448e3\" class=\"colab-df-container\">\n",
              "    <div>\n",
              "<style scoped>\n",
              "    .dataframe tbody tr th:only-of-type {\n",
              "        vertical-align: middle;\n",
              "    }\n",
              "\n",
              "    .dataframe tbody tr th {\n",
              "        vertical-align: top;\n",
              "    }\n",
              "\n",
              "    .dataframe thead th {\n",
              "        text-align: right;\n",
              "    }\n",
              "</style>\n",
              "<table border=\"1\" class=\"dataframe\">\n",
              "  <thead>\n",
              "    <tr style=\"text-align: right;\">\n",
              "      <th></th>\n",
              "      <th>Relative Compactness</th>\n",
              "      <th>Surface Area</th>\n",
              "      <th>Wall Area</th>\n",
              "      <th>Roof Area</th>\n",
              "      <th>Overall Height</th>\n",
              "      <th>Orientation</th>\n",
              "      <th>Glazing Area</th>\n",
              "      <th>Glazing Area Distribution</th>\n",
              "      <th>Heating Load</th>\n",
              "      <th>Cooling Load</th>\n",
              "    </tr>\n",
              "  </thead>\n",
              "  <tbody>\n",
              "    <tr>\n",
              "      <th>0</th>\n",
              "      <td>0.98</td>\n",
              "      <td>514.5</td>\n",
              "      <td>294.0</td>\n",
              "      <td>110.25</td>\n",
              "      <td>7.0</td>\n",
              "      <td>2</td>\n",
              "      <td>0.0</td>\n",
              "      <td>0</td>\n",
              "      <td>15.55</td>\n",
              "      <td>21.33</td>\n",
              "    </tr>\n",
              "    <tr>\n",
              "      <th>1</th>\n",
              "      <td>0.98</td>\n",
              "      <td>514.5</td>\n",
              "      <td>294.0</td>\n",
              "      <td>110.25</td>\n",
              "      <td>7.0</td>\n",
              "      <td>3</td>\n",
              "      <td>0.0</td>\n",
              "      <td>0</td>\n",
              "      <td>15.55</td>\n",
              "      <td>21.33</td>\n",
              "    </tr>\n",
              "    <tr>\n",
              "      <th>2</th>\n",
              "      <td>0.98</td>\n",
              "      <td>514.5</td>\n",
              "      <td>294.0</td>\n",
              "      <td>110.25</td>\n",
              "      <td>7.0</td>\n",
              "      <td>4</td>\n",
              "      <td>0.0</td>\n",
              "      <td>0</td>\n",
              "      <td>15.55</td>\n",
              "      <td>21.33</td>\n",
              "    </tr>\n",
              "    <tr>\n",
              "      <th>3</th>\n",
              "      <td>0.98</td>\n",
              "      <td>514.5</td>\n",
              "      <td>294.0</td>\n",
              "      <td>110.25</td>\n",
              "      <td>7.0</td>\n",
              "      <td>5</td>\n",
              "      <td>0.0</td>\n",
              "      <td>0</td>\n",
              "      <td>15.55</td>\n",
              "      <td>21.33</td>\n",
              "    </tr>\n",
              "    <tr>\n",
              "      <th>4</th>\n",
              "      <td>0.90</td>\n",
              "      <td>563.5</td>\n",
              "      <td>318.5</td>\n",
              "      <td>122.50</td>\n",
              "      <td>7.0</td>\n",
              "      <td>2</td>\n",
              "      <td>0.0</td>\n",
              "      <td>0</td>\n",
              "      <td>20.84</td>\n",
              "      <td>28.28</td>\n",
              "    </tr>\n",
              "  </tbody>\n",
              "</table>\n",
              "</div>\n",
              "    <div class=\"colab-df-buttons\">\n",
              "\n",
              "  <div class=\"colab-df-container\">\n",
              "    <button class=\"colab-df-convert\" onclick=\"convertToInteractive('df-c9043bcf-23c7-42a3-9dc3-e1cd0e5448e3')\"\n",
              "            title=\"Convert this dataframe to an interactive table.\"\n",
              "            style=\"display:none;\">\n",
              "\n",
              "  <svg xmlns=\"http://www.w3.org/2000/svg\" height=\"24px\" viewBox=\"0 -960 960 960\">\n",
              "    <path d=\"M120-120v-720h720v720H120Zm60-500h600v-160H180v160Zm220 220h160v-160H400v160Zm0 220h160v-160H400v160ZM180-400h160v-160H180v160Zm440 0h160v-160H620v160ZM180-180h160v-160H180v160Zm440 0h160v-160H620v160Z\"/>\n",
              "  </svg>\n",
              "    </button>\n",
              "\n",
              "  <style>\n",
              "    .colab-df-container {\n",
              "      display:flex;\n",
              "      gap: 12px;\n",
              "    }\n",
              "\n",
              "    .colab-df-convert {\n",
              "      background-color: #E8F0FE;\n",
              "      border: none;\n",
              "      border-radius: 50%;\n",
              "      cursor: pointer;\n",
              "      display: none;\n",
              "      fill: #1967D2;\n",
              "      height: 32px;\n",
              "      padding: 0 0 0 0;\n",
              "      width: 32px;\n",
              "    }\n",
              "\n",
              "    .colab-df-convert:hover {\n",
              "      background-color: #E2EBFA;\n",
              "      box-shadow: 0px 1px 2px rgba(60, 64, 67, 0.3), 0px 1px 3px 1px rgba(60, 64, 67, 0.15);\n",
              "      fill: #174EA6;\n",
              "    }\n",
              "\n",
              "    .colab-df-buttons div {\n",
              "      margin-bottom: 4px;\n",
              "    }\n",
              "\n",
              "    [theme=dark] .colab-df-convert {\n",
              "      background-color: #3B4455;\n",
              "      fill: #D2E3FC;\n",
              "    }\n",
              "\n",
              "    [theme=dark] .colab-df-convert:hover {\n",
              "      background-color: #434B5C;\n",
              "      box-shadow: 0px 1px 3px 1px rgba(0, 0, 0, 0.15);\n",
              "      filter: drop-shadow(0px 1px 2px rgba(0, 0, 0, 0.3));\n",
              "      fill: #FFFFFF;\n",
              "    }\n",
              "  </style>\n",
              "\n",
              "    <script>\n",
              "      const buttonEl =\n",
              "        document.querySelector('#df-c9043bcf-23c7-42a3-9dc3-e1cd0e5448e3 button.colab-df-convert');\n",
              "      buttonEl.style.display =\n",
              "        google.colab.kernel.accessAllowed ? 'block' : 'none';\n",
              "\n",
              "      async function convertToInteractive(key) {\n",
              "        const element = document.querySelector('#df-c9043bcf-23c7-42a3-9dc3-e1cd0e5448e3');\n",
              "        const dataTable =\n",
              "          await google.colab.kernel.invokeFunction('convertToInteractive',\n",
              "                                                    [key], {});\n",
              "        if (!dataTable) return;\n",
              "\n",
              "        const docLinkHtml = 'Like what you see? Visit the ' +\n",
              "          '<a target=\"_blank\" href=https://colab.research.google.com/notebooks/data_table.ipynb>data table notebook</a>'\n",
              "          + ' to learn more about interactive tables.';\n",
              "        element.innerHTML = '';\n",
              "        dataTable['output_type'] = 'display_data';\n",
              "        await google.colab.output.renderOutput(dataTable, element);\n",
              "        const docLink = document.createElement('div');\n",
              "        docLink.innerHTML = docLinkHtml;\n",
              "        element.appendChild(docLink);\n",
              "      }\n",
              "    </script>\n",
              "  </div>\n",
              "\n",
              "\n",
              "<div id=\"df-7e2f2c1d-748f-42db-91fb-895712ab1a41\">\n",
              "  <button class=\"colab-df-quickchart\" onclick=\"quickchart('df-7e2f2c1d-748f-42db-91fb-895712ab1a41')\"\n",
              "            title=\"Suggest charts\"\n",
              "            style=\"display:none;\">\n",
              "\n",
              "<svg xmlns=\"http://www.w3.org/2000/svg\" height=\"24px\"viewBox=\"0 0 24 24\"\n",
              "     width=\"24px\">\n",
              "    <g>\n",
              "        <path d=\"M19 3H5c-1.1 0-2 .9-2 2v14c0 1.1.9 2 2 2h14c1.1 0 2-.9 2-2V5c0-1.1-.9-2-2-2zM9 17H7v-7h2v7zm4 0h-2V7h2v10zm4 0h-2v-4h2v4z\"/>\n",
              "    </g>\n",
              "</svg>\n",
              "  </button>\n",
              "\n",
              "<style>\n",
              "  .colab-df-quickchart {\n",
              "      --bg-color: #E8F0FE;\n",
              "      --fill-color: #1967D2;\n",
              "      --hover-bg-color: #E2EBFA;\n",
              "      --hover-fill-color: #174EA6;\n",
              "      --disabled-fill-color: #AAA;\n",
              "      --disabled-bg-color: #DDD;\n",
              "  }\n",
              "\n",
              "  [theme=dark] .colab-df-quickchart {\n",
              "      --bg-color: #3B4455;\n",
              "      --fill-color: #D2E3FC;\n",
              "      --hover-bg-color: #434B5C;\n",
              "      --hover-fill-color: #FFFFFF;\n",
              "      --disabled-bg-color: #3B4455;\n",
              "      --disabled-fill-color: #666;\n",
              "  }\n",
              "\n",
              "  .colab-df-quickchart {\n",
              "    background-color: var(--bg-color);\n",
              "    border: none;\n",
              "    border-radius: 50%;\n",
              "    cursor: pointer;\n",
              "    display: none;\n",
              "    fill: var(--fill-color);\n",
              "    height: 32px;\n",
              "    padding: 0;\n",
              "    width: 32px;\n",
              "  }\n",
              "\n",
              "  .colab-df-quickchart:hover {\n",
              "    background-color: var(--hover-bg-color);\n",
              "    box-shadow: 0 1px 2px rgba(60, 64, 67, 0.3), 0 1px 3px 1px rgba(60, 64, 67, 0.15);\n",
              "    fill: var(--button-hover-fill-color);\n",
              "  }\n",
              "\n",
              "  .colab-df-quickchart-complete:disabled,\n",
              "  .colab-df-quickchart-complete:disabled:hover {\n",
              "    background-color: var(--disabled-bg-color);\n",
              "    fill: var(--disabled-fill-color);\n",
              "    box-shadow: none;\n",
              "  }\n",
              "\n",
              "  .colab-df-spinner {\n",
              "    border: 2px solid var(--fill-color);\n",
              "    border-color: transparent;\n",
              "    border-bottom-color: var(--fill-color);\n",
              "    animation:\n",
              "      spin 1s steps(1) infinite;\n",
              "  }\n",
              "\n",
              "  @keyframes spin {\n",
              "    0% {\n",
              "      border-color: transparent;\n",
              "      border-bottom-color: var(--fill-color);\n",
              "      border-left-color: var(--fill-color);\n",
              "    }\n",
              "    20% {\n",
              "      border-color: transparent;\n",
              "      border-left-color: var(--fill-color);\n",
              "      border-top-color: var(--fill-color);\n",
              "    }\n",
              "    30% {\n",
              "      border-color: transparent;\n",
              "      border-left-color: var(--fill-color);\n",
              "      border-top-color: var(--fill-color);\n",
              "      border-right-color: var(--fill-color);\n",
              "    }\n",
              "    40% {\n",
              "      border-color: transparent;\n",
              "      border-right-color: var(--fill-color);\n",
              "      border-top-color: var(--fill-color);\n",
              "    }\n",
              "    60% {\n",
              "      border-color: transparent;\n",
              "      border-right-color: var(--fill-color);\n",
              "    }\n",
              "    80% {\n",
              "      border-color: transparent;\n",
              "      border-right-color: var(--fill-color);\n",
              "      border-bottom-color: var(--fill-color);\n",
              "    }\n",
              "    90% {\n",
              "      border-color: transparent;\n",
              "      border-bottom-color: var(--fill-color);\n",
              "    }\n",
              "  }\n",
              "</style>\n",
              "\n",
              "  <script>\n",
              "    async function quickchart(key) {\n",
              "      const quickchartButtonEl =\n",
              "        document.querySelector('#' + key + ' button');\n",
              "      quickchartButtonEl.disabled = true;  // To prevent multiple clicks.\n",
              "      quickchartButtonEl.classList.add('colab-df-spinner');\n",
              "      try {\n",
              "        const charts = await google.colab.kernel.invokeFunction(\n",
              "            'suggestCharts', [key], {});\n",
              "      } catch (error) {\n",
              "        console.error('Error during call to suggestCharts:', error);\n",
              "      }\n",
              "      quickchartButtonEl.classList.remove('colab-df-spinner');\n",
              "      quickchartButtonEl.classList.add('colab-df-quickchart-complete');\n",
              "    }\n",
              "    (() => {\n",
              "      let quickchartButtonEl =\n",
              "        document.querySelector('#df-7e2f2c1d-748f-42db-91fb-895712ab1a41 button');\n",
              "      quickchartButtonEl.style.display =\n",
              "        google.colab.kernel.accessAllowed ? 'block' : 'none';\n",
              "    })();\n",
              "  </script>\n",
              "</div>\n",
              "    </div>\n",
              "  </div>\n"
            ],
            "application/vnd.google.colaboratory.intrinsic+json": {
              "type": "dataframe",
              "summary": "{\n  \"name\": \"df = get_data('energy')\",\n  \"rows\": 5,\n  \"fields\": [\n    {\n      \"column\": \"Relative Compactness\",\n      \"properties\": {\n        \"dtype\": \"number\",\n        \"std\": 0.03577708763999662,\n        \"min\": 0.9,\n        \"max\": 0.98,\n        \"num_unique_values\": 2,\n        \"samples\": [\n          0.9,\n          0.98\n        ],\n        \"semantic_type\": \"\",\n        \"description\": \"\"\n      }\n    },\n    {\n      \"column\": \"Surface Area\",\n      \"properties\": {\n        \"dtype\": \"number\",\n        \"std\": 21.913466179497938,\n        \"min\": 514.5,\n        \"max\": 563.5,\n        \"num_unique_values\": 2,\n        \"samples\": [\n          563.5,\n          514.5\n        ],\n        \"semantic_type\": \"\",\n        \"description\": \"\"\n      }\n    },\n    {\n      \"column\": \"Wall Area\",\n      \"properties\": {\n        \"dtype\": \"number\",\n        \"std\": 10.956733089748969,\n        \"min\": 294.0,\n        \"max\": 318.5,\n        \"num_unique_values\": 2,\n        \"samples\": [\n          318.5,\n          294.0\n        ],\n        \"semantic_type\": \"\",\n        \"description\": \"\"\n      }\n    },\n    {\n      \"column\": \"Roof Area\",\n      \"properties\": {\n        \"dtype\": \"number\",\n        \"std\": 5.478366544874485,\n        \"min\": 110.25,\n        \"max\": 122.5,\n        \"num_unique_values\": 2,\n        \"samples\": [\n          122.5,\n          110.25\n        ],\n        \"semantic_type\": \"\",\n        \"description\": \"\"\n      }\n    },\n    {\n      \"column\": \"Overall Height\",\n      \"properties\": {\n        \"dtype\": \"number\",\n        \"std\": 0.0,\n        \"min\": 7.0,\n        \"max\": 7.0,\n        \"num_unique_values\": 1,\n        \"samples\": [\n          7.0\n        ],\n        \"semantic_type\": \"\",\n        \"description\": \"\"\n      }\n    },\n    {\n      \"column\": \"Orientation\",\n      \"properties\": {\n        \"dtype\": \"number\",\n        \"std\": 1,\n        \"min\": 2,\n        \"max\": 5,\n        \"num_unique_values\": 4,\n        \"samples\": [\n          3\n        ],\n        \"semantic_type\": \"\",\n        \"description\": \"\"\n      }\n    },\n    {\n      \"column\": \"Glazing Area\",\n      \"properties\": {\n        \"dtype\": \"number\",\n        \"std\": 0.0,\n        \"min\": 0.0,\n        \"max\": 0.0,\n        \"num_unique_values\": 1,\n        \"samples\": [\n          0.0\n        ],\n        \"semantic_type\": \"\",\n        \"description\": \"\"\n      }\n    },\n    {\n      \"column\": \"Glazing Area Distribution\",\n      \"properties\": {\n        \"dtype\": \"number\",\n        \"std\": 0,\n        \"min\": 0,\n        \"max\": 0,\n        \"num_unique_values\": 1,\n        \"samples\": [\n          0\n        ],\n        \"semantic_type\": \"\",\n        \"description\": \"\"\n      }\n    },\n    {\n      \"column\": \"Heating Load\",\n      \"properties\": {\n        \"dtype\": \"number\",\n        \"std\": 2.365759920194777,\n        \"min\": 15.55,\n        \"max\": 20.84,\n        \"num_unique_values\": 2,\n        \"samples\": [\n          20.84\n        ],\n        \"semantic_type\": \"\",\n        \"description\": \"\"\n      }\n    },\n    {\n      \"column\": \"Cooling Load\",\n      \"properties\": {\n        \"dtype\": \"number\",\n        \"std\": 3.108134488724709,\n        \"min\": 21.33,\n        \"max\": 28.28,\n        \"num_unique_values\": 2,\n        \"samples\": [\n          28.28\n        ],\n        \"semantic_type\": \"\",\n        \"description\": \"\"\n      }\n    }\n  ]\n}"
            }
          },
          "metadata": {}
        }
      ],
      "source": [
        "from pycaret.datasets import get_data\n",
        "df = get_data('energy')"
      ]
    },
    {
      "cell_type": "code",
      "source": [
        "df.columns\n",
        "# Relative Compactness is the ratio of the area of the walls to the area of the walls if they were flat\n",
        "# Surface Area is the total surface area of the building\n",
        "# Wall Area is the total wall area of the building\n",
        "# Roof Area is the total roof area of the building\n",
        "# Glazing Area is the area of the windows in the building\n",
        "\n"
      ],
      "metadata": {
        "colab": {
          "base_uri": "https://localhost:8080/"
        },
        "id": "2FWgo1WirHxf",
        "outputId": "7aae7d7d-9f6b-4f27-eff3-5d42316b1302"
      },
      "execution_count": 98,
      "outputs": [
        {
          "output_type": "execute_result",
          "data": {
            "text/plain": [
              "Index(['Relative Compactness', 'Surface Area', 'Wall Area', 'Roof Area',\n",
              "       'Overall Height', 'Orientation', 'Glazing Area',\n",
              "       'Glazing Area Distribution', 'Heating Load', 'Cooling Load'],\n",
              "      dtype='object')"
            ]
          },
          "metadata": {},
          "execution_count": 98
        }
      ]
    },
    {
      "cell_type": "code",
      "source": [
        "from pycaret.regression import *\n"
      ],
      "metadata": {
        "id": "_04JVlCmrSkQ"
      },
      "execution_count": 99,
      "outputs": []
    },
    {
      "cell_type": "code",
      "source": [
        "energy_reg1 = setup(df,\n",
        "                    ignore_features = ['Heating Load'],\n",
        "                    target = 'Cooling Load',\n",
        "                    session_id=2024,\n",
        "                    log_experiment=False,\n",
        "                    experiment_name='energy_regression1')"
      ],
      "metadata": {
        "colab": {
          "base_uri": "https://localhost:8080/",
          "height": 677
        },
        "id": "0s1ifwya1Mmb",
        "outputId": "facca694-dfd7-4dc0-a269-bea556bc7b72"
      },
      "execution_count": 100,
      "outputs": [
        {
          "output_type": "display_data",
          "data": {
            "text/plain": [
              "<pandas.io.formats.style.Styler at 0x7bfaa8069270>"
            ],
            "text/html": [
              "<style type=\"text/css\">\n",
              "#T_62a6b_row9_col1 {\n",
              "  background-color: lightgreen;\n",
              "}\n",
              "</style>\n",
              "<table id=\"T_62a6b\" class=\"dataframe\">\n",
              "  <thead>\n",
              "    <tr>\n",
              "      <th class=\"blank level0\" >&nbsp;</th>\n",
              "      <th id=\"T_62a6b_level0_col0\" class=\"col_heading level0 col0\" >Description</th>\n",
              "      <th id=\"T_62a6b_level0_col1\" class=\"col_heading level0 col1\" >Value</th>\n",
              "    </tr>\n",
              "  </thead>\n",
              "  <tbody>\n",
              "    <tr>\n",
              "      <th id=\"T_62a6b_level0_row0\" class=\"row_heading level0 row0\" >0</th>\n",
              "      <td id=\"T_62a6b_row0_col0\" class=\"data row0 col0\" >Session id</td>\n",
              "      <td id=\"T_62a6b_row0_col1\" class=\"data row0 col1\" >2024</td>\n",
              "    </tr>\n",
              "    <tr>\n",
              "      <th id=\"T_62a6b_level0_row1\" class=\"row_heading level0 row1\" >1</th>\n",
              "      <td id=\"T_62a6b_row1_col0\" class=\"data row1 col0\" >Target</td>\n",
              "      <td id=\"T_62a6b_row1_col1\" class=\"data row1 col1\" >Cooling Load</td>\n",
              "    </tr>\n",
              "    <tr>\n",
              "      <th id=\"T_62a6b_level0_row2\" class=\"row_heading level0 row2\" >2</th>\n",
              "      <td id=\"T_62a6b_row2_col0\" class=\"data row2 col0\" >Target type</td>\n",
              "      <td id=\"T_62a6b_row2_col1\" class=\"data row2 col1\" >Regression</td>\n",
              "    </tr>\n",
              "    <tr>\n",
              "      <th id=\"T_62a6b_level0_row3\" class=\"row_heading level0 row3\" >3</th>\n",
              "      <td id=\"T_62a6b_row3_col0\" class=\"data row3 col0\" >Original data shape</td>\n",
              "      <td id=\"T_62a6b_row3_col1\" class=\"data row3 col1\" >(768, 10)</td>\n",
              "    </tr>\n",
              "    <tr>\n",
              "      <th id=\"T_62a6b_level0_row4\" class=\"row_heading level0 row4\" >4</th>\n",
              "      <td id=\"T_62a6b_row4_col0\" class=\"data row4 col0\" >Transformed data shape</td>\n",
              "      <td id=\"T_62a6b_row4_col1\" class=\"data row4 col1\" >(768, 9)</td>\n",
              "    </tr>\n",
              "    <tr>\n",
              "      <th id=\"T_62a6b_level0_row5\" class=\"row_heading level0 row5\" >5</th>\n",
              "      <td id=\"T_62a6b_row5_col0\" class=\"data row5 col0\" >Transformed train set shape</td>\n",
              "      <td id=\"T_62a6b_row5_col1\" class=\"data row5 col1\" >(537, 9)</td>\n",
              "    </tr>\n",
              "    <tr>\n",
              "      <th id=\"T_62a6b_level0_row6\" class=\"row_heading level0 row6\" >6</th>\n",
              "      <td id=\"T_62a6b_row6_col0\" class=\"data row6 col0\" >Transformed test set shape</td>\n",
              "      <td id=\"T_62a6b_row6_col1\" class=\"data row6 col1\" >(231, 9)</td>\n",
              "    </tr>\n",
              "    <tr>\n",
              "      <th id=\"T_62a6b_level0_row7\" class=\"row_heading level0 row7\" >7</th>\n",
              "      <td id=\"T_62a6b_row7_col0\" class=\"data row7 col0\" >Ignore features</td>\n",
              "      <td id=\"T_62a6b_row7_col1\" class=\"data row7 col1\" >1</td>\n",
              "    </tr>\n",
              "    <tr>\n",
              "      <th id=\"T_62a6b_level0_row8\" class=\"row_heading level0 row8\" >8</th>\n",
              "      <td id=\"T_62a6b_row8_col0\" class=\"data row8 col0\" >Numeric features</td>\n",
              "      <td id=\"T_62a6b_row8_col1\" class=\"data row8 col1\" >8</td>\n",
              "    </tr>\n",
              "    <tr>\n",
              "      <th id=\"T_62a6b_level0_row9\" class=\"row_heading level0 row9\" >9</th>\n",
              "      <td id=\"T_62a6b_row9_col0\" class=\"data row9 col0\" >Preprocess</td>\n",
              "      <td id=\"T_62a6b_row9_col1\" class=\"data row9 col1\" >True</td>\n",
              "    </tr>\n",
              "    <tr>\n",
              "      <th id=\"T_62a6b_level0_row10\" class=\"row_heading level0 row10\" >10</th>\n",
              "      <td id=\"T_62a6b_row10_col0\" class=\"data row10 col0\" >Imputation type</td>\n",
              "      <td id=\"T_62a6b_row10_col1\" class=\"data row10 col1\" >simple</td>\n",
              "    </tr>\n",
              "    <tr>\n",
              "      <th id=\"T_62a6b_level0_row11\" class=\"row_heading level0 row11\" >11</th>\n",
              "      <td id=\"T_62a6b_row11_col0\" class=\"data row11 col0\" >Numeric imputation</td>\n",
              "      <td id=\"T_62a6b_row11_col1\" class=\"data row11 col1\" >mean</td>\n",
              "    </tr>\n",
              "    <tr>\n",
              "      <th id=\"T_62a6b_level0_row12\" class=\"row_heading level0 row12\" >12</th>\n",
              "      <td id=\"T_62a6b_row12_col0\" class=\"data row12 col0\" >Categorical imputation</td>\n",
              "      <td id=\"T_62a6b_row12_col1\" class=\"data row12 col1\" >mode</td>\n",
              "    </tr>\n",
              "    <tr>\n",
              "      <th id=\"T_62a6b_level0_row13\" class=\"row_heading level0 row13\" >13</th>\n",
              "      <td id=\"T_62a6b_row13_col0\" class=\"data row13 col0\" >Fold Generator</td>\n",
              "      <td id=\"T_62a6b_row13_col1\" class=\"data row13 col1\" >KFold</td>\n",
              "    </tr>\n",
              "    <tr>\n",
              "      <th id=\"T_62a6b_level0_row14\" class=\"row_heading level0 row14\" >14</th>\n",
              "      <td id=\"T_62a6b_row14_col0\" class=\"data row14 col0\" >Fold Number</td>\n",
              "      <td id=\"T_62a6b_row14_col1\" class=\"data row14 col1\" >10</td>\n",
              "    </tr>\n",
              "    <tr>\n",
              "      <th id=\"T_62a6b_level0_row15\" class=\"row_heading level0 row15\" >15</th>\n",
              "      <td id=\"T_62a6b_row15_col0\" class=\"data row15 col0\" >CPU Jobs</td>\n",
              "      <td id=\"T_62a6b_row15_col1\" class=\"data row15 col1\" >-1</td>\n",
              "    </tr>\n",
              "    <tr>\n",
              "      <th id=\"T_62a6b_level0_row16\" class=\"row_heading level0 row16\" >16</th>\n",
              "      <td id=\"T_62a6b_row16_col0\" class=\"data row16 col0\" >Use GPU</td>\n",
              "      <td id=\"T_62a6b_row16_col1\" class=\"data row16 col1\" >False</td>\n",
              "    </tr>\n",
              "    <tr>\n",
              "      <th id=\"T_62a6b_level0_row17\" class=\"row_heading level0 row17\" >17</th>\n",
              "      <td id=\"T_62a6b_row17_col0\" class=\"data row17 col0\" >Log Experiment</td>\n",
              "      <td id=\"T_62a6b_row17_col1\" class=\"data row17 col1\" >False</td>\n",
              "    </tr>\n",
              "    <tr>\n",
              "      <th id=\"T_62a6b_level0_row18\" class=\"row_heading level0 row18\" >18</th>\n",
              "      <td id=\"T_62a6b_row18_col0\" class=\"data row18 col0\" >Experiment Name</td>\n",
              "      <td id=\"T_62a6b_row18_col1\" class=\"data row18 col1\" >energy_regression1</td>\n",
              "    </tr>\n",
              "    <tr>\n",
              "      <th id=\"T_62a6b_level0_row19\" class=\"row_heading level0 row19\" >19</th>\n",
              "      <td id=\"T_62a6b_row19_col0\" class=\"data row19 col0\" >USI</td>\n",
              "      <td id=\"T_62a6b_row19_col1\" class=\"data row19 col1\" >78c7</td>\n",
              "    </tr>\n",
              "  </tbody>\n",
              "</table>\n"
            ]
          },
          "metadata": {}
        }
      ]
    },
    {
      "cell_type": "code",
      "source": [
        "best_model = compare_models(fold=5)"
      ],
      "metadata": {
        "colab": {
          "base_uri": "https://localhost:8080/",
          "height": 645,
          "referenced_widgets": [
            "d35ae2ab51ef41678ae7c33c96252c93",
            "8922ca3d724c43f9a4a0481a7f7caf5a",
            "1c9ba2a45f844537bfd3b27cd4a7c999",
            "c23a061271a447d2a7f9e4acf8c34a7a",
            "d792839fafcf4480b513aafeda53e591",
            "73b95e26a6e54a968efb1e9ee34a0b2b",
            "cede3e503fb648aa9e6887cce36c4a7b",
            "10ba4aedce8740ba87aeff889d341760",
            "194e1bceb56845919f4fb2efd11393a6",
            "450ab2f3ab7548f8aac7877e5204aa98",
            "76ffb49618d14c2391615149813f7e6d"
          ]
        },
        "id": "GaOT-6Z21dTZ",
        "outputId": "5cb2b16a-5790-4022-eaca-527b0a36a419"
      },
      "execution_count": 6,
      "outputs": [
        {
          "output_type": "display_data",
          "data": {
            "text/plain": [
              "<IPython.core.display.HTML object>"
            ],
            "text/html": []
          },
          "metadata": {}
        },
        {
          "output_type": "display_data",
          "data": {
            "text/plain": [
              "<pandas.io.formats.style.Styler at 0x7bfab45f4e50>"
            ],
            "text/html": [
              "<style type=\"text/css\">\n",
              "#T_9beab th {\n",
              "  text-align: left;\n",
              "}\n",
              "#T_9beab_row0_col0, #T_9beab_row1_col0, #T_9beab_row1_col1, #T_9beab_row1_col2, #T_9beab_row1_col3, #T_9beab_row1_col4, #T_9beab_row1_col5, #T_9beab_row1_col6, #T_9beab_row2_col0, #T_9beab_row2_col1, #T_9beab_row2_col2, #T_9beab_row2_col3, #T_9beab_row2_col4, #T_9beab_row2_col5, #T_9beab_row2_col6, #T_9beab_row3_col0, #T_9beab_row3_col1, #T_9beab_row3_col2, #T_9beab_row3_col3, #T_9beab_row3_col4, #T_9beab_row3_col5, #T_9beab_row3_col6, #T_9beab_row4_col0, #T_9beab_row4_col1, #T_9beab_row4_col2, #T_9beab_row4_col3, #T_9beab_row4_col4, #T_9beab_row4_col5, #T_9beab_row4_col6, #T_9beab_row5_col0, #T_9beab_row5_col1, #T_9beab_row5_col2, #T_9beab_row5_col3, #T_9beab_row5_col4, #T_9beab_row5_col5, #T_9beab_row5_col6, #T_9beab_row6_col0, #T_9beab_row6_col1, #T_9beab_row6_col2, #T_9beab_row6_col3, #T_9beab_row6_col4, #T_9beab_row6_col5, #T_9beab_row6_col6, #T_9beab_row7_col0, #T_9beab_row7_col1, #T_9beab_row7_col2, #T_9beab_row7_col3, #T_9beab_row7_col4, #T_9beab_row7_col5, #T_9beab_row7_col6, #T_9beab_row8_col0, #T_9beab_row8_col1, #T_9beab_row8_col2, #T_9beab_row8_col3, #T_9beab_row8_col4, #T_9beab_row8_col5, #T_9beab_row8_col6, #T_9beab_row9_col0, #T_9beab_row9_col1, #T_9beab_row9_col2, #T_9beab_row9_col3, #T_9beab_row9_col4, #T_9beab_row9_col5, #T_9beab_row9_col6, #T_9beab_row10_col0, #T_9beab_row10_col1, #T_9beab_row10_col2, #T_9beab_row10_col3, #T_9beab_row10_col4, #T_9beab_row10_col5, #T_9beab_row10_col6, #T_9beab_row11_col0, #T_9beab_row11_col1, #T_9beab_row11_col2, #T_9beab_row11_col3, #T_9beab_row11_col4, #T_9beab_row11_col5, #T_9beab_row11_col6, #T_9beab_row12_col0, #T_9beab_row12_col1, #T_9beab_row12_col2, #T_9beab_row12_col3, #T_9beab_row12_col4, #T_9beab_row12_col5, #T_9beab_row12_col6, #T_9beab_row13_col0, #T_9beab_row13_col1, #T_9beab_row13_col2, #T_9beab_row13_col3, #T_9beab_row13_col4, #T_9beab_row13_col5, #T_9beab_row13_col6, #T_9beab_row14_col0, #T_9beab_row14_col1, #T_9beab_row14_col2, #T_9beab_row14_col3, #T_9beab_row14_col4, #T_9beab_row14_col5, #T_9beab_row14_col6, #T_9beab_row15_col0, #T_9beab_row15_col1, #T_9beab_row15_col2, #T_9beab_row15_col3, #T_9beab_row15_col4, #T_9beab_row15_col5, #T_9beab_row15_col6, #T_9beab_row16_col0, #T_9beab_row16_col1, #T_9beab_row16_col2, #T_9beab_row16_col3, #T_9beab_row16_col4, #T_9beab_row16_col5, #T_9beab_row16_col6, #T_9beab_row17_col0, #T_9beab_row17_col1, #T_9beab_row17_col2, #T_9beab_row17_col3, #T_9beab_row17_col4, #T_9beab_row17_col5, #T_9beab_row17_col6, #T_9beab_row18_col0, #T_9beab_row18_col1, #T_9beab_row18_col2, #T_9beab_row18_col3, #T_9beab_row18_col4, #T_9beab_row18_col5, #T_9beab_row18_col6 {\n",
              "  text-align: left;\n",
              "}\n",
              "#T_9beab_row0_col1, #T_9beab_row0_col2, #T_9beab_row0_col3, #T_9beab_row0_col4, #T_9beab_row0_col5, #T_9beab_row0_col6 {\n",
              "  text-align: left;\n",
              "  background-color: yellow;\n",
              "}\n",
              "#T_9beab_row0_col7, #T_9beab_row1_col7, #T_9beab_row2_col7, #T_9beab_row3_col7, #T_9beab_row4_col7, #T_9beab_row5_col7, #T_9beab_row6_col7, #T_9beab_row7_col7, #T_9beab_row8_col7, #T_9beab_row9_col7, #T_9beab_row10_col7, #T_9beab_row11_col7, #T_9beab_row12_col7, #T_9beab_row13_col7, #T_9beab_row14_col7, #T_9beab_row15_col7, #T_9beab_row16_col7, #T_9beab_row17_col7 {\n",
              "  text-align: left;\n",
              "  background-color: lightgrey;\n",
              "}\n",
              "#T_9beab_row18_col7 {\n",
              "  text-align: left;\n",
              "  background-color: yellow;\n",
              "  background-color: lightgrey;\n",
              "}\n",
              "</style>\n",
              "<table id=\"T_9beab\" class=\"dataframe\">\n",
              "  <thead>\n",
              "    <tr>\n",
              "      <th class=\"blank level0\" >&nbsp;</th>\n",
              "      <th id=\"T_9beab_level0_col0\" class=\"col_heading level0 col0\" >Model</th>\n",
              "      <th id=\"T_9beab_level0_col1\" class=\"col_heading level0 col1\" >MAE</th>\n",
              "      <th id=\"T_9beab_level0_col2\" class=\"col_heading level0 col2\" >MSE</th>\n",
              "      <th id=\"T_9beab_level0_col3\" class=\"col_heading level0 col3\" >RMSE</th>\n",
              "      <th id=\"T_9beab_level0_col4\" class=\"col_heading level0 col4\" >R2</th>\n",
              "      <th id=\"T_9beab_level0_col5\" class=\"col_heading level0 col5\" >RMSLE</th>\n",
              "      <th id=\"T_9beab_level0_col6\" class=\"col_heading level0 col6\" >MAPE</th>\n",
              "      <th id=\"T_9beab_level0_col7\" class=\"col_heading level0 col7\" >TT (Sec)</th>\n",
              "    </tr>\n",
              "  </thead>\n",
              "  <tbody>\n",
              "    <tr>\n",
              "      <th id=\"T_9beab_level0_row0\" class=\"row_heading level0 row0\" >xgboost</th>\n",
              "      <td id=\"T_9beab_row0_col0\" class=\"data row0 col0\" >Extreme Gradient Boosting</td>\n",
              "      <td id=\"T_9beab_row0_col1\" class=\"data row0 col1\" >0.6389</td>\n",
              "      <td id=\"T_9beab_row0_col2\" class=\"data row0 col2\" >1.1489</td>\n",
              "      <td id=\"T_9beab_row0_col3\" class=\"data row0 col3\" >1.0491</td>\n",
              "      <td id=\"T_9beab_row0_col4\" class=\"data row0 col4\" >0.9870</td>\n",
              "      <td id=\"T_9beab_row0_col5\" class=\"data row0 col5\" >0.0334</td>\n",
              "      <td id=\"T_9beab_row0_col6\" class=\"data row0 col6\" >0.0238</td>\n",
              "      <td id=\"T_9beab_row0_col7\" class=\"data row0 col7\" >0.1440</td>\n",
              "    </tr>\n",
              "    <tr>\n",
              "      <th id=\"T_9beab_level0_row1\" class=\"row_heading level0 row1\" >lightgbm</th>\n",
              "      <td id=\"T_9beab_row1_col0\" class=\"data row1 col0\" >Light Gradient Boosting Machine</td>\n",
              "      <td id=\"T_9beab_row1_col1\" class=\"data row1 col1\" >0.8873</td>\n",
              "      <td id=\"T_9beab_row1_col2\" class=\"data row1 col2\" >1.7100</td>\n",
              "      <td id=\"T_9beab_row1_col3\" class=\"data row1 col3\" >1.3070</td>\n",
              "      <td id=\"T_9beab_row1_col4\" class=\"data row1 col4\" >0.9807</td>\n",
              "      <td id=\"T_9beab_row1_col5\" class=\"data row1 col5\" >0.0413</td>\n",
              "      <td id=\"T_9beab_row1_col6\" class=\"data row1 col6\" >0.0328</td>\n",
              "      <td id=\"T_9beab_row1_col7\" class=\"data row1 col7\" >0.3380</td>\n",
              "    </tr>\n",
              "    <tr>\n",
              "      <th id=\"T_9beab_level0_row2\" class=\"row_heading level0 row2\" >gbr</th>\n",
              "      <td id=\"T_9beab_row2_col0\" class=\"data row2 col0\" >Gradient Boosting Regressor</td>\n",
              "      <td id=\"T_9beab_row2_col1\" class=\"data row2 col1\" >1.0391</td>\n",
              "      <td id=\"T_9beab_row2_col2\" class=\"data row2 col2\" >2.3767</td>\n",
              "      <td id=\"T_9beab_row2_col3\" class=\"data row2 col3\" >1.5382</td>\n",
              "      <td id=\"T_9beab_row2_col4\" class=\"data row2 col4\" >0.9734</td>\n",
              "      <td id=\"T_9beab_row2_col5\" class=\"data row2 col5\" >0.0472</td>\n",
              "      <td id=\"T_9beab_row2_col6\" class=\"data row2 col6\" >0.0375</td>\n",
              "      <td id=\"T_9beab_row2_col7\" class=\"data row2 col7\" >0.1700</td>\n",
              "    </tr>\n",
              "    <tr>\n",
              "      <th id=\"T_9beab_level0_row3\" class=\"row_heading level0 row3\" >rf</th>\n",
              "      <td id=\"T_9beab_row3_col0\" class=\"data row3 col0\" >Random Forest Regressor</td>\n",
              "      <td id=\"T_9beab_row3_col1\" class=\"data row3 col1\" >1.0569</td>\n",
              "      <td id=\"T_9beab_row3_col2\" class=\"data row3 col2\" >3.0333</td>\n",
              "      <td id=\"T_9beab_row3_col3\" class=\"data row3 col3\" >1.7351</td>\n",
              "      <td id=\"T_9beab_row3_col4\" class=\"data row3 col4\" >0.9661</td>\n",
              "      <td id=\"T_9beab_row3_col5\" class=\"data row3 col5\" >0.0527</td>\n",
              "      <td id=\"T_9beab_row3_col6\" class=\"data row3 col6\" >0.0369</td>\n",
              "      <td id=\"T_9beab_row3_col7\" class=\"data row3 col7\" >0.2120</td>\n",
              "    </tr>\n",
              "    <tr>\n",
              "      <th id=\"T_9beab_level0_row4\" class=\"row_heading level0 row4\" >et</th>\n",
              "      <td id=\"T_9beab_row4_col0\" class=\"data row4 col0\" >Extra Trees Regressor</td>\n",
              "      <td id=\"T_9beab_row4_col1\" class=\"data row4 col1\" >1.0586</td>\n",
              "      <td id=\"T_9beab_row4_col2\" class=\"data row4 col2\" >3.4956</td>\n",
              "      <td id=\"T_9beab_row4_col3\" class=\"data row4 col3\" >1.8625</td>\n",
              "      <td id=\"T_9beab_row4_col4\" class=\"data row4 col4\" >0.9608</td>\n",
              "      <td id=\"T_9beab_row4_col5\" class=\"data row4 col5\" >0.0561</td>\n",
              "      <td id=\"T_9beab_row4_col6\" class=\"data row4 col6\" >0.0367</td>\n",
              "      <td id=\"T_9beab_row4_col7\" class=\"data row4 col7\" >0.2140</td>\n",
              "    </tr>\n",
              "    <tr>\n",
              "      <th id=\"T_9beab_level0_row5\" class=\"row_heading level0 row5\" >dt</th>\n",
              "      <td id=\"T_9beab_row5_col0\" class=\"data row5 col0\" >Decision Tree Regressor</td>\n",
              "      <td id=\"T_9beab_row5_col1\" class=\"data row5 col1\" >1.1719</td>\n",
              "      <td id=\"T_9beab_row5_col2\" class=\"data row5 col2\" >4.3431</td>\n",
              "      <td id=\"T_9beab_row5_col3\" class=\"data row5 col3\" >2.0757</td>\n",
              "      <td id=\"T_9beab_row5_col4\" class=\"data row5 col4\" >0.9514</td>\n",
              "      <td id=\"T_9beab_row5_col5\" class=\"data row5 col5\" >0.0641</td>\n",
              "      <td id=\"T_9beab_row5_col6\" class=\"data row5 col6\" >0.0417</td>\n",
              "      <td id=\"T_9beab_row5_col7\" class=\"data row5 col7\" >0.0280</td>\n",
              "    </tr>\n",
              "    <tr>\n",
              "      <th id=\"T_9beab_level0_row6\" class=\"row_heading level0 row6\" >knn</th>\n",
              "      <td id=\"T_9beab_row6_col0\" class=\"data row6 col0\" >K Neighbors Regressor</td>\n",
              "      <td id=\"T_9beab_row6_col1\" class=\"data row6 col1\" >1.6732</td>\n",
              "      <td id=\"T_9beab_row6_col2\" class=\"data row6 col2\" >4.8552</td>\n",
              "      <td id=\"T_9beab_row6_col3\" class=\"data row6 col3\" >2.1883</td>\n",
              "      <td id=\"T_9beab_row6_col4\" class=\"data row6 col4\" >0.9454</td>\n",
              "      <td id=\"T_9beab_row6_col5\" class=\"data row6 col5\" >0.0835</td>\n",
              "      <td id=\"T_9beab_row6_col6\" class=\"data row6 col6\" >0.0699</td>\n",
              "      <td id=\"T_9beab_row6_col7\" class=\"data row6 col7\" >0.0380</td>\n",
              "    </tr>\n",
              "    <tr>\n",
              "      <th id=\"T_9beab_level0_row7\" class=\"row_heading level0 row7\" >ada</th>\n",
              "      <td id=\"T_9beab_row7_col0\" class=\"data row7 col0\" >AdaBoost Regressor</td>\n",
              "      <td id=\"T_9beab_row7_col1\" class=\"data row7 col1\" >1.7986</td>\n",
              "      <td id=\"T_9beab_row7_col2\" class=\"data row7 col2\" >5.6480</td>\n",
              "      <td id=\"T_9beab_row7_col3\" class=\"data row7 col3\" >2.3697</td>\n",
              "      <td id=\"T_9beab_row7_col4\" class=\"data row7 col4\" >0.9366</td>\n",
              "      <td id=\"T_9beab_row7_col5\" class=\"data row7 col5\" >0.0805</td>\n",
              "      <td id=\"T_9beab_row7_col6\" class=\"data row7 col6\" >0.0697</td>\n",
              "      <td id=\"T_9beab_row7_col7\" class=\"data row7 col7\" >0.0880</td>\n",
              "    </tr>\n",
              "    <tr>\n",
              "      <th id=\"T_9beab_level0_row8\" class=\"row_heading level0 row8\" >lr</th>\n",
              "      <td id=\"T_9beab_row8_col0\" class=\"data row8 col0\" >Linear Regression</td>\n",
              "      <td id=\"T_9beab_row8_col1\" class=\"data row8 col1\" >2.2554</td>\n",
              "      <td id=\"T_9beab_row8_col2\" class=\"data row8 col2\" >10.0908</td>\n",
              "      <td id=\"T_9beab_row8_col3\" class=\"data row8 col3\" >3.1656</td>\n",
              "      <td id=\"T_9beab_row8_col4\" class=\"data row8 col4\" >0.8867</td>\n",
              "      <td id=\"T_9beab_row8_col5\" class=\"data row8 col5\" >0.1111</td>\n",
              "      <td id=\"T_9beab_row8_col6\" class=\"data row8 col6\" >0.0905</td>\n",
              "      <td id=\"T_9beab_row8_col7\" class=\"data row8 col7\" >2.4320</td>\n",
              "    </tr>\n",
              "    <tr>\n",
              "      <th id=\"T_9beab_level0_row9\" class=\"row_heading level0 row9\" >br</th>\n",
              "      <td id=\"T_9beab_row9_col0\" class=\"data row9 col0\" >Bayesian Ridge</td>\n",
              "      <td id=\"T_9beab_row9_col1\" class=\"data row9 col1\" >2.2873</td>\n",
              "      <td id=\"T_9beab_row9_col2\" class=\"data row9 col2\" >10.2643</td>\n",
              "      <td id=\"T_9beab_row9_col3\" class=\"data row9 col3\" >3.1924</td>\n",
              "      <td id=\"T_9beab_row9_col4\" class=\"data row9 col4\" >0.8849</td>\n",
              "      <td id=\"T_9beab_row9_col5\" class=\"data row9 col5\" >0.1141</td>\n",
              "      <td id=\"T_9beab_row9_col6\" class=\"data row9 col6\" >0.0939</td>\n",
              "      <td id=\"T_9beab_row9_col7\" class=\"data row9 col7\" >0.0340</td>\n",
              "    </tr>\n",
              "    <tr>\n",
              "      <th id=\"T_9beab_level0_row10\" class=\"row_heading level0 row10\" >ridge</th>\n",
              "      <td id=\"T_9beab_row10_col0\" class=\"data row10 col0\" >Ridge Regression</td>\n",
              "      <td id=\"T_9beab_row10_col1\" class=\"data row10 col1\" >2.3595</td>\n",
              "      <td id=\"T_9beab_row10_col2\" class=\"data row10 col2\" >10.6170</td>\n",
              "      <td id=\"T_9beab_row10_col3\" class=\"data row10 col3\" >3.2468</td>\n",
              "      <td id=\"T_9beab_row10_col4\" class=\"data row10 col4\" >0.8809</td>\n",
              "      <td id=\"T_9beab_row10_col5\" class=\"data row10 col5\" >0.1168</td>\n",
              "      <td id=\"T_9beab_row10_col6\" class=\"data row10 col6\" >0.0977</td>\n",
              "      <td id=\"T_9beab_row10_col7\" class=\"data row10 col7\" >0.0580</td>\n",
              "    </tr>\n",
              "    <tr>\n",
              "      <th id=\"T_9beab_level0_row11\" class=\"row_heading level0 row11\" >lar</th>\n",
              "      <td id=\"T_9beab_row11_col0\" class=\"data row11 col0\" >Least Angle Regression</td>\n",
              "      <td id=\"T_9beab_row11_col1\" class=\"data row11 col1\" >2.4799</td>\n",
              "      <td id=\"T_9beab_row11_col2\" class=\"data row11 col2\" >11.2974</td>\n",
              "      <td id=\"T_9beab_row11_col3\" class=\"data row11 col3\" >3.3496</td>\n",
              "      <td id=\"T_9beab_row11_col4\" class=\"data row11 col4\" >0.8725</td>\n",
              "      <td id=\"T_9beab_row11_col5\" class=\"data row11 col5\" >0.1253</td>\n",
              "      <td id=\"T_9beab_row11_col6\" class=\"data row11 col6\" >0.1045</td>\n",
              "      <td id=\"T_9beab_row11_col7\" class=\"data row11 col7\" >0.0320</td>\n",
              "    </tr>\n",
              "    <tr>\n",
              "      <th id=\"T_9beab_level0_row12\" class=\"row_heading level0 row12\" >huber</th>\n",
              "      <td id=\"T_9beab_row12_col0\" class=\"data row12 col0\" >Huber Regressor</td>\n",
              "      <td id=\"T_9beab_row12_col1\" class=\"data row12 col1\" >2.4126</td>\n",
              "      <td id=\"T_9beab_row12_col2\" class=\"data row12 col2\" >11.7792</td>\n",
              "      <td id=\"T_9beab_row12_col3\" class=\"data row12 col3\" >3.4199</td>\n",
              "      <td id=\"T_9beab_row12_col4\" class=\"data row12 col4\" >0.8682</td>\n",
              "      <td id=\"T_9beab_row12_col5\" class=\"data row12 col5\" >0.1206</td>\n",
              "      <td id=\"T_9beab_row12_col6\" class=\"data row12 col6\" >0.0983</td>\n",
              "      <td id=\"T_9beab_row12_col7\" class=\"data row12 col7\" >0.0620</td>\n",
              "    </tr>\n",
              "    <tr>\n",
              "      <th id=\"T_9beab_level0_row13\" class=\"row_heading level0 row13\" >en</th>\n",
              "      <td id=\"T_9beab_row13_col0\" class=\"data row13 col0\" >Elastic Net</td>\n",
              "      <td id=\"T_9beab_row13_col1\" class=\"data row13 col1\" >3.0636</td>\n",
              "      <td id=\"T_9beab_row13_col2\" class=\"data row13 col2\" >18.0790</td>\n",
              "      <td id=\"T_9beab_row13_col3\" class=\"data row13 col3\" >4.2162</td>\n",
              "      <td id=\"T_9beab_row13_col4\" class=\"data row13 col4\" >0.7979</td>\n",
              "      <td id=\"T_9beab_row13_col5\" class=\"data row13 col5\" >0.1493</td>\n",
              "      <td id=\"T_9beab_row13_col6\" class=\"data row13 col6\" >0.1257</td>\n",
              "      <td id=\"T_9beab_row13_col7\" class=\"data row13 col7\" >0.0400</td>\n",
              "    </tr>\n",
              "    <tr>\n",
              "      <th id=\"T_9beab_level0_row14\" class=\"row_heading level0 row14\" >lasso</th>\n",
              "      <td id=\"T_9beab_row14_col0\" class=\"data row14 col0\" >Lasso Regression</td>\n",
              "      <td id=\"T_9beab_row14_col1\" class=\"data row14 col1\" >3.1276</td>\n",
              "      <td id=\"T_9beab_row14_col2\" class=\"data row14 col2\" >18.9532</td>\n",
              "      <td id=\"T_9beab_row14_col3\" class=\"data row14 col3\" >4.3182</td>\n",
              "      <td id=\"T_9beab_row14_col4\" class=\"data row14 col4\" >0.7881</td>\n",
              "      <td id=\"T_9beab_row14_col5\" class=\"data row14 col5\" >0.1519</td>\n",
              "      <td id=\"T_9beab_row14_col6\" class=\"data row14 col6\" >0.1278</td>\n",
              "      <td id=\"T_9beab_row14_col7\" class=\"data row14 col7\" >0.0740</td>\n",
              "    </tr>\n",
              "    <tr>\n",
              "      <th id=\"T_9beab_level0_row15\" class=\"row_heading level0 row15\" >llar</th>\n",
              "      <td id=\"T_9beab_row15_col0\" class=\"data row15 col0\" >Lasso Least Angle Regression</td>\n",
              "      <td id=\"T_9beab_row15_col1\" class=\"data row15 col1\" >3.1276</td>\n",
              "      <td id=\"T_9beab_row15_col2\" class=\"data row15 col2\" >18.9532</td>\n",
              "      <td id=\"T_9beab_row15_col3\" class=\"data row15 col3\" >4.3182</td>\n",
              "      <td id=\"T_9beab_row15_col4\" class=\"data row15 col4\" >0.7881</td>\n",
              "      <td id=\"T_9beab_row15_col5\" class=\"data row15 col5\" >0.1519</td>\n",
              "      <td id=\"T_9beab_row15_col6\" class=\"data row15 col6\" >0.1278</td>\n",
              "      <td id=\"T_9beab_row15_col7\" class=\"data row15 col7\" >0.0280</td>\n",
              "    </tr>\n",
              "    <tr>\n",
              "      <th id=\"T_9beab_level0_row16\" class=\"row_heading level0 row16\" >omp</th>\n",
              "      <td id=\"T_9beab_row16_col0\" class=\"data row16 col0\" >Orthogonal Matching Pursuit</td>\n",
              "      <td id=\"T_9beab_row16_col1\" class=\"data row16 col1\" >5.5942</td>\n",
              "      <td id=\"T_9beab_row16_col2\" class=\"data row16 col2\" >49.2776</td>\n",
              "      <td id=\"T_9beab_row16_col3\" class=\"data row16 col3\" >7.0009</td>\n",
              "      <td id=\"T_9beab_row16_col4\" class=\"data row16 col4\" >0.4498</td>\n",
              "      <td id=\"T_9beab_row16_col5\" class=\"data row16 col5\" >0.2705</td>\n",
              "      <td id=\"T_9beab_row16_col6\" class=\"data row16 col6\" >0.2484</td>\n",
              "      <td id=\"T_9beab_row16_col7\" class=\"data row16 col7\" >0.0280</td>\n",
              "    </tr>\n",
              "    <tr>\n",
              "      <th id=\"T_9beab_level0_row17\" class=\"row_heading level0 row17\" >par</th>\n",
              "      <td id=\"T_9beab_row17_col0\" class=\"data row17 col0\" >Passive Aggressive Regressor</td>\n",
              "      <td id=\"T_9beab_row17_col1\" class=\"data row17 col1\" >5.7487</td>\n",
              "      <td id=\"T_9beab_row17_col2\" class=\"data row17 col2\" >52.4317</td>\n",
              "      <td id=\"T_9beab_row17_col3\" class=\"data row17 col3\" >7.1776</td>\n",
              "      <td id=\"T_9beab_row17_col4\" class=\"data row17 col4\" >0.4143</td>\n",
              "      <td id=\"T_9beab_row17_col5\" class=\"data row17 col5\" >0.3083</td>\n",
              "      <td id=\"T_9beab_row17_col6\" class=\"data row17 col6\" >0.2715</td>\n",
              "      <td id=\"T_9beab_row17_col7\" class=\"data row17 col7\" >0.0300</td>\n",
              "    </tr>\n",
              "    <tr>\n",
              "      <th id=\"T_9beab_level0_row18\" class=\"row_heading level0 row18\" >dummy</th>\n",
              "      <td id=\"T_9beab_row18_col0\" class=\"data row18 col0\" >Dummy Regressor</td>\n",
              "      <td id=\"T_9beab_row18_col1\" class=\"data row18 col1\" >8.5641</td>\n",
              "      <td id=\"T_9beab_row18_col2\" class=\"data row18 col2\" >90.1255</td>\n",
              "      <td id=\"T_9beab_row18_col3\" class=\"data row18 col3\" >9.4864</td>\n",
              "      <td id=\"T_9beab_row18_col4\" class=\"data row18 col4\" >-0.0096</td>\n",
              "      <td id=\"T_9beab_row18_col5\" class=\"data row18 col5\" >0.3819</td>\n",
              "      <td id=\"T_9beab_row18_col6\" class=\"data row18 col6\" >0.4026</td>\n",
              "      <td id=\"T_9beab_row18_col7\" class=\"data row18 col7\" >0.0240</td>\n",
              "    </tr>\n",
              "  </tbody>\n",
              "</table>\n"
            ]
          },
          "metadata": {}
        },
        {
          "output_type": "display_data",
          "data": {
            "text/plain": [
              "Processing:   0%|          | 0/81 [00:00<?, ?it/s]"
            ],
            "application/vnd.jupyter.widget-view+json": {
              "version_major": 2,
              "version_minor": 0,
              "model_id": "d35ae2ab51ef41678ae7c33c96252c93"
            }
          },
          "metadata": {
            "application/vnd.jupyter.widget-view+json": {
              "colab": {
                "custom_widget_manager": {
                  "url": "https://ssl.gstatic.com/colaboratory-static/widgets/colab-cdn-widget-manager/2b70e893a8ba7c0f/manager.min.js"
                }
              }
            }
          }
        },
        {
          "output_type": "display_data",
          "data": {
            "text/plain": [
              "<IPython.core.display.HTML object>"
            ],
            "text/html": []
          },
          "metadata": {}
        }
      ]
    },
    {
      "cell_type": "code",
      "source": [
        "model = create_model('xgboost')"
      ],
      "metadata": {
        "colab": {
          "base_uri": "https://localhost:8080/",
          "height": 457,
          "referenced_widgets": [
            "a90a44a1ea8f4053a1dc027cf118493d",
            "9822eeba747f4a7ebfce7c1e2cbe01fa",
            "27606f13f2fb498aaa2458e22785c5c2",
            "505355c7f909480096b3e6fcc7f9250f",
            "35c46a7735ab408d89c5f07274d66622",
            "16a835ef52d24fde8d35f5268b310518",
            "c72dff4315854a6b97f7193a2a1e4f5f",
            "0ce6af31420b4e04a3ac83fcb416603d",
            "c6cd15d012ce429dbcc6ffdd8c82e998",
            "1f852e89f58d4880b0ca5174e77d413a",
            "d65af9050dcf4a5bb67cdc77ce968a38"
          ]
        },
        "id": "xcwRA15f1zrN",
        "outputId": "53e73885-75fc-4b64-ab3b-5a5294fd8c5c"
      },
      "execution_count": 14,
      "outputs": [
        {
          "output_type": "display_data",
          "data": {
            "text/plain": [
              "<IPython.core.display.HTML object>"
            ],
            "text/html": []
          },
          "metadata": {}
        },
        {
          "output_type": "display_data",
          "data": {
            "text/plain": [
              "<pandas.io.formats.style.Styler at 0x7bfab4450610>"
            ],
            "text/html": [
              "<style type=\"text/css\">\n",
              "#T_aa3b3_row10_col0, #T_aa3b3_row10_col1, #T_aa3b3_row10_col2, #T_aa3b3_row10_col3, #T_aa3b3_row10_col4, #T_aa3b3_row10_col5 {\n",
              "  background: yellow;\n",
              "}\n",
              "</style>\n",
              "<table id=\"T_aa3b3\" class=\"dataframe\">\n",
              "  <thead>\n",
              "    <tr>\n",
              "      <th class=\"blank level0\" >&nbsp;</th>\n",
              "      <th id=\"T_aa3b3_level0_col0\" class=\"col_heading level0 col0\" >MAE</th>\n",
              "      <th id=\"T_aa3b3_level0_col1\" class=\"col_heading level0 col1\" >MSE</th>\n",
              "      <th id=\"T_aa3b3_level0_col2\" class=\"col_heading level0 col2\" >RMSE</th>\n",
              "      <th id=\"T_aa3b3_level0_col3\" class=\"col_heading level0 col3\" >R2</th>\n",
              "      <th id=\"T_aa3b3_level0_col4\" class=\"col_heading level0 col4\" >RMSLE</th>\n",
              "      <th id=\"T_aa3b3_level0_col5\" class=\"col_heading level0 col5\" >MAPE</th>\n",
              "    </tr>\n",
              "    <tr>\n",
              "      <th class=\"index_name level0\" >Fold</th>\n",
              "      <th class=\"blank col0\" >&nbsp;</th>\n",
              "      <th class=\"blank col1\" >&nbsp;</th>\n",
              "      <th class=\"blank col2\" >&nbsp;</th>\n",
              "      <th class=\"blank col3\" >&nbsp;</th>\n",
              "      <th class=\"blank col4\" >&nbsp;</th>\n",
              "      <th class=\"blank col5\" >&nbsp;</th>\n",
              "    </tr>\n",
              "  </thead>\n",
              "  <tbody>\n",
              "    <tr>\n",
              "      <th id=\"T_aa3b3_level0_row0\" class=\"row_heading level0 row0\" >0</th>\n",
              "      <td id=\"T_aa3b3_row0_col0\" class=\"data row0 col0\" >0.5717</td>\n",
              "      <td id=\"T_aa3b3_row0_col1\" class=\"data row0 col1\" >0.6607</td>\n",
              "      <td id=\"T_aa3b3_row0_col2\" class=\"data row0 col2\" >0.8128</td>\n",
              "      <td id=\"T_aa3b3_row0_col3\" class=\"data row0 col3\" >0.9935</td>\n",
              "      <td id=\"T_aa3b3_row0_col4\" class=\"data row0 col4\" >0.0260</td>\n",
              "      <td id=\"T_aa3b3_row0_col5\" class=\"data row0 col5\" >0.0208</td>\n",
              "    </tr>\n",
              "    <tr>\n",
              "      <th id=\"T_aa3b3_level0_row1\" class=\"row_heading level0 row1\" >1</th>\n",
              "      <td id=\"T_aa3b3_row1_col0\" class=\"data row1 col0\" >0.4672</td>\n",
              "      <td id=\"T_aa3b3_row1_col1\" class=\"data row1 col1\" >0.4311</td>\n",
              "      <td id=\"T_aa3b3_row1_col2\" class=\"data row1 col2\" >0.6566</td>\n",
              "      <td id=\"T_aa3b3_row1_col3\" class=\"data row1 col3\" >0.9949</td>\n",
              "      <td id=\"T_aa3b3_row1_col4\" class=\"data row1 col4\" >0.0231</td>\n",
              "      <td id=\"T_aa3b3_row1_col5\" class=\"data row1 col5\" >0.0184</td>\n",
              "    </tr>\n",
              "    <tr>\n",
              "      <th id=\"T_aa3b3_level0_row2\" class=\"row_heading level0 row2\" >2</th>\n",
              "      <td id=\"T_aa3b3_row2_col0\" class=\"data row2 col0\" >0.7359</td>\n",
              "      <td id=\"T_aa3b3_row2_col1\" class=\"data row2 col1\" >1.9448</td>\n",
              "      <td id=\"T_aa3b3_row2_col2\" class=\"data row2 col2\" >1.3946</td>\n",
              "      <td id=\"T_aa3b3_row2_col3\" class=\"data row2 col3\" >0.9759</td>\n",
              "      <td id=\"T_aa3b3_row2_col4\" class=\"data row2 col4\" >0.0420</td>\n",
              "      <td id=\"T_aa3b3_row2_col5\" class=\"data row2 col5\" >0.0272</td>\n",
              "    </tr>\n",
              "    <tr>\n",
              "      <th id=\"T_aa3b3_level0_row3\" class=\"row_heading level0 row3\" >3</th>\n",
              "      <td id=\"T_aa3b3_row3_col0\" class=\"data row3 col0\" >0.4927</td>\n",
              "      <td id=\"T_aa3b3_row3_col1\" class=\"data row3 col1\" >0.4909</td>\n",
              "      <td id=\"T_aa3b3_row3_col2\" class=\"data row3 col2\" >0.7006</td>\n",
              "      <td id=\"T_aa3b3_row3_col3\" class=\"data row3 col3\" >0.9931</td>\n",
              "      <td id=\"T_aa3b3_row3_col4\" class=\"data row3 col4\" >0.0240</td>\n",
              "      <td id=\"T_aa3b3_row3_col5\" class=\"data row3 col5\" >0.0189</td>\n",
              "    </tr>\n",
              "    <tr>\n",
              "      <th id=\"T_aa3b3_level0_row4\" class=\"row_heading level0 row4\" >4</th>\n",
              "      <td id=\"T_aa3b3_row4_col0\" class=\"data row4 col0\" >0.7712</td>\n",
              "      <td id=\"T_aa3b3_row4_col1\" class=\"data row4 col1\" >2.2455</td>\n",
              "      <td id=\"T_aa3b3_row4_col2\" class=\"data row4 col2\" >1.4985</td>\n",
              "      <td id=\"T_aa3b3_row4_col3\" class=\"data row4 col3\" >0.9784</td>\n",
              "      <td id=\"T_aa3b3_row4_col4\" class=\"data row4 col4\" >0.0402</td>\n",
              "      <td id=\"T_aa3b3_row4_col5\" class=\"data row4 col5\" >0.0254</td>\n",
              "    </tr>\n",
              "    <tr>\n",
              "      <th id=\"T_aa3b3_level0_row5\" class=\"row_heading level0 row5\" >5</th>\n",
              "      <td id=\"T_aa3b3_row5_col0\" class=\"data row5 col0\" >0.4773</td>\n",
              "      <td id=\"T_aa3b3_row5_col1\" class=\"data row5 col1\" >0.5715</td>\n",
              "      <td id=\"T_aa3b3_row5_col2\" class=\"data row5 col2\" >0.7560</td>\n",
              "      <td id=\"T_aa3b3_row5_col3\" class=\"data row5 col3\" >0.9933</td>\n",
              "      <td id=\"T_aa3b3_row5_col4\" class=\"data row5 col4\" >0.0256</td>\n",
              "      <td id=\"T_aa3b3_row5_col5\" class=\"data row5 col5\" >0.0191</td>\n",
              "    </tr>\n",
              "    <tr>\n",
              "      <th id=\"T_aa3b3_level0_row6\" class=\"row_heading level0 row6\" >6</th>\n",
              "      <td id=\"T_aa3b3_row6_col0\" class=\"data row6 col0\" >0.6353</td>\n",
              "      <td id=\"T_aa3b3_row6_col1\" class=\"data row6 col1\" >0.7986</td>\n",
              "      <td id=\"T_aa3b3_row6_col2\" class=\"data row6 col2\" >0.8936</td>\n",
              "      <td id=\"T_aa3b3_row6_col3\" class=\"data row6 col3\" >0.9897</td>\n",
              "      <td id=\"T_aa3b3_row6_col4\" class=\"data row6 col4\" >0.0314</td>\n",
              "      <td id=\"T_aa3b3_row6_col5\" class=\"data row6 col5\" >0.0245</td>\n",
              "    </tr>\n",
              "    <tr>\n",
              "      <th id=\"T_aa3b3_level0_row7\" class=\"row_heading level0 row7\" >7</th>\n",
              "      <td id=\"T_aa3b3_row7_col0\" class=\"data row7 col0\" >0.7764</td>\n",
              "      <td id=\"T_aa3b3_row7_col1\" class=\"data row7 col1\" >1.9709</td>\n",
              "      <td id=\"T_aa3b3_row7_col2\" class=\"data row7 col2\" >1.4039</td>\n",
              "      <td id=\"T_aa3b3_row7_col3\" class=\"data row7 col3\" >0.9804</td>\n",
              "      <td id=\"T_aa3b3_row7_col4\" class=\"data row7 col4\" >0.0398</td>\n",
              "      <td id=\"T_aa3b3_row7_col5\" class=\"data row7 col5\" >0.0271</td>\n",
              "    </tr>\n",
              "    <tr>\n",
              "      <th id=\"T_aa3b3_level0_row8\" class=\"row_heading level0 row8\" >8</th>\n",
              "      <td id=\"T_aa3b3_row8_col0\" class=\"data row8 col0\" >0.4646</td>\n",
              "      <td id=\"T_aa3b3_row8_col1\" class=\"data row8 col1\" >0.4741</td>\n",
              "      <td id=\"T_aa3b3_row8_col2\" class=\"data row8 col2\" >0.6886</td>\n",
              "      <td id=\"T_aa3b3_row8_col3\" class=\"data row8 col3\" >0.9950</td>\n",
              "      <td id=\"T_aa3b3_row8_col4\" class=\"data row8 col4\" >0.0253</td>\n",
              "      <td id=\"T_aa3b3_row8_col5\" class=\"data row8 col5\" >0.0196</td>\n",
              "    </tr>\n",
              "    <tr>\n",
              "      <th id=\"T_aa3b3_level0_row9\" class=\"row_heading level0 row9\" >9</th>\n",
              "      <td id=\"T_aa3b3_row9_col0\" class=\"data row9 col0\" >0.5686</td>\n",
              "      <td id=\"T_aa3b3_row9_col1\" class=\"data row9 col1\" >0.9357</td>\n",
              "      <td id=\"T_aa3b3_row9_col2\" class=\"data row9 col2\" >0.9673</td>\n",
              "      <td id=\"T_aa3b3_row9_col3\" class=\"data row9 col3\" >0.9895</td>\n",
              "      <td id=\"T_aa3b3_row9_col4\" class=\"data row9 col4\" >0.0328</td>\n",
              "      <td id=\"T_aa3b3_row9_col5\" class=\"data row9 col5\" >0.0218</td>\n",
              "    </tr>\n",
              "    <tr>\n",
              "      <th id=\"T_aa3b3_level0_row10\" class=\"row_heading level0 row10\" >Mean</th>\n",
              "      <td id=\"T_aa3b3_row10_col0\" class=\"data row10 col0\" >0.5961</td>\n",
              "      <td id=\"T_aa3b3_row10_col1\" class=\"data row10 col1\" >1.0524</td>\n",
              "      <td id=\"T_aa3b3_row10_col2\" class=\"data row10 col2\" >0.9773</td>\n",
              "      <td id=\"T_aa3b3_row10_col3\" class=\"data row10 col3\" >0.9884</td>\n",
              "      <td id=\"T_aa3b3_row10_col4\" class=\"data row10 col4\" >0.0310</td>\n",
              "      <td id=\"T_aa3b3_row10_col5\" class=\"data row10 col5\" >0.0223</td>\n",
              "    </tr>\n",
              "    <tr>\n",
              "      <th id=\"T_aa3b3_level0_row11\" class=\"row_heading level0 row11\" >Std</th>\n",
              "      <td id=\"T_aa3b3_row11_col0\" class=\"data row11 col0\" >0.1201</td>\n",
              "      <td id=\"T_aa3b3_row11_col1\" class=\"data row11 col1\" >0.6754</td>\n",
              "      <td id=\"T_aa3b3_row11_col2\" class=\"data row11 col2\" >0.3120</td>\n",
              "      <td id=\"T_aa3b3_row11_col3\" class=\"data row11 col3\" >0.0069</td>\n",
              "      <td id=\"T_aa3b3_row11_col4\" class=\"data row11 col4\" >0.0070</td>\n",
              "      <td id=\"T_aa3b3_row11_col5\" class=\"data row11 col5\" >0.0033</td>\n",
              "    </tr>\n",
              "  </tbody>\n",
              "</table>\n"
            ]
          },
          "metadata": {}
        },
        {
          "output_type": "display_data",
          "data": {
            "text/plain": [
              "Processing:   0%|          | 0/4 [00:00<?, ?it/s]"
            ],
            "application/vnd.jupyter.widget-view+json": {
              "version_major": 2,
              "version_minor": 0,
              "model_id": "a90a44a1ea8f4053a1dc027cf118493d"
            }
          },
          "metadata": {
            "application/vnd.jupyter.widget-view+json": {
              "colab": {
                "custom_widget_manager": {
                  "url": "https://ssl.gstatic.com/colaboratory-static/widgets/colab-cdn-widget-manager/2b70e893a8ba7c0f/manager.min.js"
                }
              }
            }
          }
        },
        {
          "output_type": "display_data",
          "data": {
            "text/plain": [
              "<IPython.core.display.HTML object>"
            ],
            "text/html": []
          },
          "metadata": {}
        }
      ]
    },
    {
      "cell_type": "code",
      "source": [
        "plot_model(model)"
      ],
      "metadata": {
        "colab": {
          "base_uri": "https://localhost:8080/",
          "height": 524
        },
        "id": "N7r04i6m3YoH",
        "outputId": "21d83ec2-4495-454d-d50f-f3ebae9db5b0"
      },
      "execution_count": 15,
      "outputs": [
        {
          "output_type": "display_data",
          "data": {
            "text/plain": [
              "<IPython.core.display.HTML object>"
            ],
            "text/html": []
          },
          "metadata": {}
        },
        {
          "output_type": "display_data",
          "data": {
            "text/plain": [
              "<Figure size 800x550 with 2 Axes>"
            ],
            "image/png": "[encoded data removed]"
          },
          "metadata": {}
        }
      ]
    },
    {
      "cell_type": "code",
      "source": [
        "plot_model(model, plot=\"error\")"
      ],
      "metadata": {
        "colab": {
          "base_uri": "https://localhost:8080/",
          "height": 526
        },
        "id": "mLTyeDlS2Bf6",
        "outputId": "ee38222b-8c54-490e-d9cc-dd4dcabc308e"
      },
      "execution_count": 16,
      "outputs": [
        {
          "output_type": "display_data",
          "data": {
            "text/plain": [
              "<IPython.core.display.HTML object>"
            ],
            "text/html": []
          },
          "metadata": {}
        },
        {
          "output_type": "display_data",
          "data": {
            "text/plain": [
              "<Figure size 800x550 with 1 Axes>"
            ],
            "image/png": "[encoded data removed]"
          },
          "metadata": {}
        }
      ]
    },
    {
      "cell_type": "code",
      "source": [
        "plot_model(model, plot = 'feature')"
      ],
      "metadata": {
        "colab": {
          "base_uri": "https://localhost:8080/",
          "height": 485
        },
        "id": "QjMSkOBu2XRp",
        "outputId": "8e280f4f-3200-4564-d14f-64b36066cd12"
      },
      "execution_count": 17,
      "outputs": [
        {
          "output_type": "display_data",
          "data": {
            "text/plain": [
              "<IPython.core.display.HTML object>"
            ],
            "text/html": []
          },
          "metadata": {}
        },
        {
          "output_type": "display_data",
          "data": {
            "text/plain": [
              "<Figure size 800x500 with 1 Axes>"
            ],
            "image/png": "[encoded data removed]"
          },
          "metadata": {}
        }
      ]
    },
    {
      "cell_type": "code",
      "source": [
        "evaluate_model(model)"
      ],
      "metadata": {
        "colab": {
          "base_uri": "https://localhost:8080/",
          "height": 209,
          "referenced_widgets": [
            "fff31f72c608427f96bc6a50c4dd9cb0",
            "cfa0f400fb5d4009af8e4d268688f343",
            "1121c03be4a6442780384b01c6c6028a",
            "1453b70370e548778b17d9befb652e76",
            "402eee2989454221800fffdbd6b0b731",
            "96f59357e2314af7a990dd57a12fd15a",
            "79e6acccab64410c92ae40d40fd6d4d6"
          ]
        },
        "id": "0iWGXaq12oKe",
        "outputId": "21fa218a-d043-4e65-d9d2-9861c6017cb2"
      },
      "execution_count": 18,
      "outputs": [
        {
          "output_type": "display_data",
          "data": {
            "text/plain": [
              "interactive(children=(ToggleButtons(description='Plot Type:', icons=('',), options=(('Pipeline Plot', 'pipelin…"
            ],
            "application/vnd.jupyter.widget-view+json": {
              "version_major": 2,
              "version_minor": 0,
              "model_id": "fff31f72c608427f96bc6a50c4dd9cb0"
            }
          },
          "metadata": {
            "application/vnd.jupyter.widget-view+json": {
              "colab": {
                "custom_widget_manager": {
                  "url": "https://ssl.gstatic.com/colaboratory-static/widgets/colab-cdn-widget-manager/2b70e893a8ba7c0f/manager.min.js"
                }
              }
            }
          }
        }
      ]
    },
    {
      "cell_type": "code",
      "source": [
        "pred_holdouts = predict_model(model)\n",
        "pred_holdouts.head()"
      ],
      "metadata": {
        "colab": {
          "base_uri": "https://localhost:8080/",
          "height": 287
        },
        "id": "JqJ9GGzQ3eOv",
        "outputId": "e765a386-ea70-4a13-c909-607c9b0e815d"
      },
      "execution_count": 19,
      "outputs": [
        {
          "output_type": "display_data",
          "data": {
            "text/plain": [
              "<pandas.io.formats.style.Styler at 0x7bfab467d810>"
            ],
            "text/html": [
              "<style type=\"text/css\">\n",
              "</style>\n",
              "<table id=\"T_90b4e\" class=\"dataframe\">\n",
              "  <thead>\n",
              "    <tr>\n",
              "      <th class=\"blank level0\" >&nbsp;</th>\n",
              "      <th id=\"T_90b4e_level0_col0\" class=\"col_heading level0 col0\" >Model</th>\n",
              "      <th id=\"T_90b4e_level0_col1\" class=\"col_heading level0 col1\" >MAE</th>\n",
              "      <th id=\"T_90b4e_level0_col2\" class=\"col_heading level0 col2\" >MSE</th>\n",
              "      <th id=\"T_90b4e_level0_col3\" class=\"col_heading level0 col3\" >RMSE</th>\n",
              "      <th id=\"T_90b4e_level0_col4\" class=\"col_heading level0 col4\" >R2</th>\n",
              "      <th id=\"T_90b4e_level0_col5\" class=\"col_heading level0 col5\" >RMSLE</th>\n",
              "      <th id=\"T_90b4e_level0_col6\" class=\"col_heading level0 col6\" >MAPE</th>\n",
              "    </tr>\n",
              "  </thead>\n",
              "  <tbody>\n",
              "    <tr>\n",
              "      <th id=\"T_90b4e_level0_row0\" class=\"row_heading level0 row0\" >0</th>\n",
              "      <td id=\"T_90b4e_row0_col0\" class=\"data row0 col0\" >Extreme Gradient Boosting</td>\n",
              "      <td id=\"T_90b4e_row0_col1\" class=\"data row0 col1\" >0.6556</td>\n",
              "      <td id=\"T_90b4e_row0_col2\" class=\"data row0 col2\" >1.5229</td>\n",
              "      <td id=\"T_90b4e_row0_col3\" class=\"data row0 col3\" >1.2341</td>\n",
              "      <td id=\"T_90b4e_row0_col4\" class=\"data row0 col4\" >0.9834</td>\n",
              "      <td id=\"T_90b4e_row0_col5\" class=\"data row0 col5\" >0.0344</td>\n",
              "      <td id=\"T_90b4e_row0_col6\" class=\"data row0 col6\" >0.0231</td>\n",
              "    </tr>\n",
              "  </tbody>\n",
              "</table>\n"
            ]
          },
          "metadata": {}
        },
        {
          "output_type": "execute_result",
          "data": {
            "text/plain": [
              "     Relative Compactness  Surface Area  Wall Area  Roof Area  Overall Height  \\\n",
              "286                  0.62         808.5      367.5     220.50             3.5   \n",
              "710                  0.66         759.5      318.5     220.50             3.5   \n",
              "13                   0.82         612.5      318.5     147.00             7.0   \n",
              "296                  0.86         588.0      294.0     147.00             7.0   \n",
              "290                  0.98         514.5      294.0     110.25             7.0   \n",
              "\n",
              "     Orientation  Glazing Area  Glazing Area Distribution  Cooling Load  \\\n",
              "286            4          0.10                          5     13.990000   \n",
              "710            4          0.40                          4     18.360001   \n",
              "13             3          0.00                          0     21.459999   \n",
              "296            2          0.25                          1     33.980000   \n",
              "290            4          0.25                          1     29.280001   \n",
              "\n",
              "     prediction_label  \n",
              "286         14.000792  \n",
              "710         18.231325  \n",
              "13          20.713896  \n",
              "296         33.292915  \n",
              "290         29.573301  "
            ],
            "text/html": [
              "\n",
              "  <div id=\"df-68b862f8-22c5-4d57-a8a1-66bb58433dc4\" class=\"colab-df-container\">\n",
              "    <div>\n",
              "<style scoped>\n",
              "    .dataframe tbody tr th:only-of-type {\n",
              "        vertical-align: middle;\n",
              "    }\n",
              "\n",
              "    .dataframe tbody tr th {\n",
              "        vertical-align: top;\n",
              "    }\n",
              "\n",
              "    .dataframe thead th {\n",
              "        text-align: right;\n",
              "    }\n",
              "</style>\n",
              "<table border=\"1\" class=\"dataframe\">\n",
              "  <thead>\n",
              "    <tr style=\"text-align: right;\">\n",
              "      <th></th>\n",
              "      <th>Relative Compactness</th>\n",
              "      <th>Surface Area</th>\n",
              "      <th>Wall Area</th>\n",
              "      <th>Roof Area</th>\n",
              "      <th>Overall Height</th>\n",
              "      <th>Orientation</th>\n",
              "      <th>Glazing Area</th>\n",
              "      <th>Glazing Area Distribution</th>\n",
              "      <th>Cooling Load</th>\n",
              "      <th>prediction_label</th>\n",
              "    </tr>\n",
              "  </thead>\n",
              "  <tbody>\n",
              "    <tr>\n",
              "      <th>286</th>\n",
              "      <td>0.62</td>\n",
              "      <td>808.5</td>\n",
              "      <td>367.5</td>\n",
              "      <td>220.50</td>\n",
              "      <td>3.5</td>\n",
              "      <td>4</td>\n",
              "      <td>0.10</td>\n",
              "      <td>5</td>\n",
              "      <td>13.990000</td>\n",
              "      <td>14.000792</td>\n",
              "    </tr>\n",
              "    <tr>\n",
              "      <th>710</th>\n",
              "      <td>0.66</td>\n",
              "      <td>759.5</td>\n",
              "      <td>318.5</td>\n",
              "      <td>220.50</td>\n",
              "      <td>3.5</td>\n",
              "      <td>4</td>\n",
              "      <td>0.40</td>\n",
              "      <td>4</td>\n",
              "      <td>18.360001</td>\n",
              "      <td>18.231325</td>\n",
              "    </tr>\n",
              "    <tr>\n",
              "      <th>13</th>\n",
              "      <td>0.82</td>\n",
              "      <td>612.5</td>\n",
              "      <td>318.5</td>\n",
              "      <td>147.00</td>\n",
              "      <td>7.0</td>\n",
              "      <td>3</td>\n",
              "      <td>0.00</td>\n",
              "      <td>0</td>\n",
              "      <td>21.459999</td>\n",
              "      <td>20.713896</td>\n",
              "    </tr>\n",
              "    <tr>\n",
              "      <th>296</th>\n",
              "      <td>0.86</td>\n",
              "      <td>588.0</td>\n",
              "      <td>294.0</td>\n",
              "      <td>147.00</td>\n",
              "      <td>7.0</td>\n",
              "      <td>2</td>\n",
              "      <td>0.25</td>\n",
              "      <td>1</td>\n",
              "      <td>33.980000</td>\n",
              "      <td>33.292915</td>\n",
              "    </tr>\n",
              "    <tr>\n",
              "      <th>290</th>\n",
              "      <td>0.98</td>\n",
              "      <td>514.5</td>\n",
              "      <td>294.0</td>\n",
              "      <td>110.25</td>\n",
              "      <td>7.0</td>\n",
              "      <td>4</td>\n",
              "      <td>0.25</td>\n",
              "      <td>1</td>\n",
              "      <td>29.280001</td>\n",
              "      <td>29.573301</td>\n",
              "    </tr>\n",
              "  </tbody>\n",
              "</table>\n",
              "</div>\n",
              "    <div class=\"colab-df-buttons\">\n",
              "\n",
              "  <div class=\"colab-df-container\">\n",
              "    <button class=\"colab-df-convert\" onclick=\"convertToInteractive('df-68b862f8-22c5-4d57-a8a1-66bb58433dc4')\"\n",
              "            title=\"Convert this dataframe to an interactive table.\"\n",
              "            style=\"display:none;\">\n",
              "\n",
              "  <svg xmlns=\"http://www.w3.org/2000/svg\" height=\"24px\" viewBox=\"0 -960 960 960\">\n",
              "    <path d=\"M120-120v-720h720v720H120Zm60-500h600v-160H180v160Zm220 220h160v-160H400v160Zm0 220h160v-160H400v160ZM180-400h160v-160H180v160Zm440 0h160v-160H620v160ZM180-180h160v-160H180v160Zm440 0h160v-160H620v160Z\"/>\n",
              "  </svg>\n",
              "    </button>\n",
              "\n",
              "  <style>\n",
              "    .colab-df-container {\n",
              "      display:flex;\n",
              "      gap: 12px;\n",
              "    }\n",
              "\n",
              "    .colab-df-convert {\n",
              "      background-color: #E8F0FE;\n",
              "      border: none;\n",
              "      border-radius: 50%;\n",
              "      cursor: pointer;\n",
              "      display: none;\n",
              "      fill: #1967D2;\n",
              "      height: 32px;\n",
              "      padding: 0 0 0 0;\n",
              "      width: 32px;\n",
              "    }\n",
              "\n",
              "    .colab-df-convert:hover {\n",
              "      background-color: #E2EBFA;\n",
              "      box-shadow: 0px 1px 2px rgba(60, 64, 67, 0.3), 0px 1px 3px 1px rgba(60, 64, 67, 0.15);\n",
              "      fill: #174EA6;\n",
              "    }\n",
              "\n",
              "    .colab-df-buttons div {\n",
              "      margin-bottom: 4px;\n",
              "    }\n",
              "\n",
              "    [theme=dark] .colab-df-convert {\n",
              "      background-color: #3B4455;\n",
              "      fill: #D2E3FC;\n",
              "    }\n",
              "\n",
              "    [theme=dark] .colab-df-convert:hover {\n",
              "      background-color: #434B5C;\n",
              "      box-shadow: 0px 1px 3px 1px rgba(0, 0, 0, 0.15);\n",
              "      filter: drop-shadow(0px 1px 2px rgba(0, 0, 0, 0.3));\n",
              "      fill: #FFFFFF;\n",
              "    }\n",
              "  </style>\n",
              "\n",
              "    <script>\n",
              "      const buttonEl =\n",
              "        document.querySelector('#df-68b862f8-22c5-4d57-a8a1-66bb58433dc4 button.colab-df-convert');\n",
              "      buttonEl.style.display =\n",
              "        google.colab.kernel.accessAllowed ? 'block' : 'none';\n",
              "\n",
              "      async function convertToInteractive(key) {\n",
              "        const element = document.querySelector('#df-68b862f8-22c5-4d57-a8a1-66bb58433dc4');\n",
              "        const dataTable =\n",
              "          await google.colab.kernel.invokeFunction('convertToInteractive',\n",
              "                                                    [key], {});\n",
              "        if (!dataTable) return;\n",
              "\n",
              "        const docLinkHtml = 'Like what you see? Visit the ' +\n",
              "          '<a target=\"_blank\" href=https://colab.research.google.com/notebooks/data_table.ipynb>data table notebook</a>'\n",
              "          + ' to learn more about interactive tables.';\n",
              "        element.innerHTML = '';\n",
              "        dataTable['output_type'] = 'display_data';\n",
              "        await google.colab.output.renderOutput(dataTable, element);\n",
              "        const docLink = document.createElement('div');\n",
              "        docLink.innerHTML = docLinkHtml;\n",
              "        element.appendChild(docLink);\n",
              "      }\n",
              "    </script>\n",
              "  </div>\n",
              "\n",
              "\n",
              "<div id=\"df-c8bb53ba-41f2-435f-98a0-5e0bb41a72b1\">\n",
              "  <button class=\"colab-df-quickchart\" onclick=\"quickchart('df-c8bb53ba-41f2-435f-98a0-5e0bb41a72b1')\"\n",
              "            title=\"Suggest charts\"\n",
              "            style=\"display:none;\">\n",
              "\n",
              "<svg xmlns=\"http://www.w3.org/2000/svg\" height=\"24px\"viewBox=\"0 0 24 24\"\n",
              "     width=\"24px\">\n",
              "    <g>\n",
              "        <path d=\"M19 3H5c-1.1 0-2 .9-2 2v14c0 1.1.9 2 2 2h14c1.1 0 2-.9 2-2V5c0-1.1-.9-2-2-2zM9 17H7v-7h2v7zm4 0h-2V7h2v10zm4 0h-2v-4h2v4z\"/>\n",
              "    </g>\n",
              "</svg>\n",
              "  </button>\n",
              "\n",
              "<style>\n",
              "  .colab-df-quickchart {\n",
              "      --bg-color: #E8F0FE;\n",
              "      --fill-color: #1967D2;\n",
              "      --hover-bg-color: #E2EBFA;\n",
              "      --hover-fill-color: #174EA6;\n",
              "      --disabled-fill-color: #AAA;\n",
              "      --disabled-bg-color: #DDD;\n",
              "  }\n",
              "\n",
              "  [theme=dark] .colab-df-quickchart {\n",
              "      --bg-color: #3B4455;\n",
              "      --fill-color: #D2E3FC;\n",
              "      --hover-bg-color: #434B5C;\n",
              "      --hover-fill-color: #FFFFFF;\n",
              "      --disabled-bg-color: #3B4455;\n",
              "      --disabled-fill-color: #666;\n",
              "  }\n",
              "\n",
              "  .colab-df-quickchart {\n",
              "    background-color: var(--bg-color);\n",
              "    border: none;\n",
              "    border-radius: 50%;\n",
              "    cursor: pointer;\n",
              "    display: none;\n",
              "    fill: var(--fill-color);\n",
              "    height: 32px;\n",
              "    padding: 0;\n",
              "    width: 32px;\n",
              "  }\n",
              "\n",
              "  .colab-df-quickchart:hover {\n",
              "    background-color: var(--hover-bg-color);\n",
              "    box-shadow: 0 1px 2px rgba(60, 64, 67, 0.3), 0 1px 3px 1px rgba(60, 64, 67, 0.15);\n",
              "    fill: var(--button-hover-fill-color);\n",
              "  }\n",
              "\n",
              "  .colab-df-quickchart-complete:disabled,\n",
              "  .colab-df-quickchart-complete:disabled:hover {\n",
              "    background-color: var(--disabled-bg-color);\n",
              "    fill: var(--disabled-fill-color);\n",
              "    box-shadow: none;\n",
              "  }\n",
              "\n",
              "  .colab-df-spinner {\n",
              "    border: 2px solid var(--fill-color);\n",
              "    border-color: transparent;\n",
              "    border-bottom-color: var(--fill-color);\n",
              "    animation:\n",
              "      spin 1s steps(1) infinite;\n",
              "  }\n",
              "\n",
              "  @keyframes spin {\n",
              "    0% {\n",
              "      border-color: transparent;\n",
              "      border-bottom-color: var(--fill-color);\n",
              "      border-left-color: var(--fill-color);\n",
              "    }\n",
              "    20% {\n",
              "      border-color: transparent;\n",
              "      border-left-color: var(--fill-color);\n",
              "      border-top-color: var(--fill-color);\n",
              "    }\n",
              "    30% {\n",
              "      border-color: transparent;\n",
              "      border-left-color: var(--fill-color);\n",
              "      border-top-color: var(--fill-color);\n",
              "      border-right-color: var(--fill-color);\n",
              "    }\n",
              "    40% {\n",
              "      border-color: transparent;\n",
              "      border-right-color: var(--fill-color);\n",
              "      border-top-color: var(--fill-color);\n",
              "    }\n",
              "    60% {\n",
              "      border-color: transparent;\n",
              "      border-right-color: var(--fill-color);\n",
              "    }\n",
              "    80% {\n",
              "      border-color: transparent;\n",
              "      border-right-color: var(--fill-color);\n",
              "      border-bottom-color: var(--fill-color);\n",
              "    }\n",
              "    90% {\n",
              "      border-color: transparent;\n",
              "      border-bottom-color: var(--fill-color);\n",
              "    }\n",
              "  }\n",
              "</style>\n",
              "\n",
              "  <script>\n",
              "    async function quickchart(key) {\n",
              "      const quickchartButtonEl =\n",
              "        document.querySelector('#' + key + ' button');\n",
              "      quickchartButtonEl.disabled = true;  // To prevent multiple clicks.\n",
              "      quickchartButtonEl.classList.add('colab-df-spinner');\n",
              "      try {\n",
              "        const charts = await google.colab.kernel.invokeFunction(\n",
              "            'suggestCharts', [key], {});\n",
              "      } catch (error) {\n",
              "        console.error('Error during call to suggestCharts:', error);\n",
              "      }\n",
              "      quickchartButtonEl.classList.remove('colab-df-spinner');\n",
              "      quickchartButtonEl.classList.add('colab-df-quickchart-complete');\n",
              "    }\n",
              "    (() => {\n",
              "      let quickchartButtonEl =\n",
              "        document.querySelector('#df-c8bb53ba-41f2-435f-98a0-5e0bb41a72b1 button');\n",
              "      quickchartButtonEl.style.display =\n",
              "        google.colab.kernel.accessAllowed ? 'block' : 'none';\n",
              "    })();\n",
              "  </script>\n",
              "</div>\n",
              "    </div>\n",
              "  </div>\n"
            ],
            "application/vnd.google.colaboratory.intrinsic+json": {
              "type": "dataframe",
              "variable_name": "pred_holdouts",
              "summary": "{\n  \"name\": \"pred_holdouts\",\n  \"rows\": 231,\n  \"fields\": [\n    {\n      \"column\": \"Relative Compactness\",\n      \"properties\": {\n        \"dtype\": \"float32\",\n        \"num_unique_values\": 12,\n        \"samples\": [\n          0.7099999785423279,\n          0.7400000095367432,\n          0.6200000047683716\n        ],\n        \"semantic_type\": \"\",\n        \"description\": \"\"\n      }\n    },\n    {\n      \"column\": \"Surface Area\",\n      \"properties\": {\n        \"dtype\": \"float32\",\n        \"num_unique_values\": 12,\n        \"samples\": [\n          710.5,\n          686.0,\n          808.5\n        ],\n        \"semantic_type\": \"\",\n        \"description\": \"\"\n      }\n    },\n    {\n      \"column\": \"Wall Area\",\n      \"properties\": {\n        \"dtype\": \"float32\",\n        \"num_unique_values\": 7,\n        \"samples\": [\n          367.5,\n          318.5,\n          245.0\n        ],\n        \"semantic_type\": \"\",\n        \"description\": \"\"\n      }\n    },\n    {\n      \"column\": \"Roof Area\",\n      \"properties\": {\n        \"dtype\": \"float32\",\n        \"num_unique_values\": 4,\n        \"samples\": [\n          147.0,\n          122.5,\n          220.5\n        ],\n        \"semantic_type\": \"\",\n        \"description\": \"\"\n      }\n    },\n    {\n      \"column\": \"Overall Height\",\n      \"properties\": {\n        \"dtype\": \"float32\",\n        \"num_unique_values\": 2,\n        \"samples\": [\n          7.0,\n          3.5\n        ],\n        \"semantic_type\": \"\",\n        \"description\": \"\"\n      }\n    },\n    {\n      \"column\": \"Orientation\",\n      \"properties\": {\n        \"dtype\": \"int8\",\n        \"num_unique_values\": 4,\n        \"samples\": [\n          3,\n          5\n        ],\n        \"semantic_type\": \"\",\n        \"description\": \"\"\n      }\n    },\n    {\n      \"column\": \"Glazing Area\",\n      \"properties\": {\n        \"dtype\": \"float32\",\n        \"num_unique_values\": 4,\n        \"samples\": [\n          0.4000000059604645,\n          0.25\n        ],\n        \"semantic_type\": \"\",\n        \"description\": \"\"\n      }\n    },\n    {\n      \"column\": \"Glazing Area Distribution\",\n      \"properties\": {\n        \"dtype\": \"int8\",\n        \"num_unique_values\": 6,\n        \"samples\": [\n          5,\n          4\n        ],\n        \"semantic_type\": \"\",\n        \"description\": \"\"\n      }\n    },\n    {\n      \"column\": \"Cooling Load\",\n      \"properties\": {\n        \"dtype\": \"float32\",\n        \"num_unique_values\": 214,\n        \"samples\": [\n          20.3700008392334,\n          14.34000015258789\n        ],\n        \"semantic_type\": \"\",\n        \"description\": \"\"\n      }\n    },\n    {\n      \"column\": \"prediction_label\",\n      \"properties\": {\n        \"dtype\": \"float32\",\n        \"num_unique_values\": 231,\n        \"samples\": [\n          14.428617477416992,\n          15.408655166625977\n        ],\n        \"semantic_type\": \"\",\n        \"description\": \"\"\n      }\n    }\n  ]\n}"
            }
          },
          "metadata": {},
          "execution_count": 19
        }
      ]
    },
    {
      "cell_type": "code",
      "source": [
        "import pandas as pd\n",
        "import numpy as np\n",
        "from itertools import product\n",
        "import matplotlib.pyplot as plt\n",
        "import plotly.graph_objects as go\n",
        "from scipy.interpolate import griddata\n",
        "\n",
        "# Define constant data point\n",
        "data_point = {\n",
        "    \"Surface Area\": 800, \"Wall Area\": 350, \"Roof Area\": 200, \"Overall Height\": 4,\n",
        "    \"Orientation\": 2, \"Glazing Area\": 0.1, \"Glazing Area Distribution\": 1\n",
        "}\n",
        "\n",
        "# Generate the ranges\n",
        "relative_compactness = np.arange(0.01, 1.01, 0.02)\n",
        "glazing_area = np.arange(0.01, 1.01, 0.02)\n",
        "\n",
        "# Use product to create combinations\n",
        "combinations = [\n",
        "    {**data_point, \"Relative Compactness\": r, \"Glazing Area\": g}\n",
        "    for r, g in product(relative_compactness, glazing_area)\n",
        "]\n",
        "\n",
        "# Create DataFrame directly\n",
        "data = pd.DataFrame(combinations)\n",
        "\n",
        "# Assume 'predict_model' and 'model' are defined\n",
        "pred = predict_model(model, data=data)\n",
        "# pred.head()\n",
        "\n",
        "# Prepare data for surface plot\n",
        "X, Y = np.meshgrid(glazing_area, relative_compactness)\n",
        "Z = griddata((data['Glazing Area'], data['Relative Compactness']), pred['prediction_label'], (X, Y), method='cubic')\n",
        "\n",
        "# Plotting\n",
        "fig = go.Figure(data=[go.Surface(z=Z, x=X[0], y=Y[:, 0], colorscale='jet')])\n",
        "fig.update_layout(title='Predicted Cooling Load', autosize=True,\n",
        "                  width=800, height=600,\n",
        "                  margin=dict(l=65, r=50, b=65, t=90),\n",
        "                  scene=dict(\n",
        "                      xaxis_title='Glazing Area',\n",
        "                      yaxis_title='Relative Compactness',\n",
        "                      zaxis_title='Prediction Label'\n",
        "                  ))\n",
        "fig.show()\n"
      ],
      "metadata": {
        "colab": {
          "base_uri": "https://localhost:8080/",
          "height": 617
        },
        "id": "JG6QfAeI3kUA",
        "outputId": "632898bc-940d-40dd-e50b-463a8553c3a8"
      },
      "execution_count": 126,
      "outputs": [
        {
          "output_type": "display_data",
          "data": {
            "text/plain": [
              "<IPython.core.display.HTML object>"
            ],
            "text/html": []
          },
          "metadata": {}
        },
        {
          "output_type": "display_data",
          "data": {
            "text/html": [
              "<html>\n",
              "<head><meta charset=\"utf-8\" /></head>\n",
              "<body>\n",
              "    <div>            <script src=\"https://cdnjs.cloudflare.com/ajax/libs/mathjax/2.7.5/MathJax.js?config=TeX-AMS-MML_SVG\"></script><script type=\"text/javascript\">if (window.MathJax && window.MathJax.Hub && window.MathJax.Hub.Config) {window.MathJax.Hub.Config({SVG: {font: \"STIX-Web\"}});}</script>                <script type=\"text/javascript\">window.PlotlyConfig = {MathJaxConfig: 'local'};</script>\n",
              "        <script charset=\"utf-8\" src=\"https://cdn.plot.ly/plotly-2.24.1.min.js\"></script>                <div id=\"00edf826-507f-4b3c-87ed-bdb0fa75e1ca\" class=\"plotly-graph-div\" style=\"height:600px; width:800px;\"></div>            <script type=\"text/javascript\">                                    window.PLOTLYENV=window.PLOTLYENV || {};                                    if (document.getElementById(\"00edf826-507f-4b3c-87ed-bdb0fa75e1ca\")) {                    Plotly.newPlot(                        \"00edf826-507f-4b3c-87ed-bdb0fa75e1ca\",                        [{\"colorscale\":[[0.0,\"rgb(0,0,131)\"],[0.2,\"rgb(0,60,170)\"],[0.4,\"rgb(5,255,255)\"],[0.6,\"rgb(255,255,0)\"],[0.8,\"rgb(250,0,0)\"],[1.0,\"rgb(128,0,0)\"]],\"x\":[0.01,0.03,0.049999999999999996,0.06999999999999999,0.08999999999999998,0.10999999999999997,0.12999999999999998,0.15,0.16999999999999998,0.18999999999999997,0.20999999999999996,0.22999999999999998,0.24999999999999997,0.26999999999999996,0.29,0.30999999999999994,0.32999999999999996,0.35,0.36999999999999994,0.38999999999999996,0.4099999999999999,0.42999999999999994,0.44999999999999996,0.4699999999999999,0.48999999999999994,0.5099999999999999,0.5299999999999999,0.5499999999999999,0.57,0.59,0.6099999999999999,0.6299999999999999,0.6499999999999999,0.6699999999999999,0.69,0.7099999999999999,0.7299999999999999,0.7499999999999999,0.7699999999999999,0.7899999999999999,0.8099999999999998,0.8299999999999998,0.8499999999999999,0.8699999999999999,0.8899999999999999,0.9099999999999999,0.9299999999999998,0.9499999999999998,0.9699999999999999,0.9899999999999999],\"y\":[0.01,0.03,0.049999999999999996,0.06999999999999999,0.08999999999999998,0.10999999999999997,0.12999999999999998,0.15,0.16999999999999998,0.18999999999999997,0.20999999999999996,0.22999999999999998,0.24999999999999997,0.26999999999999996,0.29,0.30999999999999994,0.32999999999999996,0.35,0.36999999999999994,0.38999999999999996,0.4099999999999999,0.42999999999999994,0.44999999999999996,0.4699999999999999,0.48999999999999994,0.5099999999999999,0.5299999999999999,0.5499999999999999,0.57,0.59,0.6099999999999999,0.6299999999999999,0.6499999999999999,0.6699999999999999,0.69,0.7099999999999999,0.7299999999999999,0.7499999999999999,0.7699999999999999,0.7899999999999999,0.8099999999999998,0.8299999999999998,0.8499999999999999,0.8699999999999999,0.8899999999999999,0.9099999999999999,0.9299999999999998,0.9499999999999998,0.9699999999999999,0.9899999999999999],\"z\":[[12.207902908325195,12.207902908325195,12.207902908325195,12.207902908325195,12.207902908325195,14.346355438232422,14.346355438232422,14.346355438232422,14.346355438232422,14.346355438232422,14.346355438232422,14.346355438232422,15.822633743286133,15.822633743286133,15.822633743286133,15.822633743286133,15.822633743286133,15.822633743286133,15.822633743286133,15.822633743286133,17.311077117919922,17.311077117919922,17.311077117919922,17.311077117919922,17.311077117919922,17.311077117919922,17.311077117919922,17.311077117919922,17.311077117919922,17.311077117919922,17.311077117919922,17.311077117919922,17.311077117919922,17.311077117919922,17.311077117919922,17.311077117919922,17.311077117919922,17.311077117919922,17.311077117919922,17.311077117919922,17.311077117919922,17.311077117919922,17.311077117919922,17.311077117919922,17.311077117919922,17.311077117919922,17.311077117919922,17.311077117919922,17.311077117919922,17.311077117919922],[12.207902908325195,12.207902908325195,12.207902908325195,12.207902908325195,12.207902908325195,14.346355438232422,14.346355438232422,14.346355438232422,14.346355438232422,14.346355438232422,14.346355438232422,14.346355438232422,15.822633743286133,15.822633743286133,15.822633743286133,15.822633743286133,15.822633743286133,15.822633743286133,15.822633743286133,15.822633743286133,17.311077117919922,17.311077117919922,17.311077117919922,17.311077117919922,17.311077117919922,17.311077117919922,17.311077117919922,17.311077117919922,17.311077117919922,17.311077117919922,17.311077117919922,17.311077117919922,17.311077117919922,17.311077117919922,17.311077117919922,17.311077117919922,17.311077117919922,17.311077117919922,17.311077117919922,17.311077117919922,17.311077117919922,17.311077117919922,17.311077117919922,17.311077117919922,17.311077117919922,17.311077117919922,17.311077117919922,17.311077117919922,17.311077117919922,17.311077117919922],[12.207902908325195,12.207902908325195,12.207902908325195,12.207902908325195,12.207902908325195,14.346355438232422,14.346355438232422,14.346355438232422,14.346355438232422,14.346355438232422,14.346355438232422,14.346355438232422,15.822633743286133,15.822633743286133,15.822633743286133,15.822633743286133,15.822633743286133,15.822633743286133,15.822633743286133,15.822633743286133,17.311077117919922,17.311077117919922,17.311077117919922,17.311077117919922,17.311077117919922,17.311077117919922,17.311077117919922,17.311077117919922,17.311077117919922,17.311077117919922,17.311077117919922,17.311077117919922,17.311077117919922,17.311077117919922,17.311077117919922,17.311077117919922,17.311077117919922,17.311077117919922,17.311077117919922,17.311077117919922,17.311077117919922,17.311077117919922,17.311077117919922,17.311077117919922,17.311077117919922,17.311077117919922,17.311077117919922,17.311077117919922,17.311077117919922,17.311077117919922],[12.207902908325195,12.207902908325195,12.207902908325195,12.207902908325195,12.207902908325195,14.346355438232422,14.346355438232422,14.346355438232422,14.346355438232422,14.346355438232422,14.346355438232422,14.346355438232422,15.822633743286133,15.822633743286133,15.822633743286133,15.822633743286133,15.822633743286133,15.822633743286133,15.822633743286133,15.822633743286133,17.311077117919922,17.311077117919922,17.311077117919922,17.311077117919922,17.311077117919922,17.311077117919922,17.311077117919922,17.311077117919922,17.311077117919922,17.311077117919922,17.311077117919922,17.311077117919922,17.311077117919922,17.311077117919922,17.311077117919922,17.311077117919922,17.311077117919922,17.311077117919922,17.311077117919922,17.311077117919922,17.311077117919922,17.311077117919922,17.311077117919922,17.311077117919922,17.311077117919922,17.311077117919922,17.311077117919922,17.311077117919922,17.311077117919922,17.311077117919922],[12.207902908325195,12.207902908325195,12.207902908325195,12.207902908325195,12.207902908325195,14.346355438232422,14.346355438232422,14.346355438232422,14.346355438232422,14.346355438232422,14.346355438232422,14.346355438232422,15.822633743286133,15.822633743286133,15.822633743286133,15.822633743286133,15.822633743286133,15.822633743286133,15.822633743286133,15.822633743286133,17.311077117919922,17.311077117919922,17.311077117919922,17.311077117919922,17.311077117919922,17.311077117919922,17.311077117919922,17.311077117919922,17.311077117919922,17.311077117919922,17.311077117919922,17.311077117919922,17.311077117919922,17.311077117919922,17.311077117919922,17.311077117919922,17.311077117919922,17.311077117919922,17.311077117919922,17.311077117919922,17.311077117919922,17.311077117919922,17.311077117919922,17.311077117919922,17.311077117919922,17.311077117919922,17.311077117919922,17.311077117919922,17.311077117919922,17.311077117919922],[12.207902908325195,12.207902908325195,12.207902908325195,12.207902908325195,12.207902908325195,14.346355438232422,14.346355438232422,14.346355438232422,14.346355438232422,14.346355438232422,14.346355438232422,14.346355438232422,15.822633743286133,15.822633743286133,15.822633743286133,15.822633743286133,15.822633743286133,15.822633743286133,15.822633743286133,15.822633743286133,17.311077117919922,17.311077117919922,17.311077117919922,17.311077117919922,17.311077117919922,17.311077117919922,17.311077117919922,17.311077117919922,17.311077117919922,17.311077117919922,17.311077117919922,17.311077117919922,17.311077117919922,17.311077117919922,17.311077117919922,17.311077117919922,17.311077117919922,17.311077117919922,17.311077117919922,17.311077117919922,17.311077117919922,17.311077117919922,17.311077117919922,17.311077117919922,17.311077117919922,17.311077117919922,17.311077117919922,17.311077117919922,17.311077117919922,17.311077117919922],[12.207902908325195,12.207902908325195,12.207902908325195,12.207902908325195,12.207902908325195,14.346355438232422,14.346355438232422,14.346355438232422,14.346355438232422,14.346355438232422,14.346355438232422,14.346355438232422,15.822633743286133,15.822633743286133,15.822633743286133,15.822633743286133,15.822633743286133,15.822633743286133,15.822633743286133,15.822633743286133,17.311077117919922,17.311077117919922,17.311077117919922,17.311077117919922,17.311077117919922,17.311077117919922,17.311077117919922,17.311077117919922,17.311077117919922,17.311077117919922,17.311077117919922,17.311077117919922,17.311077117919922,17.311077117919922,17.311077117919922,17.311077117919922,17.311077117919922,17.311077117919922,17.311077117919922,17.311077117919922,17.311077117919922,17.311077117919922,17.311077117919922,17.311077117919922,17.311077117919922,17.311077117919922,17.311077117919922,17.311077117919922,17.311077117919922,17.311077117919922],[12.207902908325195,12.207902908325195,12.207902908325195,12.207902908325195,12.207902908325195,14.346355438232422,14.346355438232422,14.346355438232422,14.346355438232422,14.346355438232422,14.346355438232422,14.346355438232422,15.822633743286133,15.822633743286133,15.822633743286133,15.822633743286133,15.822633743286133,15.822633743286133,15.822633743286133,15.822633743286133,17.311077117919922,17.311077117919922,17.311077117919922,17.311077117919922,17.311077117919922,17.311077117919922,17.311077117919922,17.311077117919922,17.311077117919922,17.311077117919922,17.311077117919922,17.311077117919922,17.311077117919922,17.311077117919922,17.311077117919922,17.311077117919922,17.311077117919922,17.311077117919922,17.311077117919922,17.311077117919922,17.311077117919922,17.311077117919922,17.311077117919922,17.311077117919922,17.311077117919922,17.311077117919922,17.311077117919922,17.311077117919922,17.311077117919922,17.311077117919922],[12.207902908325195,12.207902908325195,12.207902908325195,12.207902908325195,12.207902908325195,14.346355438232422,14.346355438232422,14.346355438232422,14.346355438232422,14.346355438232422,14.346355438232422,14.346355438232422,15.822633743286133,15.822633743286133,15.822633743286133,15.822633743286133,15.822633743286133,15.822633743286133,15.822633743286133,15.822633743286133,17.311077117919922,17.311077117919922,17.311077117919922,17.311077117919922,17.311077117919922,17.311077117919922,17.311077117919922,17.311077117919922,17.311077117919922,17.311077117919922,17.311077117919922,17.311077117919922,17.311077117919922,17.311077117919922,17.311077117919922,17.311077117919922,17.311077117919922,17.311077117919922,17.311077117919922,17.311077117919922,17.311077117919922,17.311077117919922,17.311077117919922,17.311077117919922,17.311077117919922,17.311077117919922,17.311077117919922,17.311077117919922,17.311077117919922,17.311077117919922],[12.207902908325195,12.207902908325195,12.207902908325195,12.207902908325195,12.207902908325195,14.346355438232422,14.346355438232422,14.346355438232422,14.346355438232422,14.346355438232422,14.346355438232422,14.346355438232422,15.822633743286133,15.822633743286133,15.822633743286133,15.822633743286133,15.822633743286133,15.822633743286133,15.822633743286133,15.822633743286133,17.311077117919922,17.311077117919922,17.311077117919922,17.311077117919922,17.311077117919922,17.311077117919922,17.311077117919922,17.311077117919922,17.311077117919922,17.311077117919922,17.311077117919922,17.311077117919922,17.311077117919922,17.311077117919922,17.311077117919922,17.311077117919922,17.311077117919922,17.311077117919922,17.311077117919922,17.311077117919922,17.311077117919922,17.311077117919922,17.311077117919922,17.311077117919922,17.311077117919922,17.311077117919922,17.311077117919922,17.311077117919922,17.311077117919922,17.311077117919922],[12.207902908325195,12.207902908325195,12.207902908325195,12.207902908325195,12.207902908325195,14.346355438232422,14.346355438232422,14.346355438232422,14.346355438232422,14.346355438232422,14.346355438232422,14.346355438232422,15.822633743286133,15.822633743286133,15.822633743286133,15.822633743286133,15.822633743286133,15.822633743286133,15.822633743286133,15.822633743286133,17.311077117919922,17.311077117919922,17.311077117919922,17.311077117919922,17.311077117919922,17.311077117919922,17.311077117919922,17.311077117919922,17.311077117919922,17.311077117919922,17.311077117919922,17.311077117919922,17.311077117919922,17.311077117919922,17.311077117919922,17.311077117919922,17.311077117919922,17.311077117919922,17.311077117919922,17.311077117919922,17.311077117919922,17.311077117919922,17.311077117919922,17.311077117919922,17.311077117919922,17.311077117919922,17.311077117919922,17.311077117919922,17.311077117919922,17.311077117919922],[12.207902908325195,12.207902908325195,12.207902908325195,12.207902908325195,12.207902908325195,14.346355438232422,14.346355438232422,14.346355438232422,14.346355438232422,14.346355438232422,14.346355438232422,14.346355438232422,15.822633743286133,15.822633743286133,15.822633743286133,15.822633743286133,15.822633743286133,15.822633743286133,15.822633743286133,15.822633743286133,17.311077117919922,17.311077117919922,17.311077117919922,17.311077117919922,17.311077117919922,17.311077117919922,17.311077117919922,17.311077117919922,17.311077117919922,17.311077117919922,17.311077117919922,17.311077117919922,17.311077117919922,17.311077117919922,17.311077117919922,17.311077117919922,17.311077117919922,17.311077117919922,17.311077117919922,17.311077117919922,17.311077117919922,17.311077117919922,17.311077117919922,17.311077117919922,17.311077117919922,17.311077117919922,17.311077117919922,17.311077117919922,17.311077117919922,17.311077117919922],[12.207902908325195,12.207902908325195,12.207902908325195,12.207902908325195,12.207902908325195,14.346355438232422,14.346355438232422,14.346355438232422,14.346355438232422,14.346355438232422,14.346355438232422,14.346355438232422,15.822633743286133,15.822633743286133,15.822633743286133,15.822633743286133,15.822633743286133,15.822633743286133,15.822633743286133,15.822633743286133,17.311077117919922,17.311077117919922,17.311077117919922,17.311077117919922,17.311077117919922,17.311077117919922,17.311077117919922,17.311077117919922,17.311077117919922,17.311077117919922,17.311077117919922,17.311077117919922,17.311077117919922,17.311077117919922,17.311077117919922,17.311077117919922,17.311077117919922,17.311077117919922,17.311077117919922,17.311077117919922,17.311077117919922,17.311077117919922,17.311077117919922,17.311077117919922,17.311077117919922,17.311077117919922,17.311077117919922,17.311077117919922,17.311077117919922,17.311077117919922],[12.207902908325195,12.207902908325195,12.207902908325195,12.207902908325195,12.207902908325195,14.346355438232422,14.346355438232422,14.346355438232422,14.346355438232422,14.346355438232422,14.346355438232422,14.346355438232422,15.822633743286133,15.822633743286133,15.822633743286133,15.822633743286133,15.822633743286133,15.822633743286133,15.822633743286133,15.822633743286133,17.311077117919922,17.311077117919922,17.311077117919922,17.311077117919922,17.311077117919922,17.311077117919922,17.311077117919922,17.311077117919922,17.311077117919922,17.311077117919922,17.311077117919922,17.311077117919922,17.311077117919922,17.311077117919922,17.311077117919922,17.311077117919922,17.311077117919922,17.311077117919922,17.311077117919922,17.311077117919922,17.311077117919922,17.311077117919922,17.311077117919922,17.311077117919922,17.311077117919922,17.311077117919922,17.311077117919922,17.311077117919922,17.311077117919922,17.311077117919922],[12.207902908325195,12.207902908325195,12.207902908325195,12.207902908325195,12.207902908325195,14.346355438232422,14.346355438232422,14.346355438232422,14.346355438232422,14.346355438232422,14.346355438232422,14.346355438232422,15.822633743286133,15.822633743286133,15.822633743286133,15.822633743286133,15.822633743286133,15.822633743286133,15.822633743286133,15.822633743286133,17.311077117919922,17.311077117919922,17.311077117919922,17.311077117919922,17.311077117919922,17.311077117919922,17.311077117919922,17.311077117919922,17.311077117919922,17.311077117919922,17.311077117919922,17.311077117919922,17.311077117919922,17.311077117919922,17.311077117919922,17.311077117919922,17.311077117919922,17.311077117919922,17.311077117919922,17.311077117919922,17.311077117919922,17.311077117919922,17.311077117919922,17.311077117919922,17.311077117919922,17.311077117919922,17.311077117919922,17.311077117919922,17.311077117919922,17.311077117919922],[12.207902908325195,12.207902908325195,12.207902908325195,12.207902908325195,12.207902908325195,14.346355438232422,14.346355438232422,14.346355438232422,14.346355438232422,14.346355438232422,14.346355438232422,14.346355438232422,15.822633743286133,15.822633743286133,15.822633743286133,15.822633743286133,15.822633743286133,15.822633743286133,15.822633743286133,15.822633743286133,17.311077117919922,17.311077117919922,17.311077117919922,17.311077117919922,17.311077117919922,17.311077117919922,17.311077117919922,17.311077117919922,17.311077117919922,17.311077117919922,17.311077117919922,17.311077117919922,17.311077117919922,17.311077117919922,17.311077117919922,17.311077117919922,17.311077117919922,17.311077117919922,17.311077117919922,17.311077117919922,17.311077117919922,17.311077117919922,17.311077117919922,17.311077117919922,17.311077117919922,17.311077117919922,17.311077117919922,17.311077117919922,17.311077117919922,17.311077117919922],[12.207902908325195,12.207902908325195,12.207902908325195,12.207902908325195,12.207902908325195,14.346355438232422,14.346355438232422,14.346355438232422,14.346355438232422,14.346355438232422,14.346355438232422,14.346355438232422,15.822633743286133,15.822633743286133,15.822633743286133,15.822633743286133,15.822633743286133,15.822633743286133,15.822633743286133,15.822633743286133,17.311077117919922,17.311077117919922,17.311077117919922,17.311077117919922,17.311077117919922,17.311077117919922,17.311077117919922,17.311077117919922,17.311077117919922,17.311077117919922,17.311077117919922,17.311077117919922,17.311077117919922,17.311077117919922,17.311077117919922,17.311077117919922,17.311077117919922,17.311077117919922,17.311077117919922,17.311077117919922,17.311077117919922,17.311077117919922,17.311077117919922,17.311077117919922,17.311077117919922,17.311077117919922,17.311077117919922,17.311077117919922,17.311077117919922,17.311077117919922],[12.207902908325195,12.207902908325195,12.207902908325195,12.207902908325195,12.207902908325195,14.346355438232422,14.346355438232422,14.346355438232422,14.346355438232422,14.346355438232422,14.346355438232422,14.346355438232422,15.822633743286133,15.822633743286133,15.822633743286133,15.822633743286133,15.822633743286133,15.822633743286133,15.822633743286133,15.822633743286133,17.311077117919922,17.311077117919922,17.311077117919922,17.311077117919922,17.311077117919922,17.311077117919922,17.311077117919922,17.311077117919922,17.311077117919922,17.311077117919922,17.311077117919922,17.311077117919922,17.311077117919922,17.311077117919922,17.311077117919922,17.311077117919922,17.311077117919922,17.311077117919922,17.311077117919922,17.311077117919922,17.311077117919922,17.311077117919922,17.311077117919922,17.311077117919922,17.311077117919922,17.311077117919922,17.311077117919922,17.311077117919922,17.311077117919922,17.311077117919922],[12.207902908325195,12.207902908325195,12.207902908325195,12.207902908325195,12.207902908325195,14.346355438232422,14.346355438232422,14.346355438232422,14.346355438232422,14.346355438232422,14.346355438232422,14.346355438232422,15.822633743286133,15.822633743286133,15.822633743286133,15.822633743286133,15.822633743286133,15.822633743286133,15.822633743286133,15.822633743286133,17.311077117919922,17.311077117919922,17.311077117919922,17.311077117919922,17.311077117919922,17.311077117919922,17.311077117919922,17.311077117919922,17.311077117919922,17.311077117919922,17.311077117919922,17.311077117919922,17.311077117919922,17.311077117919922,17.311077117919922,17.311077117919922,17.311077117919922,17.311077117919922,17.311077117919922,17.311077117919922,17.311077117919922,17.311077117919922,17.311077117919922,17.311077117919922,17.311077117919922,17.311077117919922,17.311077117919922,17.311077117919922,17.311077117919922,17.311077117919922],[12.207902908325195,12.207902908325195,12.207902908325195,12.207902908325195,12.207902908325195,14.346355438232422,14.346355438232422,14.346355438232422,14.346355438232422,14.346355438232422,14.346355438232422,14.346355438232422,15.822633743286133,15.822633743286133,15.822633743286133,15.822633743286133,15.822633743286133,15.822633743286133,15.822633743286133,15.822633743286133,17.311077117919922,17.311077117919922,17.311077117919922,17.311077117919922,17.311077117919922,17.311077117919922,17.311077117919922,17.311077117919922,17.311077117919922,17.311077117919922,17.311077117919922,17.311077117919922,17.311077117919922,17.311077117919922,17.311077117919922,17.311077117919922,17.311077117919922,17.311077117919922,17.311077117919922,17.311077117919922,17.311077117919922,17.311077117919922,17.311077117919922,17.311077117919922,17.311077117919922,17.311077117919922,17.311077117919922,17.311077117919922,17.311077117919922,17.311077117919922],[12.207902908325195,12.207902908325195,12.207902908325195,12.207902908325195,12.207902908325195,14.346355438232422,14.346355438232422,14.346355438232422,14.346355438232422,14.346355438232422,14.346355438232422,14.346355438232422,15.822633743286133,15.822633743286133,15.822633743286133,15.822633743286133,15.822633743286133,15.822633743286133,15.822633743286133,15.822633743286133,17.311077117919922,17.311077117919922,17.311077117919922,17.311077117919922,17.311077117919922,17.311077117919922,17.311077117919922,17.311077117919922,17.311077117919922,17.311077117919922,17.311077117919922,17.311077117919922,17.311077117919922,17.311077117919922,17.311077117919922,17.311077117919922,17.311077117919922,17.311077117919922,17.311077117919922,17.311077117919922,17.311077117919922,17.311077117919922,17.311077117919922,17.311077117919922,17.311077117919922,17.311077117919922,17.311077117919922,17.311077117919922,17.311077117919922,17.311077117919922],[12.207902908325195,12.207902908325195,12.207902908325195,12.207902908325195,12.207902908325195,14.346355438232422,14.346355438232422,14.346355438232422,14.346355438232422,14.346355438232422,14.346355438232422,14.346355438232422,15.822633743286133,15.822633743286133,15.822633743286133,15.822633743286133,15.822633743286133,15.822633743286133,15.822633743286133,15.822633743286133,17.311077117919922,17.311077117919922,17.311077117919922,17.311077117919922,17.311077117919922,17.311077117919922,17.311077117919922,17.311077117919922,17.311077117919922,17.311077117919922,17.311077117919922,17.311077117919922,17.311077117919922,17.311077117919922,17.311077117919922,17.311077117919922,17.311077117919922,17.311077117919922,17.311077117919922,17.311077117919922,17.311077117919922,17.311077117919922,17.311077117919922,17.311077117919922,17.311077117919922,17.311077117919922,17.311077117919922,17.311077117919922,17.311077117919922,17.311077117919922],[12.207902908325195,12.207902908325195,12.207902908325195,12.207902908325195,12.207902908325195,14.346355438232422,14.346355438232422,14.346355438232422,14.346355438232422,14.346355438232422,14.346355438232422,14.346355438232422,15.822633743286133,15.822633743286133,15.822633743286133,15.822633743286133,15.822633743286133,15.822633743286133,15.822633743286133,15.822633743286133,17.311077117919922,17.311077117919922,17.311077117919922,17.311077117919922,17.311077117919922,17.311077117919922,17.311077117919922,17.311077117919922,17.311077117919922,17.311077117919922,17.311077117919922,17.311077117919922,17.311077117919922,17.311077117919922,17.311077117919922,17.311077117919922,17.311077117919922,17.311077117919922,17.311077117919922,17.311077117919922,17.311077117919922,17.311077117919922,17.311077117919922,17.311077117919922,17.311077117919922,17.311077117919922,17.311077117919922,17.311077117919922,17.311077117919922,17.311077117919922],[12.207902908325195,12.207902908325195,12.207902908325195,12.207902908325195,12.207902908325195,14.346355438232422,14.346355438232422,14.346355438232422,14.346355438232422,14.346355438232422,14.346355438232422,14.346355438232422,15.822633743286133,15.822633743286133,15.822633743286133,15.822633743286133,15.822633743286133,15.822633743286133,15.822633743286133,15.822633743286133,17.311077117919922,17.311077117919922,17.311077117919922,17.311077117919922,17.311077117919922,17.311077117919922,17.311077117919922,17.311077117919922,17.311077117919922,17.311077117919922,17.311077117919922,17.311077117919922,17.311077117919922,17.311077117919922,17.311077117919922,17.311077117919922,17.311077117919922,17.311077117919922,17.311077117919922,17.311077117919922,17.311077117919922,17.311077117919922,17.311077117919922,17.311077117919922,17.311077117919922,17.311077117919922,17.311077117919922,17.311077117919922,17.311077117919922,17.311077117919922],[12.207902908325195,12.207902908325195,12.207902908325195,12.207902908325195,12.207902908325195,14.346355438232422,14.346355438232422,14.346355438232422,14.346355438232422,14.346355438232422,14.346355438232422,14.346355438232422,15.822633743286133,15.822633743286133,15.822633743286133,15.822633743286133,15.822633743286133,15.822633743286133,15.822633743286133,15.822633743286133,17.311077117919922,17.311077117919922,17.311077117919922,17.311077117919922,17.311077117919922,17.311077117919922,17.311077117919922,17.311077117919922,17.311077117919922,17.311077117919922,17.311077117919922,17.311077117919922,17.311077117919922,17.311077117919922,17.311077117919922,17.311077117919922,17.311077117919922,17.311077117919922,17.311077117919922,17.311077117919922,17.311077117919922,17.311077117919922,17.311077117919922,17.311077117919922,17.311077117919922,17.311077117919922,17.311077117919922,17.311077117919922,17.311077117919922,17.311077117919922],[12.207902908325195,12.207902908325195,12.207902908325195,12.207902908325195,12.207902908325195,14.346355438232422,14.346355438232422,14.346355438232422,14.346355438232422,14.346355438232422,14.346355438232422,14.346355438232422,15.822633743286133,15.822633743286133,15.822633743286133,15.822633743286133,15.822633743286133,15.822633743286133,15.822633743286133,15.822633743286133,17.311077117919922,17.311077117919922,17.311077117919922,17.311077117919922,17.311077117919922,17.311077117919922,17.311077117919922,17.311077117919922,17.311077117919922,17.311077117919922,17.311077117919922,17.311077117919922,17.311077117919922,17.311077117919922,17.311077117919922,17.311077117919922,17.311077117919922,17.311077117919922,17.311077117919922,17.311077117919922,17.311077117919922,17.311077117919922,17.311077117919922,17.311077117919922,17.311077117919922,17.311077117919922,17.311077117919922,17.311077117919922,17.311077117919922,17.311077117919922],[12.207902908325195,12.207902908325195,12.207902908325195,12.207902908325195,12.207902908325195,14.346355438232422,14.346355438232422,14.346355438232422,14.346355438232422,14.346355438232422,14.346355438232422,14.346355438232422,15.822633743286133,15.822633743286133,15.822633743286133,15.822633743286133,15.822633743286133,15.822633743286133,15.822633743286133,15.822633743286133,17.311077117919922,17.311077117919922,17.311077117919922,17.311077117919922,17.311077117919922,17.311077117919922,17.311077117919922,17.311077117919922,17.311077117919922,17.311077117919922,17.311077117919922,17.311077117919922,17.311077117919922,17.311077117919922,17.311077117919922,17.311077117919922,17.311077117919922,17.311077117919922,17.311077117919922,17.311077117919922,17.311077117919922,17.311077117919922,17.311077117919922,17.311077117919922,17.311077117919922,17.311077117919922,17.311077117919922,17.311077117919922,17.311077117919922,17.311077117919922],[12.207902908325195,12.207902908325195,12.207902908325195,12.207902908325195,12.207902908325195,14.346355438232422,14.346355438232422,14.346355438232422,14.346355438232422,14.346355438232422,14.346355438232422,14.346355438232422,15.822633743286133,15.822633743286133,15.822633743286133,15.822633743286133,15.822633743286133,15.822633743286133,15.822633743286133,15.822633743286133,17.311077117919922,17.311077117919922,17.311077117919922,17.311077117919922,17.311077117919922,17.311077117919922,17.311077117919922,17.311077117919922,17.311077117919922,17.311077117919922,17.311077117919922,17.311077117919922,17.311077117919922,17.311077117919922,17.311077117919922,17.311077117919922,17.311077117919922,17.311077117919922,17.311077117919922,17.311077117919922,17.311077117919922,17.311077117919922,17.311077117919922,17.311077117919922,17.311077117919922,17.311077117919922,17.311077117919922,17.311077117919922,17.311077117919922,17.311077117919922],[12.207902908325195,12.207902908325195,12.207902908325195,12.207902908325195,12.207902908325195,14.346355438232422,14.346355438232422,14.346355438232422,14.346355438232422,14.346355438232422,14.346355438232422,14.346355438232422,15.822633743286133,15.822633743286133,15.822633743286133,15.822633743286133,15.822633743286133,15.822633743286133,15.822633743286133,15.822633743286133,17.311077117919922,17.311077117919922,17.311077117919922,17.311077117919922,17.311077117919922,17.311077117919922,17.311077117919922,17.311077117919922,17.311077117919922,17.311077117919922,17.311077117919922,17.311077117919922,17.311077117919922,17.311077117919922,17.311077117919922,17.311077117919922,17.311077117919922,17.311077117919922,17.311077117919922,17.311077117919922,17.311077117919922,17.311077117919922,17.311077117919922,17.311077117919922,17.311077117919922,17.311077117919922,17.311077117919922,17.311077117919922,17.311077117919922,17.311077117919922],[12.207902908325195,12.207902908325195,12.207902908325195,12.207902908325195,12.207902908325195,14.346355438232422,14.346355438232422,14.346355438232422,14.346355438232422,14.346355438232422,14.346355438232422,14.346355438232422,15.822633743286133,15.822633743286133,15.822633743286133,15.822633743286133,15.822633743286133,15.822633743286133,15.822633743286133,15.822633743286133,17.311077117919922,17.311077117919922,17.311077117919922,17.311077117919922,17.311077117919922,17.311077117919922,17.311077117919922,17.311077117919922,17.311077117919922,17.311077117919922,17.311077117919922,17.311077117919922,17.311077117919922,17.311077117919922,17.311077117919922,17.311077117919922,17.311077117919922,17.311077117919922,17.311077117919922,17.311077117919922,17.311077117919922,17.311077117919922,17.311077117919922,17.311077117919922,17.311077117919922,17.311077117919922,17.311077117919922,17.311077117919922,17.311077117919922,17.311077117919922],[12.207902908325195,12.207902908325195,12.207902908325195,12.207902908325195,12.207902908325195,14.346355438232422,14.346355438232422,14.346355438232422,14.346355438232422,14.346355438232422,14.346355438232422,14.346355438232422,15.822633743286133,15.822633743286133,15.822633743286133,15.822633743286133,15.822633743286133,15.822633743286133,15.822633743286133,15.822633743286133,17.311077117919922,17.311077117919922,17.311077117919922,17.311077117919922,17.311077117919922,17.311077117919922,17.311077117919922,17.311077117919922,17.311077117919922,17.311077117919922,17.311077117919922,17.311077117919922,17.311077117919922,17.311077117919922,17.311077117919922,17.311077117919922,17.311077117919922,17.311077117919922,17.311077117919922,17.311077117919922,17.311077117919922,17.311077117919922,17.311077117919922,17.311077117919922,17.311077117919922,17.311077117919922,17.311077117919922,17.311077117919922,17.311077117919922,17.311077117919922],[12.207902908325195,12.207902908325195,12.207902908325195,12.207902908325195,12.207902908325195,14.346355438232422,14.346355438232422,14.346355438232422,14.346355438232422,14.346355438232422,14.346355438232422,14.346355438232422,15.822633743286133,15.822633743286133,15.822633743286133,15.822633743286133,15.822633743286133,15.822633743286133,15.822633743286133,15.822633743286133,17.311077117919922,17.311077117919922,17.311077117919922,17.311077117919922,17.311077117919922,17.311077117919922,17.311077117919922,17.311077117919922,17.311077117919922,17.311077117919922,17.311077117919922,17.311077117919922,17.311077117919922,17.311077117919922,17.311077117919922,17.311077117919922,17.311077117919922,17.311077117919922,17.311077117919922,17.311077117919922,17.311077117919922,17.311077117919922,17.311077117919922,17.311077117919922,17.311077117919922,17.311077117919922,17.311077117919922,17.311077117919922,17.311077117919922,17.311077117919922],[16.78474998474121,16.78474998474121,16.78474998474121,16.78474998474121,16.78474998474121,19.356613159179688,19.356613159179688,19.356613159179688,19.356613159179688,19.356613159179688,19.356613159179688,19.356613159179688,21.00286865234375,21.00286865234375,21.00286865234375,21.00286865234375,21.00286865234375,21.00286865234375,21.00286865234375,21.00286865234375,22.55008316040039,22.55008316040039,22.55008316040039,22.55008316040039,22.55008316040039,22.55008316040039,22.55008316040039,22.55008316040039,22.55008316040039,22.55008316040039,22.55008316040039,22.55008316040039,22.55008316040039,22.55008316040039,22.55008316040039,22.55008316040039,22.55008316040039,22.55008316040039,22.55008316040039,22.55008316040039,22.55008316040039,22.55008316040039,22.55008316040039,22.55008316040039,22.55008316040039,22.55008316040039,22.55008316040039,22.55008316040039,22.55008316040039,22.55008316040039],[12.20572566986084,12.20572566986084,12.20572566986084,12.20572566986084,12.20572566986084,14.151214599609375,14.151214599609375,14.151214599609375,14.151214599609375,14.151214599609375,14.151214599609375,14.151214599609375,16.370084762573242,16.370084762573242,16.370084762573242,16.370084762573242,16.370084762573242,16.370084762573242,16.370084762573242,16.370084762573242,18.183605194091797,18.183605194091797,18.183605194091797,18.183605194091797,18.183605194091797,18.183605194091797,18.183605194091797,18.183605194091797,18.183605194091797,18.183605194091797,18.183605194091797,18.183605194091797,18.183605194091797,18.183605194091797,18.183605194091797,18.183605194091797,18.183605194091797,18.183605194091797,18.183605194091797,18.183605194091797,18.183605194091797,18.183605194091797,18.183605194091797,18.183605194091797,18.183605194091797,18.183605194091797,18.183605194091797,18.183605194091797,18.183605194091797,18.183605194091797],[12.014068603515625,12.014068603515625,12.014068603515625,12.014068603515625,12.014068603515625,14.397120475769043,14.397120475769043,14.397120475769043,14.397120475769043,14.397120475769043,14.397120475769043,14.397120475769043,15.471322059631348,15.471322059631348,15.471322059631348,15.471322059631348,15.471322059631348,15.471322059631348,15.471322059631348,15.471322059631348,16.72380256652832,16.72380256652832,16.72380256652832,16.72380256652832,16.72380256652832,16.72380256652832,16.72380256652832,16.72380256652832,16.72380256652832,16.72380256652832,16.72380256652832,16.72380256652832,16.72380256652832,16.72380256652832,16.72380256652832,16.72380256652832,16.72380256652832,16.72380256652832,16.72380256652832,16.72380256652832,16.72380256652832,16.72380256652832,16.72380256652832,16.72380256652832,16.72380256652832,16.72380256652832,16.72380256652832,16.72380256652832,16.72380256652832,16.72380256652832],[11.59688663482666,11.59688663482666,11.59688663482666,11.59688663482666,11.59688663482666,14.059852600097656,14.059852600097656,14.059852600097656,14.059852600097656,14.059852600097656,14.059852600097656,14.059852600097656,15.474447250366211,15.474447250366211,15.474447250366211,15.474447250366211,15.474447250366211,15.474447250366211,15.474447250366211,15.474447250366211,16.94049644470215,16.94049644470215,16.94049644470215,16.94049644470215,16.94049644470215,16.94049644470215,16.94049644470215,16.94049644470215,16.94049644470215,16.94049644470215,16.94049644470215,16.94049644470215,16.94049644470215,16.94049644470215,16.94049644470215,16.94049644470215,16.94049644470215,16.94049644470215,16.94049644470215,16.94049644470215,16.94049644470215,16.94049644470215,16.94049644470215,16.94049644470215,16.94049644470215,16.94049644470215,16.94049644470215,16.94049644470215,16.94049644470215,16.94049644470215],[11.59688663482666,11.59688663482666,11.59688663482666,11.59688663482666,11.59688663482666,14.059852600097656,14.059852600097656,14.059852600097656,14.059852600097656,14.059852600097656,14.059852600097656,14.059852600097656,15.474447250366211,15.474447250366211,15.474447250366211,15.474447250366211,15.474447250366211,15.474447250366211,15.474447250366211,15.474447250366211,16.94049644470215,16.94049644470215,16.94049644470215,16.94049644470215,16.94049644470215,16.94049644470215,16.94049644470215,16.94049644470215,16.94049644470215,16.94049644470215,16.94049644470215,16.94049644470215,16.94049644470215,16.94049644470215,16.94049644470215,16.94049644470215,16.94049644470215,16.94049644470215,16.94049644470215,16.94049644470215,16.94049644470215,16.94049644470215,16.94049644470215,16.94049644470215,16.94049644470215,16.94049644470215,16.94049644470215,16.94049644470215,16.94049644470215,16.94049644470215],[11.43294906616211,11.43294906616211,11.43294906616211,11.43294906616211,11.43294906616211,13.912016868591309,13.912016868591309,13.912016868591309,13.912016868591309,13.912016868591309,13.912016868591309,13.912016868591309,15.220492362976074,15.220492362976074,15.220492362976074,15.220492362976074,15.220492362976074,15.220492362976074,15.220492362976074,15.220492362976074,16.958158493041992,16.958158493041992,16.958158493041992,16.958158493041992,16.958158493041992,16.958158493041992,16.958158493041992,16.958158493041992,16.958158493041992,16.958158493041992,16.958158493041992,16.958158493041992,16.958158493041992,16.958158493041992,16.958158493041992,16.958158493041992,16.958158493041992,16.958158493041992,16.958158493041992,16.958158493041992,16.958158493041992,16.958158493041992,16.958158493041992,16.958158493041992,16.958158493041992,16.958158493041992,16.958158493041992,16.958158493041992,16.958158493041992,16.958158493041992],[29.762462615966797,29.762462615966797,29.762462615966797,29.762462615966797,29.762462615966797,33.861610412597656,33.861610412597656,33.861610412597656,33.861610412597656,33.861610412597656,33.861610412597656,33.861610412597656,36.90061950683594,36.90061950683594,36.90061950683594,36.90061950683594,36.90061950683594,36.90061950683594,36.90061950683594,36.90061950683594,39.525787353515625,39.525787353515625,39.525787353515625,39.525787353515625,39.525787353515625,39.525787353515625,39.525787353515625,39.525787353515625,39.525787353515625,39.525787353515625,39.525787353515625,39.525787353515625,39.525787353515625,39.525787353515625,39.525787353515625,39.525787353515625,39.525787353515625,39.525787353515625,39.525787353515625,39.525787353515625,39.525787353515625,39.525787353515625,39.525787353515625,39.525787353515625,39.525787353515625,39.525787353515625,39.525787353515625,39.525787353515625,39.525787353515625,39.525787353515625],[37.7088508605957,37.7088508605957,37.7088508605957,37.7088508605957,37.7088508605957,41.6682243347168,41.6682243347168,41.6682243347168,41.6682243347168,41.6682243347168,41.6682243347168,41.6682243347168,43.80011749267578,43.80011749267578,43.80011749267578,43.80011749267578,43.80011749267578,43.80011749267578,43.80011749267578,43.80011749267578,45.250545501708984,45.250545501708984,45.250545501708984,45.250545501708984,45.250545501708984,45.250545501708984,45.250545501708984,45.250545501708984,45.250545501708984,45.250545501708984,45.250545501708984,45.250545501708984,45.250545501708984,45.250545501708984,45.250545501708984,45.250545501708984,45.250545501708984,45.250545501708984,45.250545501708984,45.250545501708984,45.250545501708984,45.250545501708984,45.250545501708984,45.250545501708984,45.250545501708984,45.250545501708984,45.250545501708984,45.250545501708984,45.250545501708984,45.250545501708984],[37.7088508605957,37.7088508605957,37.7088508605957,37.7088508605957,37.7088508605957,41.6682243347168,41.6682243347168,41.6682243347168,41.6682243347168,41.6682243347168,41.6682243347168,41.6682243347168,43.80011749267578,43.80011749267578,43.80011749267578,43.80011749267578,43.80011749267578,43.80011749267578,43.80011749267578,43.80011749267578,45.250545501708984,45.250545501708984,45.250545501708984,45.250545501708984,45.250545501708984,45.250545501708984,45.250545501708984,45.250545501708984,45.250545501708984,45.250545501708984,45.250545501708984,45.250545501708984,45.250545501708984,45.250545501708984,45.250545501708984,45.250545501708984,45.250545501708984,45.250545501708984,45.250545501708984,45.250545501708984,45.250545501708984,45.250545501708984,45.250545501708984,45.250545501708984,45.250545501708984,45.250545501708984,45.250545501708984,45.250545501708984,45.250545501708984,45.250545501708984],[24.281587600708008,24.281587600708008,24.281587600708008,24.281587600708008,24.281587600708008,27.405054092407227,27.405054092407227,27.405054092407227,27.405054092407227,27.405054092407227,27.405054092407227,27.405054092407227,30.32611846923828,30.32611846923828,30.32611846923828,30.32611846923828,30.32611846923828,30.32611846923828,30.32611846923828,30.32611846923828,33.2804069519043,33.2804069519043,33.2804069519043,33.2804069519043,33.2804069519043,33.2804069519043,33.2804069519043,33.2804069519043,33.2804069519043,33.2804069519043,33.2804069519043,33.2804069519043,33.2804069519043,33.2804069519043,33.2804069519043,33.2804069519043,33.2804069519043,33.2804069519043,33.2804069519043,33.2804069519043,33.2804069519043,33.2804069519043,33.2804069519043,33.2804069519043,33.2804069519043,33.2804069519043,33.2804069519043,33.2804069519043,33.2804069519043,33.2804069519043],[24.281587600708008,24.281587600708008,24.281587600708008,24.281587600708008,24.281587600708008,27.405054092407227,27.405054092407227,27.405054092407227,27.405054092407227,27.405054092407227,27.405054092407227,27.405054092407227,30.32611846923828,30.32611846923828,30.32611846923828,30.32611846923828,30.32611846923828,30.32611846923828,30.32611846923828,30.32611846923828,33.2804069519043,33.2804069519043,33.2804069519043,33.2804069519043,33.2804069519043,33.2804069519043,33.2804069519043,33.2804069519043,33.2804069519043,33.2804069519043,33.2804069519043,33.2804069519043,33.2804069519043,33.2804069519043,33.2804069519043,33.2804069519043,33.2804069519043,33.2804069519043,33.2804069519043,33.2804069519043,33.2804069519043,33.2804069519043,33.2804069519043,33.2804069519043,33.2804069519043,33.2804069519043,33.2804069519043,33.2804069519043,33.2804069519043,33.2804069519043],[27.808109283447266,27.808109283447266,27.808109283447266,27.808109283447266,27.808109283447266,32.234622955322266,32.234622955322266,32.234622955322266,32.234622955322266,32.234622955322266,32.234622955322266,32.234622955322266,36.765384674072266,36.765384674072266,36.765384674072266,36.765384674072266,36.765384674072266,36.765384674072266,36.765384674072266,36.765384674072266,39.01290512084961,39.01290512084961,39.01290512084961,39.01290512084961,39.01290512084961,39.01290512084961,39.01290512084961,39.01290512084961,39.01290512084961,39.01290512084961,39.01290512084961,39.01290512084961,39.01290512084961,39.01290512084961,39.01290512084961,39.01290512084961,39.01290512084961,39.01290512084961,39.01290512084961,39.01290512084961,39.01290512084961,39.01290512084961,39.01290512084961,39.01290512084961,39.01290512084961,39.01290512084961,39.01290512084961,39.01290512084961,39.01290512084961,39.01290512084961],[27.808109283447266,27.808109283447266,27.808109283447266,27.808109283447266,27.808109283447266,32.234622955322266,32.234622955322266,32.234622955322266,32.234622955322266,32.234622955322266,32.234622955322266,32.234622955322266,36.765384674072266,36.765384674072266,36.765384674072266,36.765384674072266,36.765384674072266,36.765384674072266,36.765384674072266,36.765384674072266,39.01290512084961,39.01290512084961,39.01290512084961,39.01290512084961,39.01290512084961,39.01290512084961,39.01290512084961,39.01290512084961,39.01290512084961,39.01290512084961,39.01290512084961,39.01290512084961,39.01290512084961,39.01290512084961,39.01290512084961,39.01290512084961,39.01290512084961,39.01290512084961,39.01290512084961,39.01290512084961,39.01290512084961,39.01290512084961,39.01290512084961,39.01290512084961,39.01290512084961,39.01290512084961,39.01290512084961,39.01290512084961,39.01290512084961,39.01290512084961],[28.719125747680664,28.719125747680664,28.719125747680664,28.719125747680664,28.719125747680664,33.09473419189453,33.09473419189453,33.09473419189453,33.09473419189453,33.09473419189453,33.09473419189453,33.09473419189453,36.36124801635742,36.36124801635742,36.36124801635742,36.36124801635742,36.36124801635742,36.36124801635742,36.36124801635742,36.36124801635742,39.6435546875,39.6435546875,39.6435546875,39.6435546875,39.6435546875,39.6435546875,39.6435546875,39.6435546875,39.6435546875,39.6435546875,39.6435546875,39.6435546875,39.6435546875,39.6435546875,39.6435546875,39.6435546875,39.6435546875,39.6435546875,39.6435546875,39.6435546875,39.6435546875,39.6435546875,39.6435546875,39.6435546875,39.6435546875,39.6435546875,39.6435546875,39.6435546875,39.6435546875,39.6435546875],[28.719125747680664,28.719125747680664,28.719125747680664,28.719125747680664,28.719125747680664,33.09473419189453,33.09473419189453,33.09473419189453,33.09473419189453,33.09473419189453,33.09473419189453,33.09473419189453,36.36124801635742,36.36124801635742,36.36124801635742,36.36124801635742,36.36124801635742,36.36124801635742,36.36124801635742,36.36124801635742,39.6435546875,39.6435546875,39.6435546875,39.6435546875,39.6435546875,39.6435546875,39.6435546875,39.6435546875,39.6435546875,39.6435546875,39.6435546875,39.6435546875,39.6435546875,39.6435546875,39.6435546875,39.6435546875,39.6435546875,39.6435546875,39.6435546875,39.6435546875,39.6435546875,39.6435546875,39.6435546875,39.6435546875,39.6435546875,39.6435546875,39.6435546875,39.6435546875,39.6435546875,39.6435546875],[28.719125747680664,28.719125747680664,28.719125747680664,28.719125747680664,28.719125747680664,33.09473419189453,33.09473419189453,33.09473419189453,33.09473419189453,33.09473419189453,33.09473419189453,33.09473419189453,36.36124801635742,36.36124801635742,36.36124801635742,36.36124801635742,36.36124801635742,36.36124801635742,36.36124801635742,36.36124801635742,39.6435546875,39.6435546875,39.6435546875,39.6435546875,39.6435546875,39.6435546875,39.6435546875,39.6435546875,39.6435546875,39.6435546875,39.6435546875,39.6435546875,39.6435546875,39.6435546875,39.6435546875,39.6435546875,39.6435546875,39.6435546875,39.6435546875,39.6435546875,39.6435546875,39.6435546875,39.6435546875,39.6435546875,39.6435546875,39.6435546875,39.6435546875,39.6435546875,39.6435546875,39.6435546875],[28.719125747680664,28.719125747680664,28.719125747680664,28.719125747680664,28.719125747680664,33.09473419189453,33.09473419189453,33.09473419189453,33.09473419189453,33.09473419189453,33.09473419189453,33.09473419189453,36.36124801635742,36.36124801635742,36.36124801635742,36.36124801635742,36.36124801635742,36.36124801635742,36.36124801635742,36.36124801635742,39.6435546875,39.6435546875,39.6435546875,39.6435546875,39.6435546875,39.6435546875,39.6435546875,39.6435546875,39.6435546875,39.6435546875,39.6435546875,39.6435546875,39.6435546875,39.6435546875,39.6435546875,39.6435546875,39.6435546875,39.6435546875,39.6435546875,39.6435546875,39.6435546875,39.6435546875,39.6435546875,39.6435546875,39.6435546875,39.6435546875,39.6435546875,39.6435546875,39.6435546875,39.6435546875],[22.149669647216797,22.149669647216797,22.149669647216797,22.149669647216797,22.149669647216797,28.34262466430664,28.34262466430664,28.34262466430664,28.34262466430664,28.34262466430664,28.34262466430664,28.34262466430664,33.69905471801758,33.69905471801758,33.69905471801758,33.69905471801758,33.69905471801758,33.69905471801758,33.69905471801758,33.69905471801758,37.85401153564453,37.85401153564453,37.85401153564453,37.85401153564453,37.85401153564453,37.85401153564453,37.85401153564453,37.85401153564453,37.85401153564453,37.85401153564453,37.85401153564453,37.85401153564453,37.85401153564453,37.85401153564453,37.85401153564453,37.85401153564453,37.85401153564453,37.85401153564453,37.85401153564453,37.85401153564453,37.85401153564453,37.85401153564453,37.85401153564453,37.85401153564453,37.85401153564453,37.85401153564453,37.85401153564453,37.85401153564453,37.85401153564453,37.85401153564453]],\"type\":\"surface\"}],                        {\"template\":{\"data\":{\"histogram2dcontour\":[{\"type\":\"histogram2dcontour\",\"colorbar\":{\"outlinewidth\":0,\"ticks\":\"\"},\"colorscale\":[[0.0,\"#0d0887\"],[0.1111111111111111,\"#46039f\"],[0.2222222222222222,\"#7201a8\"],[0.3333333333333333,\"#9c179e\"],[0.4444444444444444,\"#bd3786\"],[0.5555555555555556,\"#d8576b\"],[0.6666666666666666,\"#ed7953\"],[0.7777777777777778,\"#fb9f3a\"],[0.8888888888888888,\"#fdca26\"],[1.0,\"#f0f921\"]]}],\"choropleth\":[{\"type\":\"choropleth\",\"colorbar\":{\"outlinewidth\":0,\"ticks\":\"\"}}],\"histogram2d\":[{\"type\":\"histogram2d\",\"colorbar\":{\"outlinewidth\":0,\"ticks\":\"\"},\"colorscale\":[[0.0,\"#0d0887\"],[0.1111111111111111,\"#46039f\"],[0.2222222222222222,\"#7201a8\"],[0.3333333333333333,\"#9c179e\"],[0.4444444444444444,\"#bd3786\"],[0.5555555555555556,\"#d8576b\"],[0.6666666666666666,\"#ed7953\"],[0.7777777777777778,\"#fb9f3a\"],[0.8888888888888888,\"#fdca26\"],[1.0,\"#f0f921\"]]}],\"heatmap\":[{\"type\":\"heatmap\",\"colorbar\":{\"outlinewidth\":0,\"ticks\":\"\"},\"colorscale\":[[0.0,\"#0d0887\"],[0.1111111111111111,\"#46039f\"],[0.2222222222222222,\"#7201a8\"],[0.3333333333333333,\"#9c179e\"],[0.4444444444444444,\"#bd3786\"],[0.5555555555555556,\"#d8576b\"],[0.6666666666666666,\"#ed7953\"],[0.7777777777777778,\"#fb9f3a\"],[0.8888888888888888,\"#fdca26\"],[1.0,\"#f0f921\"]]}],\"heatmapgl\":[{\"type\":\"heatmapgl\",\"colorbar\":{\"outlinewidth\":0,\"ticks\":\"\"},\"colorscale\":[[0.0,\"#0d0887\"],[0.1111111111111111,\"#46039f\"],[0.2222222222222222,\"#7201a8\"],[0.3333333333333333,\"#9c179e\"],[0.4444444444444444,\"#bd3786\"],[0.5555555555555556,\"#d8576b\"],[0.6666666666666666,\"#ed7953\"],[0.7777777777777778,\"#fb9f3a\"],[0.8888888888888888,\"#fdca26\"],[1.0,\"#f0f921\"]]}],\"contourcarpet\":[{\"type\":\"contourcarpet\",\"colorbar\":{\"outlinewidth\":0,\"ticks\":\"\"}}],\"contour\":[{\"type\":\"contour\",\"colorbar\":{\"outlinewidth\":0,\"ticks\":\"\"},\"colorscale\":[[0.0,\"#0d0887\"],[0.1111111111111111,\"#46039f\"],[0.2222222222222222,\"#7201a8\"],[0.3333333333333333,\"#9c179e\"],[0.4444444444444444,\"#bd3786\"],[0.5555555555555556,\"#d8576b\"],[0.6666666666666666,\"#ed7953\"],[0.7777777777777778,\"#fb9f3a\"],[0.8888888888888888,\"#fdca26\"],[1.0,\"#f0f921\"]]}],\"surface\":[{\"type\":\"surface\",\"colorbar\":{\"outlinewidth\":0,\"ticks\":\"\"},\"colorscale\":[[0.0,\"#0d0887\"],[0.1111111111111111,\"#46039f\"],[0.2222222222222222,\"#7201a8\"],[0.3333333333333333,\"#9c179e\"],[0.4444444444444444,\"#bd3786\"],[0.5555555555555556,\"#d8576b\"],[0.6666666666666666,\"#ed7953\"],[0.7777777777777778,\"#fb9f3a\"],[0.8888888888888888,\"#fdca26\"],[1.0,\"#f0f921\"]]}],\"mesh3d\":[{\"type\":\"mesh3d\",\"colorbar\":{\"outlinewidth\":0,\"ticks\":\"\"}}],\"scatter\":[{\"fillpattern\":{\"fillmode\":\"overlay\",\"size\":10,\"solidity\":0.2},\"type\":\"scatter\"}],\"parcoords\":[{\"type\":\"parcoords\",\"line\":{\"colorbar\":{\"outlinewidth\":0,\"ticks\":\"\"}}}],\"scatterpolargl\":[{\"type\":\"scatterpolargl\",\"marker\":{\"colorbar\":{\"outlinewidth\":0,\"ticks\":\"\"}}}],\"bar\":[{\"error_x\":{\"color\":\"#2a3f5f\"},\"error_y\":{\"color\":\"#2a3f5f\"},\"marker\":{\"line\":{\"color\":\"#E5ECF6\",\"width\":0.5},\"pattern\":{\"fillmode\":\"overlay\",\"size\":10,\"solidity\":0.2}},\"type\":\"bar\"}],\"scattergeo\":[{\"type\":\"scattergeo\",\"marker\":{\"colorbar\":{\"outlinewidth\":0,\"ticks\":\"\"}}}],\"scatterpolar\":[{\"type\":\"scatterpolar\",\"marker\":{\"colorbar\":{\"outlinewidth\":0,\"ticks\":\"\"}}}],\"histogram\":[{\"marker\":{\"pattern\":{\"fillmode\":\"overlay\",\"size\":10,\"solidity\":0.2}},\"type\":\"histogram\"}],\"scattergl\":[{\"type\":\"scattergl\",\"marker\":{\"colorbar\":{\"outlinewidth\":0,\"ticks\":\"\"}}}],\"scatter3d\":[{\"type\":\"scatter3d\",\"line\":{\"colorbar\":{\"outlinewidth\":0,\"ticks\":\"\"}},\"marker\":{\"colorbar\":{\"outlinewidth\":0,\"ticks\":\"\"}}}],\"scattermapbox\":[{\"type\":\"scattermapbox\",\"marker\":{\"colorbar\":{\"outlinewidth\":0,\"ticks\":\"\"}}}],\"scatterternary\":[{\"type\":\"scatterternary\",\"marker\":{\"colorbar\":{\"outlinewidth\":0,\"ticks\":\"\"}}}],\"scattercarpet\":[{\"type\":\"scattercarpet\",\"marker\":{\"colorbar\":{\"outlinewidth\":0,\"ticks\":\"\"}}}],\"carpet\":[{\"aaxis\":{\"endlinecolor\":\"#2a3f5f\",\"gridcolor\":\"white\",\"linecolor\":\"white\",\"minorgridcolor\":\"white\",\"startlinecolor\":\"#2a3f5f\"},\"baxis\":{\"endlinecolor\":\"#2a3f5f\",\"gridcolor\":\"white\",\"linecolor\":\"white\",\"minorgridcolor\":\"white\",\"startlinecolor\":\"#2a3f5f\"},\"type\":\"carpet\"}],\"table\":[{\"cells\":{\"fill\":{\"color\":\"#EBF0F8\"},\"line\":{\"color\":\"white\"}},\"header\":{\"fill\":{\"color\":\"#C8D4E3\"},\"line\":{\"color\":\"white\"}},\"type\":\"table\"}],\"barpolar\":[{\"marker\":{\"line\":{\"color\":\"#E5ECF6\",\"width\":0.5},\"pattern\":{\"fillmode\":\"overlay\",\"size\":10,\"solidity\":0.2}},\"type\":\"barpolar\"}],\"pie\":[{\"automargin\":true,\"type\":\"pie\"}]},\"layout\":{\"autotypenumbers\":\"strict\",\"colorway\":[\"#636efa\",\"#EF553B\",\"#00cc96\",\"#ab63fa\",\"#FFA15A\",\"#19d3f3\",\"#FF6692\",\"#B6E880\",\"#FF97FF\",\"#FECB52\"],\"font\":{\"color\":\"#2a3f5f\"},\"hovermode\":\"closest\",\"hoverlabel\":{\"align\":\"left\"},\"paper_bgcolor\":\"white\",\"plot_bgcolor\":\"#E5ECF6\",\"polar\":{\"bgcolor\":\"#E5ECF6\",\"angularaxis\":{\"gridcolor\":\"white\",\"linecolor\":\"white\",\"ticks\":\"\"},\"radialaxis\":{\"gridcolor\":\"white\",\"linecolor\":\"white\",\"ticks\":\"\"}},\"ternary\":{\"bgcolor\":\"#E5ECF6\",\"aaxis\":{\"gridcolor\":\"white\",\"linecolor\":\"white\",\"ticks\":\"\"},\"baxis\":{\"gridcolor\":\"white\",\"linecolor\":\"white\",\"ticks\":\"\"},\"caxis\":{\"gridcolor\":\"white\",\"linecolor\":\"white\",\"ticks\":\"\"}},\"coloraxis\":{\"colorbar\":{\"outlinewidth\":0,\"ticks\":\"\"}},\"colorscale\":{\"sequential\":[[0.0,\"#0d0887\"],[0.1111111111111111,\"#46039f\"],[0.2222222222222222,\"#7201a8\"],[0.3333333333333333,\"#9c179e\"],[0.4444444444444444,\"#bd3786\"],[0.5555555555555556,\"#d8576b\"],[0.6666666666666666,\"#ed7953\"],[0.7777777777777778,\"#fb9f3a\"],[0.8888888888888888,\"#fdca26\"],[1.0,\"#f0f921\"]],\"sequentialminus\":[[0.0,\"#0d0887\"],[0.1111111111111111,\"#46039f\"],[0.2222222222222222,\"#7201a8\"],[0.3333333333333333,\"#9c179e\"],[0.4444444444444444,\"#bd3786\"],[0.5555555555555556,\"#d8576b\"],[0.6666666666666666,\"#ed7953\"],[0.7777777777777778,\"#fb9f3a\"],[0.8888888888888888,\"#fdca26\"],[1.0,\"#f0f921\"]],\"diverging\":[[0,\"#8e0152\"],[0.1,\"#c51b7d\"],[0.2,\"#de77ae\"],[0.3,\"#f1b6da\"],[0.4,\"#fde0ef\"],[0.5,\"#f7f7f7\"],[0.6,\"#e6f5d0\"],[0.7,\"#b8e186\"],[0.8,\"#7fbc41\"],[0.9,\"#4d9221\"],[1,\"#276419\"]]},\"xaxis\":{\"gridcolor\":\"white\",\"linecolor\":\"white\",\"ticks\":\"\",\"title\":{\"standoff\":15},\"zerolinecolor\":\"white\",\"automargin\":true,\"zerolinewidth\":2},\"yaxis\":{\"gridcolor\":\"white\",\"linecolor\":\"white\",\"ticks\":\"\",\"title\":{\"standoff\":15},\"zerolinecolor\":\"white\",\"automargin\":true,\"zerolinewidth\":2},\"scene\":{\"xaxis\":{\"backgroundcolor\":\"#E5ECF6\",\"gridcolor\":\"white\",\"linecolor\":\"white\",\"showbackground\":true,\"ticks\":\"\",\"zerolinecolor\":\"white\",\"gridwidth\":2},\"yaxis\":{\"backgroundcolor\":\"#E5ECF6\",\"gridcolor\":\"white\",\"linecolor\":\"white\",\"showbackground\":true,\"ticks\":\"\",\"zerolinecolor\":\"white\",\"gridwidth\":2},\"zaxis\":{\"backgroundcolor\":\"#E5ECF6\",\"gridcolor\":\"white\",\"linecolor\":\"white\",\"showbackground\":true,\"ticks\":\"\",\"zerolinecolor\":\"white\",\"gridwidth\":2}},\"shapedefaults\":{\"line\":{\"color\":\"#2a3f5f\"}},\"annotationdefaults\":{\"arrowcolor\":\"#2a3f5f\",\"arrowhead\":0,\"arrowwidth\":1},\"geo\":{\"bgcolor\":\"white\",\"landcolor\":\"#E5ECF6\",\"subunitcolor\":\"white\",\"showland\":true,\"showlakes\":true,\"lakecolor\":\"white\"},\"title\":{\"x\":0.05},\"mapbox\":{\"style\":\"light\"}}},\"margin\":{\"l\":65,\"r\":50,\"b\":65,\"t\":90},\"title\":{\"text\":\"Predicted Cooling Load\"},\"autosize\":true,\"width\":800,\"height\":600,\"scene\":{\"xaxis\":{\"title\":{\"text\":\"Glazing Area\"}},\"yaxis\":{\"title\":{\"text\":\"Relative Compactness\"}},\"zaxis\":{\"title\":{\"text\":\"Prediction Label\"}}}},                        {\"responsive\": true}                    ).then(function(){\n",
              "                            \n",
              "var gd = document.getElementById('00edf826-507f-4b3c-87ed-bdb0fa75e1ca');\n",
              "var x = new MutationObserver(function (mutations, observer) {{\n",
              "        var display = window.getComputedStyle(gd).display;\n",
              "        if (!display || display === 'none') {{\n",
              "            console.log([gd, 'removed!']);\n",
              "            Plotly.purge(gd);\n",
              "            observer.disconnect();\n",
              "        }}\n",
              "}});\n",
              "\n",
              "// Listen for the removal of the full notebook cells\n",
              "var notebookContainer = gd.closest('#notebook-container');\n",
              "if (notebookContainer) {{\n",
              "    x.observe(notebookContainer, {childList: true});\n",
              "}}\n",
              "\n",
              "// Listen for the clearing of the current output cell\n",
              "var outputEl = gd.closest('.output');\n",
              "if (outputEl) {{\n",
              "    x.observe(outputEl, {childList: true});\n",
              "}}\n",
              "\n",
              "                        })                };                            </script>        </div>\n",
              "</body>\n",
              "</html>"
            ]
          },
          "metadata": {}
        }
      ]
    },
    {
      "cell_type": "code",
      "source": [
        "from zoopt import Dimension, ValueType, Dimension2, Objective, Parameter, Opt, ExpOpt\n",
        "import numpy as np\n",
        "import pandas as pd\n",
        "\n",
        "# Define dimensionality of the problem\n",
        "dim_size = 2\n",
        "dim = Dimension(dim_size, [[0, 1]]*dim_size, [True]*dim_size)\n",
        "\n",
        "def get_prediction(r, g, model):\n",
        "  data_point = {\n",
        "        \"Surface Area\": 800,\n",
        "        \"Relative Compactness\": r,\n",
        "        \"Glazing Area\": g,\n",
        "        \"Wall Area\": 350,\n",
        "        \"Roof Area\": 200,\n",
        "        \"Overall Height\": 4,\n",
        "        \"Orientation\": 2,\n",
        "        \"Glazing Area Distribution\": 1\n",
        "    }\n",
        "  data_df = pd.DataFrame([data_point])\n",
        "  predicted_cooling_load = predict_model(model, data=data_df)\n",
        "  out = predicted_cooling_load.iloc[0]['prediction_label']\n",
        "  return out\n",
        "\n"
      ],
      "metadata": {
        "id": "tnYzakHL6DXn"
      },
      "execution_count": 102,
      "outputs": []
    },
    {
      "cell_type": "code",
      "source": [
        "best_val = 999999\n",
        "\n",
        "def objective_function(solution):\n",
        "    global best_val\n",
        "    x = solution.get_x()\n",
        "    obj_val = get_prediction(x[0], x[1], model)\n",
        "    if obj_val <= best_val:\n",
        "      with open(\"optimization_results.txt\", \"a\") as file:\n",
        "          file.write(f\"{x[0]}, {x[1]}, {obj_val}\\n\")\n",
        "          best_val = obj_val\n",
        "    return obj_val\n",
        "\n",
        "# Define the Objective\n",
        "obj = Objective(func=objective_function, dim=dim)\n",
        "\n",
        "param = Parameter(budget=1000,\n",
        "                  time_budget=60,\n",
        "                  intermediate_result=True,\n",
        "                  intermediate_freq=20,\n",
        "                  exploration_rate=0.05,\n",
        "                  seed=2024)\n",
        "\n",
        "\n",
        "solution = Opt.min(obj, param)\n"
      ],
      "metadata": {
        "colab": {
          "base_uri": "https://localhost:8080/",
          "height": 124
        },
        "id": "TO5_GlQR7APu",
        "outputId": "89641294-ca70-4d9e-f36d-79fa270c15c2"
      },
      "execution_count": 155,
      "outputs": [
        {
          "output_type": "display_data",
          "data": {
            "text/plain": [
              "<IPython.core.display.HTML object>"
            ],
            "text/html": []
          },
          "metadata": {}
        },
        {
          "output_type": "display_data",
          "data": {
            "text/plain": [
              "<IPython.core.display.HTML object>"
            ],
            "text/html": []
          },
          "metadata": {}
        },
        {
          "output_type": "display_data",
          "data": {
            "text/plain": [
              "<IPython.core.display.HTML object>"
            ],
            "text/html": []
          },
          "metadata": {}
        },
        {
          "output_type": "display_data",
          "data": {
            "text/plain": [
              "<IPython.core.display.HTML object>"
            ],
            "text/html": []
          },
          "metadata": {}
        },
        {
          "output_type": "display_data",
          "data": {
            "text/plain": [
              "<IPython.core.display.HTML object>"
            ],
            "text/html": []
          },
          "metadata": {}
        },
        {
          "output_type": "display_data",
          "data": {
            "text/plain": [
              "<IPython.core.display.HTML object>"
            ],
            "text/html": []
          },
          "metadata": {}
        },
        {
          "output_type": "display_data",
          "data": {
            "text/plain": [
              "<IPython.core.display.HTML object>"
            ],
            "text/html": []
          },
          "metadata": {}
        },
        {
          "output_type": "display_data",
          "data": {
            "text/plain": [
              "<IPython.core.display.HTML object>"
            ],
            "text/html": []
          },
          "metadata": {}
        },
        {
          "output_type": "display_data",
          "data": {
            "text/plain": [
              "<IPython.core.display.HTML object>"
            ],
            "text/html": []
          },
          "metadata": {}
        },
        {
          "output_type": "display_data",
          "data": {
            "text/plain": [
              "<IPython.core.display.HTML object>"
            ],
            "text/html": []
          },
          "metadata": {}
        },
        {
          "output_type": "display_data",
          "data": {
            "text/plain": [
              "<IPython.core.display.HTML object>"
            ],
            "text/html": []
          },
          "metadata": {}
        },
        {
          "output_type": "display_data",
          "data": {
            "text/plain": [
              "<IPython.core.display.HTML object>"
            ],
            "text/html": []
          },
          "metadata": {}
        },
        {
          "output_type": "display_data",
          "data": {
            "text/plain": [
              "<IPython.core.display.HTML object>"
            ],
            "text/html": []
          },
          "metadata": {}
        },
        {
          "output_type": "display_data",
          "data": {
            "text/plain": [
              "<IPython.core.display.HTML object>"
            ],
            "text/html": []
          },
          "metadata": {}
        },
        {
          "output_type": "display_data",
          "data": {
            "text/plain": [
              "<IPython.core.display.HTML object>"
            ],
            "text/html": []
          },
          "metadata": {}
        },
        {
          "output_type": "display_data",
          "data": {
            "text/plain": [
              "<IPython.core.display.HTML object>"
            ],
            "text/html": []
          },
          "metadata": {}
        },
        {
          "output_type": "display_data",
          "data": {
            "text/plain": [
              "<IPython.core.display.HTML object>"
            ],
            "text/html": []
          },
          "metadata": {}
        },
        {
          "output_type": "stream",
          "name": "stdout",
          "text": [
            "[zoopt] expected remaining running time: 00:01:00\n"
          ]
        },
        {
          "output_type": "display_data",
          "data": {
            "text/plain": [
              "<IPython.core.display.HTML object>"
            ],
            "text/html": []
          },
          "metadata": {}
        },
        {
          "output_type": "display_data",
          "data": {
            "text/plain": [
              "<IPython.core.display.HTML object>"
            ],
            "text/html": []
          },
          "metadata": {}
        },
        {
          "output_type": "display_data",
          "data": {
            "text/plain": [
              "<IPython.core.display.HTML object>"
            ],
            "text/html": []
          },
          "metadata": {}
        },
        {
          "output_type": "stream",
          "name": "stdout",
          "text": [
            "[zoopt] budget 20, fx result: 12.207902908325195\n",
            "[zoopt] x: [0.18815196003850598, 0.0549085168991037]\n"
          ]
        },
        {
          "output_type": "display_data",
          "data": {
            "text/plain": [
              "<IPython.core.display.HTML object>"
            ],
            "text/html": []
          },
          "metadata": {}
        },
        {
          "output_type": "display_data",
          "data": {
            "text/plain": [
              "<IPython.core.display.HTML object>"
            ],
            "text/html": []
          },
          "metadata": {}
        },
        {
          "output_type": "display_data",
          "data": {
            "text/plain": [
              "<IPython.core.display.HTML object>"
            ],
            "text/html": []
          },
          "metadata": {}
        },
        {
          "output_type": "display_data",
          "data": {
            "text/plain": [
              "<IPython.core.display.HTML object>"
            ],
            "text/html": []
          },
          "metadata": {}
        },
        {
          "output_type": "display_data",
          "data": {
            "text/plain": [
              "<IPython.core.display.HTML object>"
            ],
            "text/html": []
          },
          "metadata": {}
        },
        {
          "output_type": "display_data",
          "data": {
            "text/plain": [
              "<IPython.core.display.HTML object>"
            ],
            "text/html": []
          },
          "metadata": {}
        },
        {
          "output_type": "display_data",
          "data": {
            "text/plain": [
              "<IPython.core.display.HTML object>"
            ],
            "text/html": []
          },
          "metadata": {}
        },
        {
          "output_type": "display_data",
          "data": {
            "text/plain": [
              "<IPython.core.display.HTML object>"
            ],
            "text/html": []
          },
          "metadata": {}
        },
        {
          "output_type": "display_data",
          "data": {
            "text/plain": [
              "<IPython.core.display.HTML object>"
            ],
            "text/html": []
          },
          "metadata": {}
        },
        {
          "output_type": "display_data",
          "data": {
            "text/plain": [
              "<IPython.core.display.HTML object>"
            ],
            "text/html": []
          },
          "metadata": {}
        },
        {
          "output_type": "display_data",
          "data": {
            "text/plain": [
              "<IPython.core.display.HTML object>"
            ],
            "text/html": []
          },
          "metadata": {}
        },
        {
          "output_type": "display_data",
          "data": {
            "text/plain": [
              "<IPython.core.display.HTML object>"
            ],
            "text/html": []
          },
          "metadata": {}
        },
        {
          "output_type": "display_data",
          "data": {
            "text/plain": [
              "<IPython.core.display.HTML object>"
            ],
            "text/html": []
          },
          "metadata": {}
        },
        {
          "output_type": "display_data",
          "data": {
            "text/plain": [
              "<IPython.core.display.HTML object>"
            ],
            "text/html": []
          },
          "metadata": {}
        },
        {
          "output_type": "display_data",
          "data": {
            "text/plain": [
              "<IPython.core.display.HTML object>"
            ],
            "text/html": []
          },
          "metadata": {}
        },
        {
          "output_type": "display_data",
          "data": {
            "text/plain": [
              "<IPython.core.display.HTML object>"
            ],
            "text/html": []
          },
          "metadata": {}
        },
        {
          "output_type": "display_data",
          "data": {
            "text/plain": [
              "<IPython.core.display.HTML object>"
            ],
            "text/html": []
          },
          "metadata": {}
        },
        {
          "output_type": "stream",
          "name": "stdout",
          "text": [
            "[zoopt] [break loop] because distinct_flag is false too much times\n",
            "[zoopt] x: [0.18815196003850598, 0.0854590784460563]\n",
            "[zoopt] value: 12.207902908325195\n"
          ]
        }
      ]
    },
    {
      "cell_type": "code",
      "source": [
        "import matplotlib.pyplot as plt\n",
        "plt.plot(obj.get_history_bestsofar())\n",
        "print(solution.get_x(), solution.get_value())\n",
        "\n"
      ],
      "metadata": {
        "id": "mNG9i_w07fn8",
        "colab": {
          "base_uri": "https://localhost:8080/",
          "height": 502
        },
        "outputId": "d35a8bea-65d4-4b58-8986-51cf75e8ebf0"
      },
      "execution_count": 156,
      "outputs": [
        {
          "output_type": "stream",
          "name": "stdout",
          "text": [
            "[0.18815196003850598, 0.0854590784460563] 12.207902908325195\n"
          ]
        },
        {
          "output_type": "display_data",
          "data": {
            "text/plain": [
              "<Figure size 800x550 with 1 Axes>"
            ],
            "image/png": "[encoded data removed]"
          },
          "metadata": {}
        }
      ]
    },
    {
      "cell_type": "code",
      "source": [
        "class DummySolution:\n",
        "    def __init__(self, x):\n",
        "        self.x = x\n",
        "\n",
        "    def get_x(self):\n",
        "        return self.x\n",
        "\n",
        "test_solution = DummySolution([0.2, 0.9])\n",
        "objective_function(test_solution)\n"
      ],
      "metadata": {
        "colab": {
          "base_uri": "https://localhost:8080/",
          "height": 35
        },
        "id": "-Rqt7fTiy5fl",
        "outputId": "a0b9c00e-3690-4fb9-f1b4-959c6277d971"
      },
      "execution_count": 157,
      "outputs": [
        {
          "output_type": "display_data",
          "data": {
            "text/plain": [
              "<IPython.core.display.HTML object>"
            ],
            "text/html": []
          },
          "metadata": {}
        },
        {
          "output_type": "execute_result",
          "data": {
            "text/plain": [
              "17.311077117919922"
            ]
          },
          "metadata": {},
          "execution_count": 157
        }
      ]
    },
    {
      "cell_type": "code",
      "source": [
        "df_opt = pd.read_csv('optimization_results.txt', header=None, names=[\n",
        "    'Relative Compactness', 'Glazing Area', 'Approximated f(x)'])\n",
        "\n",
        "fig = go.Figure(data=[go.Surface(z=Z, x=X[0], y=Y[:, 0], colorscale='jet', opacity=0.5)])\n",
        "fig.add_trace(\n",
        "    go.Scatter3d(\n",
        "        x=df_opt['Glazing Area'],\n",
        "        y=df_opt['Relative Compactness'],\n",
        "        z=df_opt['Approximated f(x)'],\n",
        "        mode='lines+markers',\n",
        "        marker=dict(\n",
        "            size=5,\n",
        "            color='black',  # Color of the markers\n",
        "        ),\n",
        "        line=dict(width=10,\n",
        "                  color='black'\n",
        "        ),\n",
        "        name='Optimization Points'\n",
        "    )\n",
        ")\n",
        "fig.update_layout(title='Predicted Cooling Load', autosize=True,\n",
        "                  width=800, height=600,\n",
        "                  margin=dict(l=65, r=50, b=65, t=90),\n",
        "                  scene=dict(\n",
        "                      xaxis_title='Glazing Area',\n",
        "                      yaxis_title='Relative Compactness',\n",
        "                      zaxis_title='Approximated f(x)'\n",
        "                  ))\n",
        "fig.show()"
      ],
      "metadata": {
        "colab": {
          "base_uri": "https://localhost:8080/",
          "height": 617
        },
        "id": "1QG3JTIszCYr",
        "outputId": "6eb1c762-6dbb-47d6-a168-6144d5d089d6"
      },
      "execution_count": 161,
      "outputs": [
        {
          "output_type": "display_data",
          "data": {
            "text/html": [
              "<html>\n",
              "<head><meta charset=\"utf-8\" /></head>\n",
              "<body>\n",
              "    <div>            <script src=\"https://cdnjs.cloudflare.com/ajax/libs/mathjax/2.7.5/MathJax.js?config=TeX-AMS-MML_SVG\"></script><script type=\"text/javascript\">if (window.MathJax && window.MathJax.Hub && window.MathJax.Hub.Config) {window.MathJax.Hub.Config({SVG: {font: \"STIX-Web\"}});}</script>                <script type=\"text/javascript\">window.PlotlyConfig = {MathJaxConfig: 'local'};</script>\n",
              "        <script charset=\"utf-8\" src=\"https://cdn.plot.ly/plotly-2.24.1.min.js\"></script>                <div id=\"56fcb750-d90a-4f05-9ad4-cda4ff4aab30\" class=\"plotly-graph-div\" style=\"height:600px; width:800px;\"></div>            <script type=\"text/javascript\">                                    window.PLOTLYENV=window.PLOTLYENV || {};                                    if (document.getElementById(\"56fcb750-d90a-4f05-9ad4-cda4ff4aab30\")) {                    Plotly.newPlot(                        \"56fcb750-d90a-4f05-9ad4-cda4ff4aab30\",                        [{\"colorscale\":[[0.0,\"rgb(0,0,131)\"],[0.2,\"rgb(0,60,170)\"],[0.4,\"rgb(5,255,255)\"],[0.6,\"rgb(255,255,0)\"],[0.8,\"rgb(250,0,0)\"],[1.0,\"rgb(128,0,0)\"]],\"opacity\":0.5,\"x\":[0.01,0.03,0.049999999999999996,0.06999999999999999,0.08999999999999998,0.10999999999999997,0.12999999999999998,0.15,0.16999999999999998,0.18999999999999997,0.20999999999999996,0.22999999999999998,0.24999999999999997,0.26999999999999996,0.29,0.30999999999999994,0.32999999999999996,0.35,0.36999999999999994,0.38999999999999996,0.4099999999999999,0.42999999999999994,0.44999999999999996,0.4699999999999999,0.48999999999999994,0.5099999999999999,0.5299999999999999,0.5499999999999999,0.57,0.59,0.6099999999999999,0.6299999999999999,0.6499999999999999,0.6699999999999999,0.69,0.7099999999999999,0.7299999999999999,0.7499999999999999,0.7699999999999999,0.7899999999999999,0.8099999999999998,0.8299999999999998,0.8499999999999999,0.8699999999999999,0.8899999999999999,0.9099999999999999,0.9299999999999998,0.9499999999999998,0.9699999999999999,0.9899999999999999],\"y\":[0.01,0.03,0.049999999999999996,0.06999999999999999,0.08999999999999998,0.10999999999999997,0.12999999999999998,0.15,0.16999999999999998,0.18999999999999997,0.20999999999999996,0.22999999999999998,0.24999999999999997,0.26999999999999996,0.29,0.30999999999999994,0.32999999999999996,0.35,0.36999999999999994,0.38999999999999996,0.4099999999999999,0.42999999999999994,0.44999999999999996,0.4699999999999999,0.48999999999999994,0.5099999999999999,0.5299999999999999,0.5499999999999999,0.57,0.59,0.6099999999999999,0.6299999999999999,0.6499999999999999,0.6699999999999999,0.69,0.7099999999999999,0.7299999999999999,0.7499999999999999,0.7699999999999999,0.7899999999999999,0.8099999999999998,0.8299999999999998,0.8499999999999999,0.8699999999999999,0.8899999999999999,0.9099999999999999,0.9299999999999998,0.9499999999999998,0.9699999999999999,0.9899999999999999],\"z\":[[12.207902908325195,12.207902908325195,12.207902908325195,12.207902908325195,12.207902908325195,14.346355438232422,14.346355438232422,14.346355438232422,14.346355438232422,14.346355438232422,14.346355438232422,14.346355438232422,15.822633743286133,15.822633743286133,15.822633743286133,15.822633743286133,15.822633743286133,15.822633743286133,15.822633743286133,15.822633743286133,17.311077117919922,17.311077117919922,17.311077117919922,17.311077117919922,17.311077117919922,17.311077117919922,17.311077117919922,17.311077117919922,17.311077117919922,17.311077117919922,17.311077117919922,17.311077117919922,17.311077117919922,17.311077117919922,17.311077117919922,17.311077117919922,17.311077117919922,17.311077117919922,17.311077117919922,17.311077117919922,17.311077117919922,17.311077117919922,17.311077117919922,17.311077117919922,17.311077117919922,17.311077117919922,17.311077117919922,17.311077117919922,17.311077117919922,17.311077117919922],[12.207902908325195,12.207902908325195,12.207902908325195,12.207902908325195,12.207902908325195,14.346355438232422,14.346355438232422,14.346355438232422,14.346355438232422,14.346355438232422,14.346355438232422,14.346355438232422,15.822633743286133,15.822633743286133,15.822633743286133,15.822633743286133,15.822633743286133,15.822633743286133,15.822633743286133,15.822633743286133,17.311077117919922,17.311077117919922,17.311077117919922,17.311077117919922,17.311077117919922,17.311077117919922,17.311077117919922,17.311077117919922,17.311077117919922,17.311077117919922,17.311077117919922,17.311077117919922,17.311077117919922,17.311077117919922,17.311077117919922,17.311077117919922,17.311077117919922,17.311077117919922,17.311077117919922,17.311077117919922,17.311077117919922,17.311077117919922,17.311077117919922,17.311077117919922,17.311077117919922,17.311077117919922,17.311077117919922,17.311077117919922,17.311077117919922,17.311077117919922],[12.207902908325195,12.207902908325195,12.207902908325195,12.207902908325195,12.207902908325195,14.346355438232422,14.346355438232422,14.346355438232422,14.346355438232422,14.346355438232422,14.346355438232422,14.346355438232422,15.822633743286133,15.822633743286133,15.822633743286133,15.822633743286133,15.822633743286133,15.822633743286133,15.822633743286133,15.822633743286133,17.311077117919922,17.311077117919922,17.311077117919922,17.311077117919922,17.311077117919922,17.311077117919922,17.311077117919922,17.311077117919922,17.311077117919922,17.311077117919922,17.311077117919922,17.311077117919922,17.311077117919922,17.311077117919922,17.311077117919922,17.311077117919922,17.311077117919922,17.311077117919922,17.311077117919922,17.311077117919922,17.311077117919922,17.311077117919922,17.311077117919922,17.311077117919922,17.311077117919922,17.311077117919922,17.311077117919922,17.311077117919922,17.311077117919922,17.311077117919922],[12.207902908325195,12.207902908325195,12.207902908325195,12.207902908325195,12.207902908325195,14.346355438232422,14.346355438232422,14.346355438232422,14.346355438232422,14.346355438232422,14.346355438232422,14.346355438232422,15.822633743286133,15.822633743286133,15.822633743286133,15.822633743286133,15.822633743286133,15.822633743286133,15.822633743286133,15.822633743286133,17.311077117919922,17.311077117919922,17.311077117919922,17.311077117919922,17.311077117919922,17.311077117919922,17.311077117919922,17.311077117919922,17.311077117919922,17.311077117919922,17.311077117919922,17.311077117919922,17.311077117919922,17.311077117919922,17.311077117919922,17.311077117919922,17.311077117919922,17.311077117919922,17.311077117919922,17.311077117919922,17.311077117919922,17.311077117919922,17.311077117919922,17.311077117919922,17.311077117919922,17.311077117919922,17.311077117919922,17.311077117919922,17.311077117919922,17.311077117919922],[12.207902908325195,12.207902908325195,12.207902908325195,12.207902908325195,12.207902908325195,14.346355438232422,14.346355438232422,14.346355438232422,14.346355438232422,14.346355438232422,14.346355438232422,14.346355438232422,15.822633743286133,15.822633743286133,15.822633743286133,15.822633743286133,15.822633743286133,15.822633743286133,15.822633743286133,15.822633743286133,17.311077117919922,17.311077117919922,17.311077117919922,17.311077117919922,17.311077117919922,17.311077117919922,17.311077117919922,17.311077117919922,17.311077117919922,17.311077117919922,17.311077117919922,17.311077117919922,17.311077117919922,17.311077117919922,17.311077117919922,17.311077117919922,17.311077117919922,17.311077117919922,17.311077117919922,17.311077117919922,17.311077117919922,17.311077117919922,17.311077117919922,17.311077117919922,17.311077117919922,17.311077117919922,17.311077117919922,17.311077117919922,17.311077117919922,17.311077117919922],[12.207902908325195,12.207902908325195,12.207902908325195,12.207902908325195,12.207902908325195,14.346355438232422,14.346355438232422,14.346355438232422,14.346355438232422,14.346355438232422,14.346355438232422,14.346355438232422,15.822633743286133,15.822633743286133,15.822633743286133,15.822633743286133,15.822633743286133,15.822633743286133,15.822633743286133,15.822633743286133,17.311077117919922,17.311077117919922,17.311077117919922,17.311077117919922,17.311077117919922,17.311077117919922,17.311077117919922,17.311077117919922,17.311077117919922,17.311077117919922,17.311077117919922,17.311077117919922,17.311077117919922,17.311077117919922,17.311077117919922,17.311077117919922,17.311077117919922,17.311077117919922,17.311077117919922,17.311077117919922,17.311077117919922,17.311077117919922,17.311077117919922,17.311077117919922,17.311077117919922,17.311077117919922,17.311077117919922,17.311077117919922,17.311077117919922,17.311077117919922],[12.207902908325195,12.207902908325195,12.207902908325195,12.207902908325195,12.207902908325195,14.346355438232422,14.346355438232422,14.346355438232422,14.346355438232422,14.346355438232422,14.346355438232422,14.346355438232422,15.822633743286133,15.822633743286133,15.822633743286133,15.822633743286133,15.822633743286133,15.822633743286133,15.822633743286133,15.822633743286133,17.311077117919922,17.311077117919922,17.311077117919922,17.311077117919922,17.311077117919922,17.311077117919922,17.311077117919922,17.311077117919922,17.311077117919922,17.311077117919922,17.311077117919922,17.311077117919922,17.311077117919922,17.311077117919922,17.311077117919922,17.311077117919922,17.311077117919922,17.311077117919922,17.311077117919922,17.311077117919922,17.311077117919922,17.311077117919922,17.311077117919922,17.311077117919922,17.311077117919922,17.311077117919922,17.311077117919922,17.311077117919922,17.311077117919922,17.311077117919922],[12.207902908325195,12.207902908325195,12.207902908325195,12.207902908325195,12.207902908325195,14.346355438232422,14.346355438232422,14.346355438232422,14.346355438232422,14.346355438232422,14.346355438232422,14.346355438232422,15.822633743286133,15.822633743286133,15.822633743286133,15.822633743286133,15.822633743286133,15.822633743286133,15.822633743286133,15.822633743286133,17.311077117919922,17.311077117919922,17.311077117919922,17.311077117919922,17.311077117919922,17.311077117919922,17.311077117919922,17.311077117919922,17.311077117919922,17.311077117919922,17.311077117919922,17.311077117919922,17.311077117919922,17.311077117919922,17.311077117919922,17.311077117919922,17.311077117919922,17.311077117919922,17.311077117919922,17.311077117919922,17.311077117919922,17.311077117919922,17.311077117919922,17.311077117919922,17.311077117919922,17.311077117919922,17.311077117919922,17.311077117919922,17.311077117919922,17.311077117919922],[12.207902908325195,12.207902908325195,12.207902908325195,12.207902908325195,12.207902908325195,14.346355438232422,14.346355438232422,14.346355438232422,14.346355438232422,14.346355438232422,14.346355438232422,14.346355438232422,15.822633743286133,15.822633743286133,15.822633743286133,15.822633743286133,15.822633743286133,15.822633743286133,15.822633743286133,15.822633743286133,17.311077117919922,17.311077117919922,17.311077117919922,17.311077117919922,17.311077117919922,17.311077117919922,17.311077117919922,17.311077117919922,17.311077117919922,17.311077117919922,17.311077117919922,17.311077117919922,17.311077117919922,17.311077117919922,17.311077117919922,17.311077117919922,17.311077117919922,17.311077117919922,17.311077117919922,17.311077117919922,17.311077117919922,17.311077117919922,17.311077117919922,17.311077117919922,17.311077117919922,17.311077117919922,17.311077117919922,17.311077117919922,17.311077117919922,17.311077117919922],[12.207902908325195,12.207902908325195,12.207902908325195,12.207902908325195,12.207902908325195,14.346355438232422,14.346355438232422,14.346355438232422,14.346355438232422,14.346355438232422,14.346355438232422,14.346355438232422,15.822633743286133,15.822633743286133,15.822633743286133,15.822633743286133,15.822633743286133,15.822633743286133,15.822633743286133,15.822633743286133,17.311077117919922,17.311077117919922,17.311077117919922,17.311077117919922,17.311077117919922,17.311077117919922,17.311077117919922,17.311077117919922,17.311077117919922,17.311077117919922,17.311077117919922,17.311077117919922,17.311077117919922,17.311077117919922,17.311077117919922,17.311077117919922,17.311077117919922,17.311077117919922,17.311077117919922,17.311077117919922,17.311077117919922,17.311077117919922,17.311077117919922,17.311077117919922,17.311077117919922,17.311077117919922,17.311077117919922,17.311077117919922,17.311077117919922,17.311077117919922],[12.207902908325195,12.207902908325195,12.207902908325195,12.207902908325195,12.207902908325195,14.346355438232422,14.346355438232422,14.346355438232422,14.346355438232422,14.346355438232422,14.346355438232422,14.346355438232422,15.822633743286133,15.822633743286133,15.822633743286133,15.822633743286133,15.822633743286133,15.822633743286133,15.822633743286133,15.822633743286133,17.311077117919922,17.311077117919922,17.311077117919922,17.311077117919922,17.311077117919922,17.311077117919922,17.311077117919922,17.311077117919922,17.311077117919922,17.311077117919922,17.311077117919922,17.311077117919922,17.311077117919922,17.311077117919922,17.311077117919922,17.311077117919922,17.311077117919922,17.311077117919922,17.311077117919922,17.311077117919922,17.311077117919922,17.311077117919922,17.311077117919922,17.311077117919922,17.311077117919922,17.311077117919922,17.311077117919922,17.311077117919922,17.311077117919922,17.311077117919922],[12.207902908325195,12.207902908325195,12.207902908325195,12.207902908325195,12.207902908325195,14.346355438232422,14.346355438232422,14.346355438232422,14.346355438232422,14.346355438232422,14.346355438232422,14.346355438232422,15.822633743286133,15.822633743286133,15.822633743286133,15.822633743286133,15.822633743286133,15.822633743286133,15.822633743286133,15.822633743286133,17.311077117919922,17.311077117919922,17.311077117919922,17.311077117919922,17.311077117919922,17.311077117919922,17.311077117919922,17.311077117919922,17.311077117919922,17.311077117919922,17.311077117919922,17.311077117919922,17.311077117919922,17.311077117919922,17.311077117919922,17.311077117919922,17.311077117919922,17.311077117919922,17.311077117919922,17.311077117919922,17.311077117919922,17.311077117919922,17.311077117919922,17.311077117919922,17.311077117919922,17.311077117919922,17.311077117919922,17.311077117919922,17.311077117919922,17.311077117919922],[12.207902908325195,12.207902908325195,12.207902908325195,12.207902908325195,12.207902908325195,14.346355438232422,14.346355438232422,14.346355438232422,14.346355438232422,14.346355438232422,14.346355438232422,14.346355438232422,15.822633743286133,15.822633743286133,15.822633743286133,15.822633743286133,15.822633743286133,15.822633743286133,15.822633743286133,15.822633743286133,17.311077117919922,17.311077117919922,17.311077117919922,17.311077117919922,17.311077117919922,17.311077117919922,17.311077117919922,17.311077117919922,17.311077117919922,17.311077117919922,17.311077117919922,17.311077117919922,17.311077117919922,17.311077117919922,17.311077117919922,17.311077117919922,17.311077117919922,17.311077117919922,17.311077117919922,17.311077117919922,17.311077117919922,17.311077117919922,17.311077117919922,17.311077117919922,17.311077117919922,17.311077117919922,17.311077117919922,17.311077117919922,17.311077117919922,17.311077117919922],[12.207902908325195,12.207902908325195,12.207902908325195,12.207902908325195,12.207902908325195,14.346355438232422,14.346355438232422,14.346355438232422,14.346355438232422,14.346355438232422,14.346355438232422,14.346355438232422,15.822633743286133,15.822633743286133,15.822633743286133,15.822633743286133,15.822633743286133,15.822633743286133,15.822633743286133,15.822633743286133,17.311077117919922,17.311077117919922,17.311077117919922,17.311077117919922,17.311077117919922,17.311077117919922,17.311077117919922,17.311077117919922,17.311077117919922,17.311077117919922,17.311077117919922,17.311077117919922,17.311077117919922,17.311077117919922,17.311077117919922,17.311077117919922,17.311077117919922,17.311077117919922,17.311077117919922,17.311077117919922,17.311077117919922,17.311077117919922,17.311077117919922,17.311077117919922,17.311077117919922,17.311077117919922,17.311077117919922,17.311077117919922,17.311077117919922,17.311077117919922],[12.207902908325195,12.207902908325195,12.207902908325195,12.207902908325195,12.207902908325195,14.346355438232422,14.346355438232422,14.346355438232422,14.346355438232422,14.346355438232422,14.346355438232422,14.346355438232422,15.822633743286133,15.822633743286133,15.822633743286133,15.822633743286133,15.822633743286133,15.822633743286133,15.822633743286133,15.822633743286133,17.311077117919922,17.311077117919922,17.311077117919922,17.311077117919922,17.311077117919922,17.311077117919922,17.311077117919922,17.311077117919922,17.311077117919922,17.311077117919922,17.311077117919922,17.311077117919922,17.311077117919922,17.311077117919922,17.311077117919922,17.311077117919922,17.311077117919922,17.311077117919922,17.311077117919922,17.311077117919922,17.311077117919922,17.311077117919922,17.311077117919922,17.311077117919922,17.311077117919922,17.311077117919922,17.311077117919922,17.311077117919922,17.311077117919922,17.311077117919922],[12.207902908325195,12.207902908325195,12.207902908325195,12.207902908325195,12.207902908325195,14.346355438232422,14.346355438232422,14.346355438232422,14.346355438232422,14.346355438232422,14.346355438232422,14.346355438232422,15.822633743286133,15.822633743286133,15.822633743286133,15.822633743286133,15.822633743286133,15.822633743286133,15.822633743286133,15.822633743286133,17.311077117919922,17.311077117919922,17.311077117919922,17.311077117919922,17.311077117919922,17.311077117919922,17.311077117919922,17.311077117919922,17.311077117919922,17.311077117919922,17.311077117919922,17.311077117919922,17.311077117919922,17.311077117919922,17.311077117919922,17.311077117919922,17.311077117919922,17.311077117919922,17.311077117919922,17.311077117919922,17.311077117919922,17.311077117919922,17.311077117919922,17.311077117919922,17.311077117919922,17.311077117919922,17.311077117919922,17.311077117919922,17.311077117919922,17.311077117919922],[12.207902908325195,12.207902908325195,12.207902908325195,12.207902908325195,12.207902908325195,14.346355438232422,14.346355438232422,14.346355438232422,14.346355438232422,14.346355438232422,14.346355438232422,14.346355438232422,15.822633743286133,15.822633743286133,15.822633743286133,15.822633743286133,15.822633743286133,15.822633743286133,15.822633743286133,15.822633743286133,17.311077117919922,17.311077117919922,17.311077117919922,17.311077117919922,17.311077117919922,17.311077117919922,17.311077117919922,17.311077117919922,17.311077117919922,17.311077117919922,17.311077117919922,17.311077117919922,17.311077117919922,17.311077117919922,17.311077117919922,17.311077117919922,17.311077117919922,17.311077117919922,17.311077117919922,17.311077117919922,17.311077117919922,17.311077117919922,17.311077117919922,17.311077117919922,17.311077117919922,17.311077117919922,17.311077117919922,17.311077117919922,17.311077117919922,17.311077117919922],[12.207902908325195,12.207902908325195,12.207902908325195,12.207902908325195,12.207902908325195,14.346355438232422,14.346355438232422,14.346355438232422,14.346355438232422,14.346355438232422,14.346355438232422,14.346355438232422,15.822633743286133,15.822633743286133,15.822633743286133,15.822633743286133,15.822633743286133,15.822633743286133,15.822633743286133,15.822633743286133,17.311077117919922,17.311077117919922,17.311077117919922,17.311077117919922,17.311077117919922,17.311077117919922,17.311077117919922,17.311077117919922,17.311077117919922,17.311077117919922,17.311077117919922,17.311077117919922,17.311077117919922,17.311077117919922,17.311077117919922,17.311077117919922,17.311077117919922,17.311077117919922,17.311077117919922,17.311077117919922,17.311077117919922,17.311077117919922,17.311077117919922,17.311077117919922,17.311077117919922,17.311077117919922,17.311077117919922,17.311077117919922,17.311077117919922,17.311077117919922],[12.207902908325195,12.207902908325195,12.207902908325195,12.207902908325195,12.207902908325195,14.346355438232422,14.346355438232422,14.346355438232422,14.346355438232422,14.346355438232422,14.346355438232422,14.346355438232422,15.822633743286133,15.822633743286133,15.822633743286133,15.822633743286133,15.822633743286133,15.822633743286133,15.822633743286133,15.822633743286133,17.311077117919922,17.311077117919922,17.311077117919922,17.311077117919922,17.311077117919922,17.311077117919922,17.311077117919922,17.311077117919922,17.311077117919922,17.311077117919922,17.311077117919922,17.311077117919922,17.311077117919922,17.311077117919922,17.311077117919922,17.311077117919922,17.311077117919922,17.311077117919922,17.311077117919922,17.311077117919922,17.311077117919922,17.311077117919922,17.311077117919922,17.311077117919922,17.311077117919922,17.311077117919922,17.311077117919922,17.311077117919922,17.311077117919922,17.311077117919922],[12.207902908325195,12.207902908325195,12.207902908325195,12.207902908325195,12.207902908325195,14.346355438232422,14.346355438232422,14.346355438232422,14.346355438232422,14.346355438232422,14.346355438232422,14.346355438232422,15.822633743286133,15.822633743286133,15.822633743286133,15.822633743286133,15.822633743286133,15.822633743286133,15.822633743286133,15.822633743286133,17.311077117919922,17.311077117919922,17.311077117919922,17.311077117919922,17.311077117919922,17.311077117919922,17.311077117919922,17.311077117919922,17.311077117919922,17.311077117919922,17.311077117919922,17.311077117919922,17.311077117919922,17.311077117919922,17.311077117919922,17.311077117919922,17.311077117919922,17.311077117919922,17.311077117919922,17.311077117919922,17.311077117919922,17.311077117919922,17.311077117919922,17.311077117919922,17.311077117919922,17.311077117919922,17.311077117919922,17.311077117919922,17.311077117919922,17.311077117919922],[12.207902908325195,12.207902908325195,12.207902908325195,12.207902908325195,12.207902908325195,14.346355438232422,14.346355438232422,14.346355438232422,14.346355438232422,14.346355438232422,14.346355438232422,14.346355438232422,15.822633743286133,15.822633743286133,15.822633743286133,15.822633743286133,15.822633743286133,15.822633743286133,15.822633743286133,15.822633743286133,17.311077117919922,17.311077117919922,17.311077117919922,17.311077117919922,17.311077117919922,17.311077117919922,17.311077117919922,17.311077117919922,17.311077117919922,17.311077117919922,17.311077117919922,17.311077117919922,17.311077117919922,17.311077117919922,17.311077117919922,17.311077117919922,17.311077117919922,17.311077117919922,17.311077117919922,17.311077117919922,17.311077117919922,17.311077117919922,17.311077117919922,17.311077117919922,17.311077117919922,17.311077117919922,17.311077117919922,17.311077117919922,17.311077117919922,17.311077117919922],[12.207902908325195,12.207902908325195,12.207902908325195,12.207902908325195,12.207902908325195,14.346355438232422,14.346355438232422,14.346355438232422,14.346355438232422,14.346355438232422,14.346355438232422,14.346355438232422,15.822633743286133,15.822633743286133,15.822633743286133,15.822633743286133,15.822633743286133,15.822633743286133,15.822633743286133,15.822633743286133,17.311077117919922,17.311077117919922,17.311077117919922,17.311077117919922,17.311077117919922,17.311077117919922,17.311077117919922,17.311077117919922,17.311077117919922,17.311077117919922,17.311077117919922,17.311077117919922,17.311077117919922,17.311077117919922,17.311077117919922,17.311077117919922,17.311077117919922,17.311077117919922,17.311077117919922,17.311077117919922,17.311077117919922,17.311077117919922,17.311077117919922,17.311077117919922,17.311077117919922,17.311077117919922,17.311077117919922,17.311077117919922,17.311077117919922,17.311077117919922],[12.207902908325195,12.207902908325195,12.207902908325195,12.207902908325195,12.207902908325195,14.346355438232422,14.346355438232422,14.346355438232422,14.346355438232422,14.346355438232422,14.346355438232422,14.346355438232422,15.822633743286133,15.822633743286133,15.822633743286133,15.822633743286133,15.822633743286133,15.822633743286133,15.822633743286133,15.822633743286133,17.311077117919922,17.311077117919922,17.311077117919922,17.311077117919922,17.311077117919922,17.311077117919922,17.311077117919922,17.311077117919922,17.311077117919922,17.311077117919922,17.311077117919922,17.311077117919922,17.311077117919922,17.311077117919922,17.311077117919922,17.311077117919922,17.311077117919922,17.311077117919922,17.311077117919922,17.311077117919922,17.311077117919922,17.311077117919922,17.311077117919922,17.311077117919922,17.311077117919922,17.311077117919922,17.311077117919922,17.311077117919922,17.311077117919922,17.311077117919922],[12.207902908325195,12.207902908325195,12.207902908325195,12.207902908325195,12.207902908325195,14.346355438232422,14.346355438232422,14.346355438232422,14.346355438232422,14.346355438232422,14.346355438232422,14.346355438232422,15.822633743286133,15.822633743286133,15.822633743286133,15.822633743286133,15.822633743286133,15.822633743286133,15.822633743286133,15.822633743286133,17.311077117919922,17.311077117919922,17.311077117919922,17.311077117919922,17.311077117919922,17.311077117919922,17.311077117919922,17.311077117919922,17.311077117919922,17.311077117919922,17.311077117919922,17.311077117919922,17.311077117919922,17.311077117919922,17.311077117919922,17.311077117919922,17.311077117919922,17.311077117919922,17.311077117919922,17.311077117919922,17.311077117919922,17.311077117919922,17.311077117919922,17.311077117919922,17.311077117919922,17.311077117919922,17.311077117919922,17.311077117919922,17.311077117919922,17.311077117919922],[12.207902908325195,12.207902908325195,12.207902908325195,12.207902908325195,12.207902908325195,14.346355438232422,14.346355438232422,14.346355438232422,14.346355438232422,14.346355438232422,14.346355438232422,14.346355438232422,15.822633743286133,15.822633743286133,15.822633743286133,15.822633743286133,15.822633743286133,15.822633743286133,15.822633743286133,15.822633743286133,17.311077117919922,17.311077117919922,17.311077117919922,17.311077117919922,17.311077117919922,17.311077117919922,17.311077117919922,17.311077117919922,17.311077117919922,17.311077117919922,17.311077117919922,17.311077117919922,17.311077117919922,17.311077117919922,17.311077117919922,17.311077117919922,17.311077117919922,17.311077117919922,17.311077117919922,17.311077117919922,17.311077117919922,17.311077117919922,17.311077117919922,17.311077117919922,17.311077117919922,17.311077117919922,17.311077117919922,17.311077117919922,17.311077117919922,17.311077117919922],[12.207902908325195,12.207902908325195,12.207902908325195,12.207902908325195,12.207902908325195,14.346355438232422,14.346355438232422,14.346355438232422,14.346355438232422,14.346355438232422,14.346355438232422,14.346355438232422,15.822633743286133,15.822633743286133,15.822633743286133,15.822633743286133,15.822633743286133,15.822633743286133,15.822633743286133,15.822633743286133,17.311077117919922,17.311077117919922,17.311077117919922,17.311077117919922,17.311077117919922,17.311077117919922,17.311077117919922,17.311077117919922,17.311077117919922,17.311077117919922,17.311077117919922,17.311077117919922,17.311077117919922,17.311077117919922,17.311077117919922,17.311077117919922,17.311077117919922,17.311077117919922,17.311077117919922,17.311077117919922,17.311077117919922,17.311077117919922,17.311077117919922,17.311077117919922,17.311077117919922,17.311077117919922,17.311077117919922,17.311077117919922,17.311077117919922,17.311077117919922],[12.207902908325195,12.207902908325195,12.207902908325195,12.207902908325195,12.207902908325195,14.346355438232422,14.346355438232422,14.346355438232422,14.346355438232422,14.346355438232422,14.346355438232422,14.346355438232422,15.822633743286133,15.822633743286133,15.822633743286133,15.822633743286133,15.822633743286133,15.822633743286133,15.822633743286133,15.822633743286133,17.311077117919922,17.311077117919922,17.311077117919922,17.311077117919922,17.311077117919922,17.311077117919922,17.311077117919922,17.311077117919922,17.311077117919922,17.311077117919922,17.311077117919922,17.311077117919922,17.311077117919922,17.311077117919922,17.311077117919922,17.311077117919922,17.311077117919922,17.311077117919922,17.311077117919922,17.311077117919922,17.311077117919922,17.311077117919922,17.311077117919922,17.311077117919922,17.311077117919922,17.311077117919922,17.311077117919922,17.311077117919922,17.311077117919922,17.311077117919922],[12.207902908325195,12.207902908325195,12.207902908325195,12.207902908325195,12.207902908325195,14.346355438232422,14.346355438232422,14.346355438232422,14.346355438232422,14.346355438232422,14.346355438232422,14.346355438232422,15.822633743286133,15.822633743286133,15.822633743286133,15.822633743286133,15.822633743286133,15.822633743286133,15.822633743286133,15.822633743286133,17.311077117919922,17.311077117919922,17.311077117919922,17.311077117919922,17.311077117919922,17.311077117919922,17.311077117919922,17.311077117919922,17.311077117919922,17.311077117919922,17.311077117919922,17.311077117919922,17.311077117919922,17.311077117919922,17.311077117919922,17.311077117919922,17.311077117919922,17.311077117919922,17.311077117919922,17.311077117919922,17.311077117919922,17.311077117919922,17.311077117919922,17.311077117919922,17.311077117919922,17.311077117919922,17.311077117919922,17.311077117919922,17.311077117919922,17.311077117919922],[12.207902908325195,12.207902908325195,12.207902908325195,12.207902908325195,12.207902908325195,14.346355438232422,14.346355438232422,14.346355438232422,14.346355438232422,14.346355438232422,14.346355438232422,14.346355438232422,15.822633743286133,15.822633743286133,15.822633743286133,15.822633743286133,15.822633743286133,15.822633743286133,15.822633743286133,15.822633743286133,17.311077117919922,17.311077117919922,17.311077117919922,17.311077117919922,17.311077117919922,17.311077117919922,17.311077117919922,17.311077117919922,17.311077117919922,17.311077117919922,17.311077117919922,17.311077117919922,17.311077117919922,17.311077117919922,17.311077117919922,17.311077117919922,17.311077117919922,17.311077117919922,17.311077117919922,17.311077117919922,17.311077117919922,17.311077117919922,17.311077117919922,17.311077117919922,17.311077117919922,17.311077117919922,17.311077117919922,17.311077117919922,17.311077117919922,17.311077117919922],[12.207902908325195,12.207902908325195,12.207902908325195,12.207902908325195,12.207902908325195,14.346355438232422,14.346355438232422,14.346355438232422,14.346355438232422,14.346355438232422,14.346355438232422,14.346355438232422,15.822633743286133,15.822633743286133,15.822633743286133,15.822633743286133,15.822633743286133,15.822633743286133,15.822633743286133,15.822633743286133,17.311077117919922,17.311077117919922,17.311077117919922,17.311077117919922,17.311077117919922,17.311077117919922,17.311077117919922,17.311077117919922,17.311077117919922,17.311077117919922,17.311077117919922,17.311077117919922,17.311077117919922,17.311077117919922,17.311077117919922,17.311077117919922,17.311077117919922,17.311077117919922,17.311077117919922,17.311077117919922,17.311077117919922,17.311077117919922,17.311077117919922,17.311077117919922,17.311077117919922,17.311077117919922,17.311077117919922,17.311077117919922,17.311077117919922,17.311077117919922],[12.207902908325195,12.207902908325195,12.207902908325195,12.207902908325195,12.207902908325195,14.346355438232422,14.346355438232422,14.346355438232422,14.346355438232422,14.346355438232422,14.346355438232422,14.346355438232422,15.822633743286133,15.822633743286133,15.822633743286133,15.822633743286133,15.822633743286133,15.822633743286133,15.822633743286133,15.822633743286133,17.311077117919922,17.311077117919922,17.311077117919922,17.311077117919922,17.311077117919922,17.311077117919922,17.311077117919922,17.311077117919922,17.311077117919922,17.311077117919922,17.311077117919922,17.311077117919922,17.311077117919922,17.311077117919922,17.311077117919922,17.311077117919922,17.311077117919922,17.311077117919922,17.311077117919922,17.311077117919922,17.311077117919922,17.311077117919922,17.311077117919922,17.311077117919922,17.311077117919922,17.311077117919922,17.311077117919922,17.311077117919922,17.311077117919922,17.311077117919922],[12.207902908325195,12.207902908325195,12.207902908325195,12.207902908325195,12.207902908325195,14.346355438232422,14.346355438232422,14.346355438232422,14.346355438232422,14.346355438232422,14.346355438232422,14.346355438232422,15.822633743286133,15.822633743286133,15.822633743286133,15.822633743286133,15.822633743286133,15.822633743286133,15.822633743286133,15.822633743286133,17.311077117919922,17.311077117919922,17.311077117919922,17.311077117919922,17.311077117919922,17.311077117919922,17.311077117919922,17.311077117919922,17.311077117919922,17.311077117919922,17.311077117919922,17.311077117919922,17.311077117919922,17.311077117919922,17.311077117919922,17.311077117919922,17.311077117919922,17.311077117919922,17.311077117919922,17.311077117919922,17.311077117919922,17.311077117919922,17.311077117919922,17.311077117919922,17.311077117919922,17.311077117919922,17.311077117919922,17.311077117919922,17.311077117919922,17.311077117919922],[16.78474998474121,16.78474998474121,16.78474998474121,16.78474998474121,16.78474998474121,19.356613159179688,19.356613159179688,19.356613159179688,19.356613159179688,19.356613159179688,19.356613159179688,19.356613159179688,21.00286865234375,21.00286865234375,21.00286865234375,21.00286865234375,21.00286865234375,21.00286865234375,21.00286865234375,21.00286865234375,22.55008316040039,22.55008316040039,22.55008316040039,22.55008316040039,22.55008316040039,22.55008316040039,22.55008316040039,22.55008316040039,22.55008316040039,22.55008316040039,22.55008316040039,22.55008316040039,22.55008316040039,22.55008316040039,22.55008316040039,22.55008316040039,22.55008316040039,22.55008316040039,22.55008316040039,22.55008316040039,22.55008316040039,22.55008316040039,22.55008316040039,22.55008316040039,22.55008316040039,22.55008316040039,22.55008316040039,22.55008316040039,22.55008316040039,22.55008316040039],[12.20572566986084,12.20572566986084,12.20572566986084,12.20572566986084,12.20572566986084,14.151214599609375,14.151214599609375,14.151214599609375,14.151214599609375,14.151214599609375,14.151214599609375,14.151214599609375,16.370084762573242,16.370084762573242,16.370084762573242,16.370084762573242,16.370084762573242,16.370084762573242,16.370084762573242,16.370084762573242,18.183605194091797,18.183605194091797,18.183605194091797,18.183605194091797,18.183605194091797,18.183605194091797,18.183605194091797,18.183605194091797,18.183605194091797,18.183605194091797,18.183605194091797,18.183605194091797,18.183605194091797,18.183605194091797,18.183605194091797,18.183605194091797,18.183605194091797,18.183605194091797,18.183605194091797,18.183605194091797,18.183605194091797,18.183605194091797,18.183605194091797,18.183605194091797,18.183605194091797,18.183605194091797,18.183605194091797,18.183605194091797,18.183605194091797,18.183605194091797],[12.014068603515625,12.014068603515625,12.014068603515625,12.014068603515625,12.014068603515625,14.397120475769043,14.397120475769043,14.397120475769043,14.397120475769043,14.397120475769043,14.397120475769043,14.397120475769043,15.471322059631348,15.471322059631348,15.471322059631348,15.471322059631348,15.471322059631348,15.471322059631348,15.471322059631348,15.471322059631348,16.72380256652832,16.72380256652832,16.72380256652832,16.72380256652832,16.72380256652832,16.72380256652832,16.72380256652832,16.72380256652832,16.72380256652832,16.72380256652832,16.72380256652832,16.72380256652832,16.72380256652832,16.72380256652832,16.72380256652832,16.72380256652832,16.72380256652832,16.72380256652832,16.72380256652832,16.72380256652832,16.72380256652832,16.72380256652832,16.72380256652832,16.72380256652832,16.72380256652832,16.72380256652832,16.72380256652832,16.72380256652832,16.72380256652832,16.72380256652832],[11.59688663482666,11.59688663482666,11.59688663482666,11.59688663482666,11.59688663482666,14.059852600097656,14.059852600097656,14.059852600097656,14.059852600097656,14.059852600097656,14.059852600097656,14.059852600097656,15.474447250366211,15.474447250366211,15.474447250366211,15.474447250366211,15.474447250366211,15.474447250366211,15.474447250366211,15.474447250366211,16.94049644470215,16.94049644470215,16.94049644470215,16.94049644470215,16.94049644470215,16.94049644470215,16.94049644470215,16.94049644470215,16.94049644470215,16.94049644470215,16.94049644470215,16.94049644470215,16.94049644470215,16.94049644470215,16.94049644470215,16.94049644470215,16.94049644470215,16.94049644470215,16.94049644470215,16.94049644470215,16.94049644470215,16.94049644470215,16.94049644470215,16.94049644470215,16.94049644470215,16.94049644470215,16.94049644470215,16.94049644470215,16.94049644470215,16.94049644470215],[11.59688663482666,11.59688663482666,11.59688663482666,11.59688663482666,11.59688663482666,14.059852600097656,14.059852600097656,14.059852600097656,14.059852600097656,14.059852600097656,14.059852600097656,14.059852600097656,15.474447250366211,15.474447250366211,15.474447250366211,15.474447250366211,15.474447250366211,15.474447250366211,15.474447250366211,15.474447250366211,16.94049644470215,16.94049644470215,16.94049644470215,16.94049644470215,16.94049644470215,16.94049644470215,16.94049644470215,16.94049644470215,16.94049644470215,16.94049644470215,16.94049644470215,16.94049644470215,16.94049644470215,16.94049644470215,16.94049644470215,16.94049644470215,16.94049644470215,16.94049644470215,16.94049644470215,16.94049644470215,16.94049644470215,16.94049644470215,16.94049644470215,16.94049644470215,16.94049644470215,16.94049644470215,16.94049644470215,16.94049644470215,16.94049644470215,16.94049644470215],[11.43294906616211,11.43294906616211,11.43294906616211,11.43294906616211,11.43294906616211,13.912016868591309,13.912016868591309,13.912016868591309,13.912016868591309,13.912016868591309,13.912016868591309,13.912016868591309,15.220492362976074,15.220492362976074,15.220492362976074,15.220492362976074,15.220492362976074,15.220492362976074,15.220492362976074,15.220492362976074,16.958158493041992,16.958158493041992,16.958158493041992,16.958158493041992,16.958158493041992,16.958158493041992,16.958158493041992,16.958158493041992,16.958158493041992,16.958158493041992,16.958158493041992,16.958158493041992,16.958158493041992,16.958158493041992,16.958158493041992,16.958158493041992,16.958158493041992,16.958158493041992,16.958158493041992,16.958158493041992,16.958158493041992,16.958158493041992,16.958158493041992,16.958158493041992,16.958158493041992,16.958158493041992,16.958158493041992,16.958158493041992,16.958158493041992,16.958158493041992],[29.762462615966797,29.762462615966797,29.762462615966797,29.762462615966797,29.762462615966797,33.861610412597656,33.861610412597656,33.861610412597656,33.861610412597656,33.861610412597656,33.861610412597656,33.861610412597656,36.90061950683594,36.90061950683594,36.90061950683594,36.90061950683594,36.90061950683594,36.90061950683594,36.90061950683594,36.90061950683594,39.525787353515625,39.525787353515625,39.525787353515625,39.525787353515625,39.525787353515625,39.525787353515625,39.525787353515625,39.525787353515625,39.525787353515625,39.525787353515625,39.525787353515625,39.525787353515625,39.525787353515625,39.525787353515625,39.525787353515625,39.525787353515625,39.525787353515625,39.525787353515625,39.525787353515625,39.525787353515625,39.525787353515625,39.525787353515625,39.525787353515625,39.525787353515625,39.525787353515625,39.525787353515625,39.525787353515625,39.525787353515625,39.525787353515625,39.525787353515625],[37.7088508605957,37.7088508605957,37.7088508605957,37.7088508605957,37.7088508605957,41.6682243347168,41.6682243347168,41.6682243347168,41.6682243347168,41.6682243347168,41.6682243347168,41.6682243347168,43.80011749267578,43.80011749267578,43.80011749267578,43.80011749267578,43.80011749267578,43.80011749267578,43.80011749267578,43.80011749267578,45.250545501708984,45.250545501708984,45.250545501708984,45.250545501708984,45.250545501708984,45.250545501708984,45.250545501708984,45.250545501708984,45.250545501708984,45.250545501708984,45.250545501708984,45.250545501708984,45.250545501708984,45.250545501708984,45.250545501708984,45.250545501708984,45.250545501708984,45.250545501708984,45.250545501708984,45.250545501708984,45.250545501708984,45.250545501708984,45.250545501708984,45.250545501708984,45.250545501708984,45.250545501708984,45.250545501708984,45.250545501708984,45.250545501708984,45.250545501708984],[37.7088508605957,37.7088508605957,37.7088508605957,37.7088508605957,37.7088508605957,41.6682243347168,41.6682243347168,41.6682243347168,41.6682243347168,41.6682243347168,41.6682243347168,41.6682243347168,43.80011749267578,43.80011749267578,43.80011749267578,43.80011749267578,43.80011749267578,43.80011749267578,43.80011749267578,43.80011749267578,45.250545501708984,45.250545501708984,45.250545501708984,45.250545501708984,45.250545501708984,45.250545501708984,45.250545501708984,45.250545501708984,45.250545501708984,45.250545501708984,45.250545501708984,45.250545501708984,45.250545501708984,45.250545501708984,45.250545501708984,45.250545501708984,45.250545501708984,45.250545501708984,45.250545501708984,45.250545501708984,45.250545501708984,45.250545501708984,45.250545501708984,45.250545501708984,45.250545501708984,45.250545501708984,45.250545501708984,45.250545501708984,45.250545501708984,45.250545501708984],[24.281587600708008,24.281587600708008,24.281587600708008,24.281587600708008,24.281587600708008,27.405054092407227,27.405054092407227,27.405054092407227,27.405054092407227,27.405054092407227,27.405054092407227,27.405054092407227,30.32611846923828,30.32611846923828,30.32611846923828,30.32611846923828,30.32611846923828,30.32611846923828,30.32611846923828,30.32611846923828,33.2804069519043,33.2804069519043,33.2804069519043,33.2804069519043,33.2804069519043,33.2804069519043,33.2804069519043,33.2804069519043,33.2804069519043,33.2804069519043,33.2804069519043,33.2804069519043,33.2804069519043,33.2804069519043,33.2804069519043,33.2804069519043,33.2804069519043,33.2804069519043,33.2804069519043,33.2804069519043,33.2804069519043,33.2804069519043,33.2804069519043,33.2804069519043,33.2804069519043,33.2804069519043,33.2804069519043,33.2804069519043,33.2804069519043,33.2804069519043],[24.281587600708008,24.281587600708008,24.281587600708008,24.281587600708008,24.281587600708008,27.405054092407227,27.405054092407227,27.405054092407227,27.405054092407227,27.405054092407227,27.405054092407227,27.405054092407227,30.32611846923828,30.32611846923828,30.32611846923828,30.32611846923828,30.32611846923828,30.32611846923828,30.32611846923828,30.32611846923828,33.2804069519043,33.2804069519043,33.2804069519043,33.2804069519043,33.2804069519043,33.2804069519043,33.2804069519043,33.2804069519043,33.2804069519043,33.2804069519043,33.2804069519043,33.2804069519043,33.2804069519043,33.2804069519043,33.2804069519043,33.2804069519043,33.2804069519043,33.2804069519043,33.2804069519043,33.2804069519043,33.2804069519043,33.2804069519043,33.2804069519043,33.2804069519043,33.2804069519043,33.2804069519043,33.2804069519043,33.2804069519043,33.2804069519043,33.2804069519043],[27.808109283447266,27.808109283447266,27.808109283447266,27.808109283447266,27.808109283447266,32.234622955322266,32.234622955322266,32.234622955322266,32.234622955322266,32.234622955322266,32.234622955322266,32.234622955322266,36.765384674072266,36.765384674072266,36.765384674072266,36.765384674072266,36.765384674072266,36.765384674072266,36.765384674072266,36.765384674072266,39.01290512084961,39.01290512084961,39.01290512084961,39.01290512084961,39.01290512084961,39.01290512084961,39.01290512084961,39.01290512084961,39.01290512084961,39.01290512084961,39.01290512084961,39.01290512084961,39.01290512084961,39.01290512084961,39.01290512084961,39.01290512084961,39.01290512084961,39.01290512084961,39.01290512084961,39.01290512084961,39.01290512084961,39.01290512084961,39.01290512084961,39.01290512084961,39.01290512084961,39.01290512084961,39.01290512084961,39.01290512084961,39.01290512084961,39.01290512084961],[27.808109283447266,27.808109283447266,27.808109283447266,27.808109283447266,27.808109283447266,32.234622955322266,32.234622955322266,32.234622955322266,32.234622955322266,32.234622955322266,32.234622955322266,32.234622955322266,36.765384674072266,36.765384674072266,36.765384674072266,36.765384674072266,36.765384674072266,36.765384674072266,36.765384674072266,36.765384674072266,39.01290512084961,39.01290512084961,39.01290512084961,39.01290512084961,39.01290512084961,39.01290512084961,39.01290512084961,39.01290512084961,39.01290512084961,39.01290512084961,39.01290512084961,39.01290512084961,39.01290512084961,39.01290512084961,39.01290512084961,39.01290512084961,39.01290512084961,39.01290512084961,39.01290512084961,39.01290512084961,39.01290512084961,39.01290512084961,39.01290512084961,39.01290512084961,39.01290512084961,39.01290512084961,39.01290512084961,39.01290512084961,39.01290512084961,39.01290512084961],[28.719125747680664,28.719125747680664,28.719125747680664,28.719125747680664,28.719125747680664,33.09473419189453,33.09473419189453,33.09473419189453,33.09473419189453,33.09473419189453,33.09473419189453,33.09473419189453,36.36124801635742,36.36124801635742,36.36124801635742,36.36124801635742,36.36124801635742,36.36124801635742,36.36124801635742,36.36124801635742,39.6435546875,39.6435546875,39.6435546875,39.6435546875,39.6435546875,39.6435546875,39.6435546875,39.6435546875,39.6435546875,39.6435546875,39.6435546875,39.6435546875,39.6435546875,39.6435546875,39.6435546875,39.6435546875,39.6435546875,39.6435546875,39.6435546875,39.6435546875,39.6435546875,39.6435546875,39.6435546875,39.6435546875,39.6435546875,39.6435546875,39.6435546875,39.6435546875,39.6435546875,39.6435546875],[28.719125747680664,28.719125747680664,28.719125747680664,28.719125747680664,28.719125747680664,33.09473419189453,33.09473419189453,33.09473419189453,33.09473419189453,33.09473419189453,33.09473419189453,33.09473419189453,36.36124801635742,36.36124801635742,36.36124801635742,36.36124801635742,36.36124801635742,36.36124801635742,36.36124801635742,36.36124801635742,39.6435546875,39.6435546875,39.6435546875,39.6435546875,39.6435546875,39.6435546875,39.6435546875,39.6435546875,39.6435546875,39.6435546875,39.6435546875,39.6435546875,39.6435546875,39.6435546875,39.6435546875,39.6435546875,39.6435546875,39.6435546875,39.6435546875,39.6435546875,39.6435546875,39.6435546875,39.6435546875,39.6435546875,39.6435546875,39.6435546875,39.6435546875,39.6435546875,39.6435546875,39.6435546875],[28.719125747680664,28.719125747680664,28.719125747680664,28.719125747680664,28.719125747680664,33.09473419189453,33.09473419189453,33.09473419189453,33.09473419189453,33.09473419189453,33.09473419189453,33.09473419189453,36.36124801635742,36.36124801635742,36.36124801635742,36.36124801635742,36.36124801635742,36.36124801635742,36.36124801635742,36.36124801635742,39.6435546875,39.6435546875,39.6435546875,39.6435546875,39.6435546875,39.6435546875,39.6435546875,39.6435546875,39.6435546875,39.6435546875,39.6435546875,39.6435546875,39.6435546875,39.6435546875,39.6435546875,39.6435546875,39.6435546875,39.6435546875,39.6435546875,39.6435546875,39.6435546875,39.6435546875,39.6435546875,39.6435546875,39.6435546875,39.6435546875,39.6435546875,39.6435546875,39.6435546875,39.6435546875],[28.719125747680664,28.719125747680664,28.719125747680664,28.719125747680664,28.719125747680664,33.09473419189453,33.09473419189453,33.09473419189453,33.09473419189453,33.09473419189453,33.09473419189453,33.09473419189453,36.36124801635742,36.36124801635742,36.36124801635742,36.36124801635742,36.36124801635742,36.36124801635742,36.36124801635742,36.36124801635742,39.6435546875,39.6435546875,39.6435546875,39.6435546875,39.6435546875,39.6435546875,39.6435546875,39.6435546875,39.6435546875,39.6435546875,39.6435546875,39.6435546875,39.6435546875,39.6435546875,39.6435546875,39.6435546875,39.6435546875,39.6435546875,39.6435546875,39.6435546875,39.6435546875,39.6435546875,39.6435546875,39.6435546875,39.6435546875,39.6435546875,39.6435546875,39.6435546875,39.6435546875,39.6435546875],[22.149669647216797,22.149669647216797,22.149669647216797,22.149669647216797,22.149669647216797,28.34262466430664,28.34262466430664,28.34262466430664,28.34262466430664,28.34262466430664,28.34262466430664,28.34262466430664,33.69905471801758,33.69905471801758,33.69905471801758,33.69905471801758,33.69905471801758,33.69905471801758,33.69905471801758,33.69905471801758,37.85401153564453,37.85401153564453,37.85401153564453,37.85401153564453,37.85401153564453,37.85401153564453,37.85401153564453,37.85401153564453,37.85401153564453,37.85401153564453,37.85401153564453,37.85401153564453,37.85401153564453,37.85401153564453,37.85401153564453,37.85401153564453,37.85401153564453,37.85401153564453,37.85401153564453,37.85401153564453,37.85401153564453,37.85401153564453,37.85401153564453,37.85401153564453,37.85401153564453,37.85401153564453,37.85401153564453,37.85401153564453,37.85401153564453,37.85401153564453]],\"type\":\"surface\"},{\"line\":{\"color\":\"black\",\"width\":10},\"marker\":{\"color\":\"black\",\"size\":5},\"mode\":\"lines+markers\",\"name\":\"Optimization Points\",\"x\":[0.6991087476815825,0.0438085637468648,0.0955421538603654,0.0295547106902971,0.0010807459962106,0.0166225883165175,0.0549085168991037,0.0746673664053127,0.0854590784460563],\"y\":[0.5880145188953979,0.1881519600385059,0.2579956380781936,0.1881519600385059,0.1881519600385059,0.1881519600385059,0.1881519600385059,0.1881519600385059,0.1881519600385059],\"z\":[17.311077117919922,12.207902908325195,12.207902908325195,12.207902908325195,12.207902908325195,12.207902908325195,12.207902908325195,12.207902908325195,12.207902908325195],\"type\":\"scatter3d\"}],                        {\"template\":{\"data\":{\"histogram2dcontour\":[{\"type\":\"histogram2dcontour\",\"colorbar\":{\"outlinewidth\":0,\"ticks\":\"\"},\"colorscale\":[[0.0,\"#0d0887\"],[0.1111111111111111,\"#46039f\"],[0.2222222222222222,\"#7201a8\"],[0.3333333333333333,\"#9c179e\"],[0.4444444444444444,\"#bd3786\"],[0.5555555555555556,\"#d8576b\"],[0.6666666666666666,\"#ed7953\"],[0.7777777777777778,\"#fb9f3a\"],[0.8888888888888888,\"#fdca26\"],[1.0,\"#f0f921\"]]}],\"choropleth\":[{\"type\":\"choropleth\",\"colorbar\":{\"outlinewidth\":0,\"ticks\":\"\"}}],\"histogram2d\":[{\"type\":\"histogram2d\",\"colorbar\":{\"outlinewidth\":0,\"ticks\":\"\"},\"colorscale\":[[0.0,\"#0d0887\"],[0.1111111111111111,\"#46039f\"],[0.2222222222222222,\"#7201a8\"],[0.3333333333333333,\"#9c179e\"],[0.4444444444444444,\"#bd3786\"],[0.5555555555555556,\"#d8576b\"],[0.6666666666666666,\"#ed7953\"],[0.7777777777777778,\"#fb9f3a\"],[0.8888888888888888,\"#fdca26\"],[1.0,\"#f0f921\"]]}],\"heatmap\":[{\"type\":\"heatmap\",\"colorbar\":{\"outlinewidth\":0,\"ticks\":\"\"},\"colorscale\":[[0.0,\"#0d0887\"],[0.1111111111111111,\"#46039f\"],[0.2222222222222222,\"#7201a8\"],[0.3333333333333333,\"#9c179e\"],[0.4444444444444444,\"#bd3786\"],[0.5555555555555556,\"#d8576b\"],[0.6666666666666666,\"#ed7953\"],[0.7777777777777778,\"#fb9f3a\"],[0.8888888888888888,\"#fdca26\"],[1.0,\"#f0f921\"]]}],\"heatmapgl\":[{\"type\":\"heatmapgl\",\"colorbar\":{\"outlinewidth\":0,\"ticks\":\"\"},\"colorscale\":[[0.0,\"#0d0887\"],[0.1111111111111111,\"#46039f\"],[0.2222222222222222,\"#7201a8\"],[0.3333333333333333,\"#9c179e\"],[0.4444444444444444,\"#bd3786\"],[0.5555555555555556,\"#d8576b\"],[0.6666666666666666,\"#ed7953\"],[0.7777777777777778,\"#fb9f3a\"],[0.8888888888888888,\"#fdca26\"],[1.0,\"#f0f921\"]]}],\"contourcarpet\":[{\"type\":\"contourcarpet\",\"colorbar\":{\"outlinewidth\":0,\"ticks\":\"\"}}],\"contour\":[{\"type\":\"contour\",\"colorbar\":{\"outlinewidth\":0,\"ticks\":\"\"},\"colorscale\":[[0.0,\"#0d0887\"],[0.1111111111111111,\"#46039f\"],[0.2222222222222222,\"#7201a8\"],[0.3333333333333333,\"#9c179e\"],[0.4444444444444444,\"#bd3786\"],[0.5555555555555556,\"#d8576b\"],[0.6666666666666666,\"#ed7953\"],[0.7777777777777778,\"#fb9f3a\"],[0.8888888888888888,\"#fdca26\"],[1.0,\"#f0f921\"]]}],\"surface\":[{\"type\":\"surface\",\"colorbar\":{\"outlinewidth\":0,\"ticks\":\"\"},\"colorscale\":[[0.0,\"#0d0887\"],[0.1111111111111111,\"#46039f\"],[0.2222222222222222,\"#7201a8\"],[0.3333333333333333,\"#9c179e\"],[0.4444444444444444,\"#bd3786\"],[0.5555555555555556,\"#d8576b\"],[0.6666666666666666,\"#ed7953\"],[0.7777777777777778,\"#fb9f3a\"],[0.8888888888888888,\"#fdca26\"],[1.0,\"#f0f921\"]]}],\"mesh3d\":[{\"type\":\"mesh3d\",\"colorbar\":{\"outlinewidth\":0,\"ticks\":\"\"}}],\"scatter\":[{\"fillpattern\":{\"fillmode\":\"overlay\",\"size\":10,\"solidity\":0.2},\"type\":\"scatter\"}],\"parcoords\":[{\"type\":\"parcoords\",\"line\":{\"colorbar\":{\"outlinewidth\":0,\"ticks\":\"\"}}}],\"scatterpolargl\":[{\"type\":\"scatterpolargl\",\"marker\":{\"colorbar\":{\"outlinewidth\":0,\"ticks\":\"\"}}}],\"bar\":[{\"error_x\":{\"color\":\"#2a3f5f\"},\"error_y\":{\"color\":\"#2a3f5f\"},\"marker\":{\"line\":{\"color\":\"#E5ECF6\",\"width\":0.5},\"pattern\":{\"fillmode\":\"overlay\",\"size\":10,\"solidity\":0.2}},\"type\":\"bar\"}],\"scattergeo\":[{\"type\":\"scattergeo\",\"marker\":{\"colorbar\":{\"outlinewidth\":0,\"ticks\":\"\"}}}],\"scatterpolar\":[{\"type\":\"scatterpolar\",\"marker\":{\"colorbar\":{\"outlinewidth\":0,\"ticks\":\"\"}}}],\"histogram\":[{\"marker\":{\"pattern\":{\"fillmode\":\"overlay\",\"size\":10,\"solidity\":0.2}},\"type\":\"histogram\"}],\"scattergl\":[{\"type\":\"scattergl\",\"marker\":{\"colorbar\":{\"outlinewidth\":0,\"ticks\":\"\"}}}],\"scatter3d\":[{\"type\":\"scatter3d\",\"line\":{\"colorbar\":{\"outlinewidth\":0,\"ticks\":\"\"}},\"marker\":{\"colorbar\":{\"outlinewidth\":0,\"ticks\":\"\"}}}],\"scattermapbox\":[{\"type\":\"scattermapbox\",\"marker\":{\"colorbar\":{\"outlinewidth\":0,\"ticks\":\"\"}}}],\"scatterternary\":[{\"type\":\"scatterternary\",\"marker\":{\"colorbar\":{\"outlinewidth\":0,\"ticks\":\"\"}}}],\"scattercarpet\":[{\"type\":\"scattercarpet\",\"marker\":{\"colorbar\":{\"outlinewidth\":0,\"ticks\":\"\"}}}],\"carpet\":[{\"aaxis\":{\"endlinecolor\":\"#2a3f5f\",\"gridcolor\":\"white\",\"linecolor\":\"white\",\"minorgridcolor\":\"white\",\"startlinecolor\":\"#2a3f5f\"},\"baxis\":{\"endlinecolor\":\"#2a3f5f\",\"gridcolor\":\"white\",\"linecolor\":\"white\",\"minorgridcolor\":\"white\",\"startlinecolor\":\"#2a3f5f\"},\"type\":\"carpet\"}],\"table\":[{\"cells\":{\"fill\":{\"color\":\"#EBF0F8\"},\"line\":{\"color\":\"white\"}},\"header\":{\"fill\":{\"color\":\"#C8D4E3\"},\"line\":{\"color\":\"white\"}},\"type\":\"table\"}],\"barpolar\":[{\"marker\":{\"line\":{\"color\":\"#E5ECF6\",\"width\":0.5},\"pattern\":{\"fillmode\":\"overlay\",\"size\":10,\"solidity\":0.2}},\"type\":\"barpolar\"}],\"pie\":[{\"automargin\":true,\"type\":\"pie\"}]},\"layout\":{\"autotypenumbers\":\"strict\",\"colorway\":[\"#636efa\",\"#EF553B\",\"#00cc96\",\"#ab63fa\",\"#FFA15A\",\"#19d3f3\",\"#FF6692\",\"#B6E880\",\"#FF97FF\",\"#FECB52\"],\"font\":{\"color\":\"#2a3f5f\"},\"hovermode\":\"closest\",\"hoverlabel\":{\"align\":\"left\"},\"paper_bgcolor\":\"white\",\"plot_bgcolor\":\"#E5ECF6\",\"polar\":{\"bgcolor\":\"#E5ECF6\",\"angularaxis\":{\"gridcolor\":\"white\",\"linecolor\":\"white\",\"ticks\":\"\"},\"radialaxis\":{\"gridcolor\":\"white\",\"linecolor\":\"white\",\"ticks\":\"\"}},\"ternary\":{\"bgcolor\":\"#E5ECF6\",\"aaxis\":{\"gridcolor\":\"white\",\"linecolor\":\"white\",\"ticks\":\"\"},\"baxis\":{\"gridcolor\":\"white\",\"linecolor\":\"white\",\"ticks\":\"\"},\"caxis\":{\"gridcolor\":\"white\",\"linecolor\":\"white\",\"ticks\":\"\"}},\"coloraxis\":{\"colorbar\":{\"outlinewidth\":0,\"ticks\":\"\"}},\"colorscale\":{\"sequential\":[[0.0,\"#0d0887\"],[0.1111111111111111,\"#46039f\"],[0.2222222222222222,\"#7201a8\"],[0.3333333333333333,\"#9c179e\"],[0.4444444444444444,\"#bd3786\"],[0.5555555555555556,\"#d8576b\"],[0.6666666666666666,\"#ed7953\"],[0.7777777777777778,\"#fb9f3a\"],[0.8888888888888888,\"#fdca26\"],[1.0,\"#f0f921\"]],\"sequentialminus\":[[0.0,\"#0d0887\"],[0.1111111111111111,\"#46039f\"],[0.2222222222222222,\"#7201a8\"],[0.3333333333333333,\"#9c179e\"],[0.4444444444444444,\"#bd3786\"],[0.5555555555555556,\"#d8576b\"],[0.6666666666666666,\"#ed7953\"],[0.7777777777777778,\"#fb9f3a\"],[0.8888888888888888,\"#fdca26\"],[1.0,\"#f0f921\"]],\"diverging\":[[0,\"#8e0152\"],[0.1,\"#c51b7d\"],[0.2,\"#de77ae\"],[0.3,\"#f1b6da\"],[0.4,\"#fde0ef\"],[0.5,\"#f7f7f7\"],[0.6,\"#e6f5d0\"],[0.7,\"#b8e186\"],[0.8,\"#7fbc41\"],[0.9,\"#4d9221\"],[1,\"#276419\"]]},\"xaxis\":{\"gridcolor\":\"white\",\"linecolor\":\"white\",\"ticks\":\"\",\"title\":{\"standoff\":15},\"zerolinecolor\":\"white\",\"automargin\":true,\"zerolinewidth\":2},\"yaxis\":{\"gridcolor\":\"white\",\"linecolor\":\"white\",\"ticks\":\"\",\"title\":{\"standoff\":15},\"zerolinecolor\":\"white\",\"automargin\":true,\"zerolinewidth\":2},\"scene\":{\"xaxis\":{\"backgroundcolor\":\"#E5ECF6\",\"gridcolor\":\"white\",\"linecolor\":\"white\",\"showbackground\":true,\"ticks\":\"\",\"zerolinecolor\":\"white\",\"gridwidth\":2},\"yaxis\":{\"backgroundcolor\":\"#E5ECF6\",\"gridcolor\":\"white\",\"linecolor\":\"white\",\"showbackground\":true,\"ticks\":\"\",\"zerolinecolor\":\"white\",\"gridwidth\":2},\"zaxis\":{\"backgroundcolor\":\"#E5ECF6\",\"gridcolor\":\"white\",\"linecolor\":\"white\",\"showbackground\":true,\"ticks\":\"\",\"zerolinecolor\":\"white\",\"gridwidth\":2}},\"shapedefaults\":{\"line\":{\"color\":\"#2a3f5f\"}},\"annotationdefaults\":{\"arrowcolor\":\"#2a3f5f\",\"arrowhead\":0,\"arrowwidth\":1},\"geo\":{\"bgcolor\":\"white\",\"landcolor\":\"#E5ECF6\",\"subunitcolor\":\"white\",\"showland\":true,\"showlakes\":true,\"lakecolor\":\"white\"},\"title\":{\"x\":0.05},\"mapbox\":{\"style\":\"light\"}}},\"margin\":{\"l\":65,\"r\":50,\"b\":65,\"t\":90},\"title\":{\"text\":\"Predicted Cooling Load\"},\"autosize\":true,\"width\":800,\"height\":600,\"scene\":{\"xaxis\":{\"title\":{\"text\":\"Glazing Area\"}},\"yaxis\":{\"title\":{\"text\":\"Relative Compactness\"}},\"zaxis\":{\"title\":{\"text\":\"Approximated f(x)\"}}}},                        {\"responsive\": true}                    ).then(function(){\n",
              "                            \n",
              "var gd = document.getElementById('56fcb750-d90a-4f05-9ad4-cda4ff4aab30');\n",
              "var x = new MutationObserver(function (mutations, observer) {{\n",
              "        var display = window.getComputedStyle(gd).display;\n",
              "        if (!display || display === 'none') {{\n",
              "            console.log([gd, 'removed!']);\n",
              "            Plotly.purge(gd);\n",
              "            observer.disconnect();\n",
              "        }}\n",
              "}});\n",
              "\n",
              "// Listen for the removal of the full notebook cells\n",
              "var notebookContainer = gd.closest('#notebook-container');\n",
              "if (notebookContainer) {{\n",
              "    x.observe(notebookContainer, {childList: true});\n",
              "}}\n",
              "\n",
              "// Listen for the clearing of the current output cell\n",
              "var outputEl = gd.closest('.output');\n",
              "if (outputEl) {{\n",
              "    x.observe(outputEl, {childList: true});\n",
              "}}\n",
              "\n",
              "                        })                };                            </script>        </div>\n",
              "</body>\n",
              "</html>"
            ]
          },
          "metadata": {}
        }
      ]
    },
    {
      "cell_type": "code",
      "source": [
        "plt.plot(df_opt[\"Approximated f(x)\"])"
      ],
      "metadata": {
        "colab": {
          "base_uri": "https://localhost:8080/",
          "height": 502
        },
        "id": "i3myVliAzLbL",
        "outputId": "c7596400-45be-401f-f378-f84d0dba3a04"
      },
      "execution_count": 159,
      "outputs": [
        {
          "output_type": "execute_result",
          "data": {
            "text/plain": [
              "[<matplotlib.lines.Line2D at 0x7bfaa022a260>]"
            ]
          },
          "metadata": {},
          "execution_count": 159
        },
        {
          "output_type": "display_data",
          "data": {
            "text/plain": [
              "<Figure size 800x550 with 1 Axes>"
            ],
            "image/png": "[encoded data removed]"
          },
          "metadata": {}
        }
      ]
    },
    {
      "cell_type": "code",
      "source": [
        "\n",
        "dim_size = 6\n",
        "dim = Dimension2(\n",
        "    [\n",
        "        (ValueType.CONTINUOUS, [500, 800], 1),\n",
        "        (ValueType.CONTINUOUS, [0, 1], 0.01),\n",
        "        (ValueType.CONTINUOUS, [0, 1], 0.01),\n",
        "        (ValueType.CONTINUOUS, [100, 300], 1),\n",
        "        (ValueType.CONTINUOUS, [100, 430], 1),\n",
        "        (ValueType.DISCRETE, [1, 2, 3, 4, 5]),\n",
        "    ])\n",
        "\n",
        "def get_prediction(s, c, g, w, r, h, model):\n",
        "  data_point = {\n",
        "        \"Surface Area\": s,\n",
        "        \"Relative Compactness\": c,\n",
        "        \"Glazing Area\": g,\n",
        "        \"Wall Area\": w,\n",
        "        \"Roof Area\": r,\n",
        "        \"Overall Height\": h,\n",
        "        \"Orientation\": 2,\n",
        "        \"Glazing Area Distribution\": 1\n",
        "    }\n",
        "  data_df = pd.DataFrame([data_point])\n",
        "  predicted_cooling_load = predict_model(model, data=data_df)\n",
        "  out = predicted_cooling_load.iloc[0]['prediction_label']\n",
        "  return out\n",
        "\n",
        "\n",
        "\n",
        "best_val = 999999\n",
        "def objective_function(solution):\n",
        "    global best_val\n",
        "    x = solution.get_x()\n",
        "    obj_val = get_prediction(x[0], x[1], x[2], x[3], x[4], x[5], model)\n",
        "    if obj_val <= best_val:\n",
        "      best_val = obj_val\n",
        "      with open(\"optimization_results_6d.txt\", \"a\") as file:\n",
        "          file.write(f\"{x[0]}, {x[1]}, {x[2]}, {x[3]}, {x[4]}, {x[5]}, {obj_val}\\n\")\n",
        "\n",
        "    return obj_val\n",
        "\n",
        "# Define the Objective\n",
        "obj = Objective(func=objective_function, dim=dim)\n",
        "param = Parameter(budget=1000,\n",
        "                  time_budget=60,\n",
        "                  intermediate_result=True,\n",
        "                  intermediate_freq=50,\n",
        "                  exploration_rate=0.1,\n",
        "                  seed=2023)\n",
        "\n",
        "solution = Opt.min(obj, param)\n",
        "\n"
      ],
      "metadata": {
        "colab": {
          "base_uri": "https://localhost:8080/",
          "height": 231
        },
        "id": "gx6W8Be7oH2K",
        "outputId": "718232b6-e0eb-41e2-ce44-fa3fbc16cde8"
      },
      "execution_count": 164,
      "outputs": [
        {
          "output_type": "display_data",
          "data": {
            "text/plain": [
              "<IPython.core.display.HTML object>"
            ],
            "text/html": []
          },
          "metadata": {}
        },
        {
          "output_type": "display_data",
          "data": {
            "text/plain": [
              "<IPython.core.display.HTML object>"
            ],
            "text/html": []
          },
          "metadata": {}
        },
        {
          "output_type": "display_data",
          "data": {
            "text/plain": [
              "<IPython.core.display.HTML object>"
            ],
            "text/html": []
          },
          "metadata": {}
        },
        {
          "output_type": "display_data",
          "data": {
            "text/plain": [
              "<IPython.core.display.HTML object>"
            ],
            "text/html": []
          },
          "metadata": {}
        },
        {
          "output_type": "display_data",
          "data": {
            "text/plain": [
              "<IPython.core.display.HTML object>"
            ],
            "text/html": []
          },
          "metadata": {}
        },
        {
          "output_type": "display_data",
          "data": {
            "text/plain": [
              "<IPython.core.display.HTML object>"
            ],
            "text/html": []
          },
          "metadata": {}
        },
        {
          "output_type": "display_data",
          "data": {
            "text/plain": [
              "<IPython.core.display.HTML object>"
            ],
            "text/html": []
          },
          "metadata": {}
        },
        {
          "output_type": "display_data",
          "data": {
            "text/plain": [
              "<IPython.core.display.HTML object>"
            ],
            "text/html": []
          },
          "metadata": {}
        },
        {
          "output_type": "display_data",
          "data": {
            "text/plain": [
              "<IPython.core.display.HTML object>"
            ],
            "text/html": []
          },
          "metadata": {}
        },
        {
          "output_type": "display_data",
          "data": {
            "text/plain": [
              "<IPython.core.display.HTML object>"
            ],
            "text/html": []
          },
          "metadata": {}
        },
        {
          "output_type": "display_data",
          "data": {
            "text/plain": [
              "<IPython.core.display.HTML object>"
            ],
            "text/html": []
          },
          "metadata": {}
        },
        {
          "output_type": "display_data",
          "data": {
            "text/plain": [
              "<IPython.core.display.HTML object>"
            ],
            "text/html": []
          },
          "metadata": {}
        },
        {
          "output_type": "display_data",
          "data": {
            "text/plain": [
              "<IPython.core.display.HTML object>"
            ],
            "text/html": []
          },
          "metadata": {}
        },
        {
          "output_type": "display_data",
          "data": {
            "text/plain": [
              "<IPython.core.display.HTML object>"
            ],
            "text/html": []
          },
          "metadata": {}
        },
        {
          "output_type": "display_data",
          "data": {
            "text/plain": [
              "<IPython.core.display.HTML object>"
            ],
            "text/html": []
          },
          "metadata": {}
        },
        {
          "output_type": "display_data",
          "data": {
            "text/plain": [
              "<IPython.core.display.HTML object>"
            ],
            "text/html": []
          },
          "metadata": {}
        },
        {
          "output_type": "display_data",
          "data": {
            "text/plain": [
              "<IPython.core.display.HTML object>"
            ],
            "text/html": []
          },
          "metadata": {}
        },
        {
          "output_type": "stream",
          "name": "stdout",
          "text": [
            "[zoopt] expected remaining running time: 00:01:00\n"
          ]
        },
        {
          "output_type": "display_data",
          "data": {
            "text/plain": [
              "<IPython.core.display.HTML object>"
            ],
            "text/html": []
          },
          "metadata": {}
        },
        {
          "output_type": "display_data",
          "data": {
            "text/plain": [
              "<IPython.core.display.HTML object>"
            ],
            "text/html": []
          },
          "metadata": {}
        },
        {
          "output_type": "display_data",
          "data": {
            "text/plain": [
              "<IPython.core.display.HTML object>"
            ],
            "text/html": []
          },
          "metadata": {}
        },
        {
          "output_type": "display_data",
          "data": {
            "text/plain": [
              "<IPython.core.display.HTML object>"
            ],
            "text/html": []
          },
          "metadata": {}
        },
        {
          "output_type": "display_data",
          "data": {
            "text/plain": [
              "<IPython.core.display.HTML object>"
            ],
            "text/html": []
          },
          "metadata": {}
        },
        {
          "output_type": "display_data",
          "data": {
            "text/plain": [
              "<IPython.core.display.HTML object>"
            ],
            "text/html": []
          },
          "metadata": {}
        },
        {
          "output_type": "display_data",
          "data": {
            "text/plain": [
              "<IPython.core.display.HTML object>"
            ],
            "text/html": []
          },
          "metadata": {}
        },
        {
          "output_type": "display_data",
          "data": {
            "text/plain": [
              "<IPython.core.display.HTML object>"
            ],
            "text/html": []
          },
          "metadata": {}
        },
        {
          "output_type": "display_data",
          "data": {
            "text/plain": [
              "<IPython.core.display.HTML object>"
            ],
            "text/html": []
          },
          "metadata": {}
        },
        {
          "output_type": "display_data",
          "data": {
            "text/plain": [
              "<IPython.core.display.HTML object>"
            ],
            "text/html": []
          },
          "metadata": {}
        },
        {
          "output_type": "display_data",
          "data": {
            "text/plain": [
              "<IPython.core.display.HTML object>"
            ],
            "text/html": []
          },
          "metadata": {}
        },
        {
          "output_type": "display_data",
          "data": {
            "text/plain": [
              "<IPython.core.display.HTML object>"
            ],
            "text/html": []
          },
          "metadata": {}
        },
        {
          "output_type": "display_data",
          "data": {
            "text/plain": [
              "<IPython.core.display.HTML object>"
            ],
            "text/html": []
          },
          "metadata": {}
        },
        {
          "output_type": "display_data",
          "data": {
            "text/plain": [
              "<IPython.core.display.HTML object>"
            ],
            "text/html": []
          },
          "metadata": {}
        },
        {
          "output_type": "display_data",
          "data": {
            "text/plain": [
              "<IPython.core.display.HTML object>"
            ],
            "text/html": []
          },
          "metadata": {}
        },
        {
          "output_type": "display_data",
          "data": {
            "text/plain": [
              "<IPython.core.display.HTML object>"
            ],
            "text/html": []
          },
          "metadata": {}
        },
        {
          "output_type": "display_data",
          "data": {
            "text/plain": [
              "<IPython.core.display.HTML object>"
            ],
            "text/html": []
          },
          "metadata": {}
        },
        {
          "output_type": "display_data",
          "data": {
            "text/plain": [
              "<IPython.core.display.HTML object>"
            ],
            "text/html": []
          },
          "metadata": {}
        },
        {
          "output_type": "display_data",
          "data": {
            "text/plain": [
              "<IPython.core.display.HTML object>"
            ],
            "text/html": []
          },
          "metadata": {}
        },
        {
          "output_type": "display_data",
          "data": {
            "text/plain": [
              "<IPython.core.display.HTML object>"
            ],
            "text/html": []
          },
          "metadata": {}
        },
        {
          "output_type": "display_data",
          "data": {
            "text/plain": [
              "<IPython.core.display.HTML object>"
            ],
            "text/html": []
          },
          "metadata": {}
        },
        {
          "output_type": "display_data",
          "data": {
            "text/plain": [
              "<IPython.core.display.HTML object>"
            ],
            "text/html": []
          },
          "metadata": {}
        },
        {
          "output_type": "display_data",
          "data": {
            "text/plain": [
              "<IPython.core.display.HTML object>"
            ],
            "text/html": []
          },
          "metadata": {}
        },
        {
          "output_type": "display_data",
          "data": {
            "text/plain": [
              "<IPython.core.display.HTML object>"
            ],
            "text/html": []
          },
          "metadata": {}
        },
        {
          "output_type": "display_data",
          "data": {
            "text/plain": [
              "<IPython.core.display.HTML object>"
            ],
            "text/html": []
          },
          "metadata": {}
        },
        {
          "output_type": "display_data",
          "data": {
            "text/plain": [
              "<IPython.core.display.HTML object>"
            ],
            "text/html": []
          },
          "metadata": {}
        },
        {
          "output_type": "display_data",
          "data": {
            "text/plain": [
              "<IPython.core.display.HTML object>"
            ],
            "text/html": []
          },
          "metadata": {}
        },
        {
          "output_type": "display_data",
          "data": {
            "text/plain": [
              "<IPython.core.display.HTML object>"
            ],
            "text/html": []
          },
          "metadata": {}
        },
        {
          "output_type": "display_data",
          "data": {
            "text/plain": [
              "<IPython.core.display.HTML object>"
            ],
            "text/html": []
          },
          "metadata": {}
        },
        {
          "output_type": "display_data",
          "data": {
            "text/plain": [
              "<IPython.core.display.HTML object>"
            ],
            "text/html": []
          },
          "metadata": {}
        },
        {
          "output_type": "display_data",
          "data": {
            "text/plain": [
              "<IPython.core.display.HTML object>"
            ],
            "text/html": []
          },
          "metadata": {}
        },
        {
          "output_type": "display_data",
          "data": {
            "text/plain": [
              "<IPython.core.display.HTML object>"
            ],
            "text/html": []
          },
          "metadata": {}
        },
        {
          "output_type": "display_data",
          "data": {
            "text/plain": [
              "<IPython.core.display.HTML object>"
            ],
            "text/html": []
          },
          "metadata": {}
        },
        {
          "output_type": "stream",
          "name": "stdout",
          "text": [
            "[zoopt] budget 50, fx result: 14.216777801513672\n",
            "[zoopt] x: [524.0, 0.7, 0.19, 109.0, 348.0, 1]\n"
          ]
        },
        {
          "output_type": "display_data",
          "data": {
            "text/plain": [
              "<IPython.core.display.HTML object>"
            ],
            "text/html": []
          },
          "metadata": {}
        },
        {
          "output_type": "display_data",
          "data": {
            "text/plain": [
              "<IPython.core.display.HTML object>"
            ],
            "text/html": []
          },
          "metadata": {}
        },
        {
          "output_type": "display_data",
          "data": {
            "text/plain": [
              "<IPython.core.display.HTML object>"
            ],
            "text/html": []
          },
          "metadata": {}
        },
        {
          "output_type": "display_data",
          "data": {
            "text/plain": [
              "<IPython.core.display.HTML object>"
            ],
            "text/html": []
          },
          "metadata": {}
        },
        {
          "output_type": "display_data",
          "data": {
            "text/plain": [
              "<IPython.core.display.HTML object>"
            ],
            "text/html": []
          },
          "metadata": {}
        },
        {
          "output_type": "display_data",
          "data": {
            "text/plain": [
              "<IPython.core.display.HTML object>"
            ],
            "text/html": []
          },
          "metadata": {}
        },
        {
          "output_type": "display_data",
          "data": {
            "text/plain": [
              "<IPython.core.display.HTML object>"
            ],
            "text/html": []
          },
          "metadata": {}
        },
        {
          "output_type": "display_data",
          "data": {
            "text/plain": [
              "<IPython.core.display.HTML object>"
            ],
            "text/html": []
          },
          "metadata": {}
        },
        {
          "output_type": "display_data",
          "data": {
            "text/plain": [
              "<IPython.core.display.HTML object>"
            ],
            "text/html": []
          },
          "metadata": {}
        },
        {
          "output_type": "display_data",
          "data": {
            "text/plain": [
              "<IPython.core.display.HTML object>"
            ],
            "text/html": []
          },
          "metadata": {}
        },
        {
          "output_type": "display_data",
          "data": {
            "text/plain": [
              "<IPython.core.display.HTML object>"
            ],
            "text/html": []
          },
          "metadata": {}
        },
        {
          "output_type": "display_data",
          "data": {
            "text/plain": [
              "<IPython.core.display.HTML object>"
            ],
            "text/html": []
          },
          "metadata": {}
        },
        {
          "output_type": "display_data",
          "data": {
            "text/plain": [
              "<IPython.core.display.HTML object>"
            ],
            "text/html": []
          },
          "metadata": {}
        },
        {
          "output_type": "display_data",
          "data": {
            "text/plain": [
              "<IPython.core.display.HTML object>"
            ],
            "text/html": []
          },
          "metadata": {}
        },
        {
          "output_type": "display_data",
          "data": {
            "text/plain": [
              "<IPython.core.display.HTML object>"
            ],
            "text/html": []
          },
          "metadata": {}
        },
        {
          "output_type": "display_data",
          "data": {
            "text/plain": [
              "<IPython.core.display.HTML object>"
            ],
            "text/html": []
          },
          "metadata": {}
        },
        {
          "output_type": "display_data",
          "data": {
            "text/plain": [
              "<IPython.core.display.HTML object>"
            ],
            "text/html": []
          },
          "metadata": {}
        },
        {
          "output_type": "display_data",
          "data": {
            "text/plain": [
              "<IPython.core.display.HTML object>"
            ],
            "text/html": []
          },
          "metadata": {}
        },
        {
          "output_type": "display_data",
          "data": {
            "text/plain": [
              "<IPython.core.display.HTML object>"
            ],
            "text/html": []
          },
          "metadata": {}
        },
        {
          "output_type": "display_data",
          "data": {
            "text/plain": [
              "<IPython.core.display.HTML object>"
            ],
            "text/html": []
          },
          "metadata": {}
        },
        {
          "output_type": "display_data",
          "data": {
            "text/plain": [
              "<IPython.core.display.HTML object>"
            ],
            "text/html": []
          },
          "metadata": {}
        },
        {
          "output_type": "display_data",
          "data": {
            "text/plain": [
              "<IPython.core.display.HTML object>"
            ],
            "text/html": []
          },
          "metadata": {}
        },
        {
          "output_type": "display_data",
          "data": {
            "text/plain": [
              "<IPython.core.display.HTML object>"
            ],
            "text/html": []
          },
          "metadata": {}
        },
        {
          "output_type": "display_data",
          "data": {
            "text/plain": [
              "<IPython.core.display.HTML object>"
            ],
            "text/html": []
          },
          "metadata": {}
        },
        {
          "output_type": "display_data",
          "data": {
            "text/plain": [
              "<IPython.core.display.HTML object>"
            ],
            "text/html": []
          },
          "metadata": {}
        },
        {
          "output_type": "display_data",
          "data": {
            "text/plain": [
              "<IPython.core.display.HTML object>"
            ],
            "text/html": []
          },
          "metadata": {}
        },
        {
          "output_type": "display_data",
          "data": {
            "text/plain": [
              "<IPython.core.display.HTML object>"
            ],
            "text/html": []
          },
          "metadata": {}
        },
        {
          "output_type": "display_data",
          "data": {
            "text/plain": [
              "<IPython.core.display.HTML object>"
            ],
            "text/html": []
          },
          "metadata": {}
        },
        {
          "output_type": "display_data",
          "data": {
            "text/plain": [
              "<IPython.core.display.HTML object>"
            ],
            "text/html": []
          },
          "metadata": {}
        },
        {
          "output_type": "display_data",
          "data": {
            "text/plain": [
              "<IPython.core.display.HTML object>"
            ],
            "text/html": []
          },
          "metadata": {}
        },
        {
          "output_type": "display_data",
          "data": {
            "text/plain": [
              "<IPython.core.display.HTML object>"
            ],
            "text/html": []
          },
          "metadata": {}
        },
        {
          "output_type": "display_data",
          "data": {
            "text/plain": [
              "<IPython.core.display.HTML object>"
            ],
            "text/html": []
          },
          "metadata": {}
        },
        {
          "output_type": "display_data",
          "data": {
            "text/plain": [
              "<IPython.core.display.HTML object>"
            ],
            "text/html": []
          },
          "metadata": {}
        },
        {
          "output_type": "display_data",
          "data": {
            "text/plain": [
              "<IPython.core.display.HTML object>"
            ],
            "text/html": []
          },
          "metadata": {}
        },
        {
          "output_type": "display_data",
          "data": {
            "text/plain": [
              "<IPython.core.display.HTML object>"
            ],
            "text/html": []
          },
          "metadata": {}
        },
        {
          "output_type": "display_data",
          "data": {
            "text/plain": [
              "<IPython.core.display.HTML object>"
            ],
            "text/html": []
          },
          "metadata": {}
        },
        {
          "output_type": "display_data",
          "data": {
            "text/plain": [
              "<IPython.core.display.HTML object>"
            ],
            "text/html": []
          },
          "metadata": {}
        },
        {
          "output_type": "display_data",
          "data": {
            "text/plain": [
              "<IPython.core.display.HTML object>"
            ],
            "text/html": []
          },
          "metadata": {}
        },
        {
          "output_type": "display_data",
          "data": {
            "text/plain": [
              "<IPython.core.display.HTML object>"
            ],
            "text/html": []
          },
          "metadata": {}
        },
        {
          "output_type": "display_data",
          "data": {
            "text/plain": [
              "<IPython.core.display.HTML object>"
            ],
            "text/html": []
          },
          "metadata": {}
        },
        {
          "output_type": "display_data",
          "data": {
            "text/plain": [
              "<IPython.core.display.HTML object>"
            ],
            "text/html": []
          },
          "metadata": {}
        },
        {
          "output_type": "display_data",
          "data": {
            "text/plain": [
              "<IPython.core.display.HTML object>"
            ],
            "text/html": []
          },
          "metadata": {}
        },
        {
          "output_type": "display_data",
          "data": {
            "text/plain": [
              "<IPython.core.display.HTML object>"
            ],
            "text/html": []
          },
          "metadata": {}
        },
        {
          "output_type": "display_data",
          "data": {
            "text/plain": [
              "<IPython.core.display.HTML object>"
            ],
            "text/html": []
          },
          "metadata": {}
        },
        {
          "output_type": "display_data",
          "data": {
            "text/plain": [
              "<IPython.core.display.HTML object>"
            ],
            "text/html": []
          },
          "metadata": {}
        },
        {
          "output_type": "display_data",
          "data": {
            "text/plain": [
              "<IPython.core.display.HTML object>"
            ],
            "text/html": []
          },
          "metadata": {}
        },
        {
          "output_type": "display_data",
          "data": {
            "text/plain": [
              "<IPython.core.display.HTML object>"
            ],
            "text/html": []
          },
          "metadata": {}
        },
        {
          "output_type": "display_data",
          "data": {
            "text/plain": [
              "<IPython.core.display.HTML object>"
            ],
            "text/html": []
          },
          "metadata": {}
        },
        {
          "output_type": "display_data",
          "data": {
            "text/plain": [
              "<IPython.core.display.HTML object>"
            ],
            "text/html": []
          },
          "metadata": {}
        },
        {
          "output_type": "display_data",
          "data": {
            "text/plain": [
              "<IPython.core.display.HTML object>"
            ],
            "text/html": []
          },
          "metadata": {}
        },
        {
          "output_type": "stream",
          "name": "stdout",
          "text": [
            "[zoopt] budget 100, fx result: 14.216777801513672\n",
            "[zoopt] x: [524.0, 0.7, 0.19, 109.0, 348.0, 1]\n"
          ]
        },
        {
          "output_type": "display_data",
          "data": {
            "text/plain": [
              "<IPython.core.display.HTML object>"
            ],
            "text/html": []
          },
          "metadata": {}
        },
        {
          "output_type": "display_data",
          "data": {
            "text/plain": [
              "<IPython.core.display.HTML object>"
            ],
            "text/html": []
          },
          "metadata": {}
        },
        {
          "output_type": "display_data",
          "data": {
            "text/plain": [
              "<IPython.core.display.HTML object>"
            ],
            "text/html": []
          },
          "metadata": {}
        },
        {
          "output_type": "display_data",
          "data": {
            "text/plain": [
              "<IPython.core.display.HTML object>"
            ],
            "text/html": []
          },
          "metadata": {}
        },
        {
          "output_type": "display_data",
          "data": {
            "text/plain": [
              "<IPython.core.display.HTML object>"
            ],
            "text/html": []
          },
          "metadata": {}
        },
        {
          "output_type": "display_data",
          "data": {
            "text/plain": [
              "<IPython.core.display.HTML object>"
            ],
            "text/html": []
          },
          "metadata": {}
        },
        {
          "output_type": "display_data",
          "data": {
            "text/plain": [
              "<IPython.core.display.HTML object>"
            ],
            "text/html": []
          },
          "metadata": {}
        },
        {
          "output_type": "display_data",
          "data": {
            "text/plain": [
              "<IPython.core.display.HTML object>"
            ],
            "text/html": []
          },
          "metadata": {}
        },
        {
          "output_type": "display_data",
          "data": {
            "text/plain": [
              "<IPython.core.display.HTML object>"
            ],
            "text/html": []
          },
          "metadata": {}
        },
        {
          "output_type": "display_data",
          "data": {
            "text/plain": [
              "<IPython.core.display.HTML object>"
            ],
            "text/html": []
          },
          "metadata": {}
        },
        {
          "output_type": "display_data",
          "data": {
            "text/plain": [
              "<IPython.core.display.HTML object>"
            ],
            "text/html": []
          },
          "metadata": {}
        },
        {
          "output_type": "display_data",
          "data": {
            "text/plain": [
              "<IPython.core.display.HTML object>"
            ],
            "text/html": []
          },
          "metadata": {}
        },
        {
          "output_type": "display_data",
          "data": {
            "text/plain": [
              "<IPython.core.display.HTML object>"
            ],
            "text/html": []
          },
          "metadata": {}
        },
        {
          "output_type": "display_data",
          "data": {
            "text/plain": [
              "<IPython.core.display.HTML object>"
            ],
            "text/html": []
          },
          "metadata": {}
        },
        {
          "output_type": "display_data",
          "data": {
            "text/plain": [
              "<IPython.core.display.HTML object>"
            ],
            "text/html": []
          },
          "metadata": {}
        },
        {
          "output_type": "display_data",
          "data": {
            "text/plain": [
              "<IPython.core.display.HTML object>"
            ],
            "text/html": []
          },
          "metadata": {}
        },
        {
          "output_type": "display_data",
          "data": {
            "text/plain": [
              "<IPython.core.display.HTML object>"
            ],
            "text/html": []
          },
          "metadata": {}
        },
        {
          "output_type": "display_data",
          "data": {
            "text/plain": [
              "<IPython.core.display.HTML object>"
            ],
            "text/html": []
          },
          "metadata": {}
        },
        {
          "output_type": "display_data",
          "data": {
            "text/plain": [
              "<IPython.core.display.HTML object>"
            ],
            "text/html": []
          },
          "metadata": {}
        },
        {
          "output_type": "display_data",
          "data": {
            "text/plain": [
              "<IPython.core.display.HTML object>"
            ],
            "text/html": []
          },
          "metadata": {}
        },
        {
          "output_type": "display_data",
          "data": {
            "text/plain": [
              "<IPython.core.display.HTML object>"
            ],
            "text/html": []
          },
          "metadata": {}
        },
        {
          "output_type": "display_data",
          "data": {
            "text/plain": [
              "<IPython.core.display.HTML object>"
            ],
            "text/html": []
          },
          "metadata": {}
        },
        {
          "output_type": "display_data",
          "data": {
            "text/plain": [
              "<IPython.core.display.HTML object>"
            ],
            "text/html": []
          },
          "metadata": {}
        },
        {
          "output_type": "display_data",
          "data": {
            "text/plain": [
              "<IPython.core.display.HTML object>"
            ],
            "text/html": []
          },
          "metadata": {}
        },
        {
          "output_type": "display_data",
          "data": {
            "text/plain": [
              "<IPython.core.display.HTML object>"
            ],
            "text/html": []
          },
          "metadata": {}
        },
        {
          "output_type": "display_data",
          "data": {
            "text/plain": [
              "<IPython.core.display.HTML object>"
            ],
            "text/html": []
          },
          "metadata": {}
        },
        {
          "output_type": "display_data",
          "data": {
            "text/plain": [
              "<IPython.core.display.HTML object>"
            ],
            "text/html": []
          },
          "metadata": {}
        },
        {
          "output_type": "display_data",
          "data": {
            "text/plain": [
              "<IPython.core.display.HTML object>"
            ],
            "text/html": []
          },
          "metadata": {}
        },
        {
          "output_type": "display_data",
          "data": {
            "text/plain": [
              "<IPython.core.display.HTML object>"
            ],
            "text/html": []
          },
          "metadata": {}
        },
        {
          "output_type": "display_data",
          "data": {
            "text/plain": [
              "<IPython.core.display.HTML object>"
            ],
            "text/html": []
          },
          "metadata": {}
        },
        {
          "output_type": "display_data",
          "data": {
            "text/plain": [
              "<IPython.core.display.HTML object>"
            ],
            "text/html": []
          },
          "metadata": {}
        },
        {
          "output_type": "display_data",
          "data": {
            "text/plain": [
              "<IPython.core.display.HTML object>"
            ],
            "text/html": []
          },
          "metadata": {}
        },
        {
          "output_type": "display_data",
          "data": {
            "text/plain": [
              "<IPython.core.display.HTML object>"
            ],
            "text/html": []
          },
          "metadata": {}
        },
        {
          "output_type": "display_data",
          "data": {
            "text/plain": [
              "<IPython.core.display.HTML object>"
            ],
            "text/html": []
          },
          "metadata": {}
        },
        {
          "output_type": "display_data",
          "data": {
            "text/plain": [
              "<IPython.core.display.HTML object>"
            ],
            "text/html": []
          },
          "metadata": {}
        },
        {
          "output_type": "display_data",
          "data": {
            "text/plain": [
              "<IPython.core.display.HTML object>"
            ],
            "text/html": []
          },
          "metadata": {}
        },
        {
          "output_type": "display_data",
          "data": {
            "text/plain": [
              "<IPython.core.display.HTML object>"
            ],
            "text/html": []
          },
          "metadata": {}
        },
        {
          "output_type": "display_data",
          "data": {
            "text/plain": [
              "<IPython.core.display.HTML object>"
            ],
            "text/html": []
          },
          "metadata": {}
        },
        {
          "output_type": "display_data",
          "data": {
            "text/plain": [
              "<IPython.core.display.HTML object>"
            ],
            "text/html": []
          },
          "metadata": {}
        },
        {
          "output_type": "display_data",
          "data": {
            "text/plain": [
              "<IPython.core.display.HTML object>"
            ],
            "text/html": []
          },
          "metadata": {}
        },
        {
          "output_type": "display_data",
          "data": {
            "text/plain": [
              "<IPython.core.display.HTML object>"
            ],
            "text/html": []
          },
          "metadata": {}
        },
        {
          "output_type": "display_data",
          "data": {
            "text/plain": [
              "<IPython.core.display.HTML object>"
            ],
            "text/html": []
          },
          "metadata": {}
        },
        {
          "output_type": "display_data",
          "data": {
            "text/plain": [
              "<IPython.core.display.HTML object>"
            ],
            "text/html": []
          },
          "metadata": {}
        },
        {
          "output_type": "display_data",
          "data": {
            "text/plain": [
              "<IPython.core.display.HTML object>"
            ],
            "text/html": []
          },
          "metadata": {}
        },
        {
          "output_type": "display_data",
          "data": {
            "text/plain": [
              "<IPython.core.display.HTML object>"
            ],
            "text/html": []
          },
          "metadata": {}
        },
        {
          "output_type": "display_data",
          "data": {
            "text/plain": [
              "<IPython.core.display.HTML object>"
            ],
            "text/html": []
          },
          "metadata": {}
        },
        {
          "output_type": "display_data",
          "data": {
            "text/plain": [
              "<IPython.core.display.HTML object>"
            ],
            "text/html": []
          },
          "metadata": {}
        },
        {
          "output_type": "display_data",
          "data": {
            "text/plain": [
              "<IPython.core.display.HTML object>"
            ],
            "text/html": []
          },
          "metadata": {}
        },
        {
          "output_type": "display_data",
          "data": {
            "text/plain": [
              "<IPython.core.display.HTML object>"
            ],
            "text/html": []
          },
          "metadata": {}
        },
        {
          "output_type": "display_data",
          "data": {
            "text/plain": [
              "<IPython.core.display.HTML object>"
            ],
            "text/html": []
          },
          "metadata": {}
        },
        {
          "output_type": "stream",
          "name": "stdout",
          "text": [
            "[zoopt] budget 150, fx result: 14.216777801513672\n",
            "[zoopt] x: [524.0, 0.7, 0.19, 109.0, 348.0, 1]\n"
          ]
        },
        {
          "output_type": "display_data",
          "data": {
            "text/plain": [
              "<IPython.core.display.HTML object>"
            ],
            "text/html": []
          },
          "metadata": {}
        },
        {
          "output_type": "display_data",
          "data": {
            "text/plain": [
              "<IPython.core.display.HTML object>"
            ],
            "text/html": []
          },
          "metadata": {}
        },
        {
          "output_type": "display_data",
          "data": {
            "text/plain": [
              "<IPython.core.display.HTML object>"
            ],
            "text/html": []
          },
          "metadata": {}
        },
        {
          "output_type": "display_data",
          "data": {
            "text/plain": [
              "<IPython.core.display.HTML object>"
            ],
            "text/html": []
          },
          "metadata": {}
        },
        {
          "output_type": "display_data",
          "data": {
            "text/plain": [
              "<IPython.core.display.HTML object>"
            ],
            "text/html": []
          },
          "metadata": {}
        },
        {
          "output_type": "display_data",
          "data": {
            "text/plain": [
              "<IPython.core.display.HTML object>"
            ],
            "text/html": []
          },
          "metadata": {}
        },
        {
          "output_type": "display_data",
          "data": {
            "text/plain": [
              "<IPython.core.display.HTML object>"
            ],
            "text/html": []
          },
          "metadata": {}
        },
        {
          "output_type": "display_data",
          "data": {
            "text/plain": [
              "<IPython.core.display.HTML object>"
            ],
            "text/html": []
          },
          "metadata": {}
        },
        {
          "output_type": "display_data",
          "data": {
            "text/plain": [
              "<IPython.core.display.HTML object>"
            ],
            "text/html": []
          },
          "metadata": {}
        },
        {
          "output_type": "display_data",
          "data": {
            "text/plain": [
              "<IPython.core.display.HTML object>"
            ],
            "text/html": []
          },
          "metadata": {}
        },
        {
          "output_type": "display_data",
          "data": {
            "text/plain": [
              "<IPython.core.display.HTML object>"
            ],
            "text/html": []
          },
          "metadata": {}
        },
        {
          "output_type": "display_data",
          "data": {
            "text/plain": [
              "<IPython.core.display.HTML object>"
            ],
            "text/html": []
          },
          "metadata": {}
        },
        {
          "output_type": "display_data",
          "data": {
            "text/plain": [
              "<IPython.core.display.HTML object>"
            ],
            "text/html": []
          },
          "metadata": {}
        },
        {
          "output_type": "display_data",
          "data": {
            "text/plain": [
              "<IPython.core.display.HTML object>"
            ],
            "text/html": []
          },
          "metadata": {}
        },
        {
          "output_type": "display_data",
          "data": {
            "text/plain": [
              "<IPython.core.display.HTML object>"
            ],
            "text/html": []
          },
          "metadata": {}
        },
        {
          "output_type": "display_data",
          "data": {
            "text/plain": [
              "<IPython.core.display.HTML object>"
            ],
            "text/html": []
          },
          "metadata": {}
        },
        {
          "output_type": "display_data",
          "data": {
            "text/plain": [
              "<IPython.core.display.HTML object>"
            ],
            "text/html": []
          },
          "metadata": {}
        },
        {
          "output_type": "display_data",
          "data": {
            "text/plain": [
              "<IPython.core.display.HTML object>"
            ],
            "text/html": []
          },
          "metadata": {}
        },
        {
          "output_type": "display_data",
          "data": {
            "text/plain": [
              "<IPython.core.display.HTML object>"
            ],
            "text/html": []
          },
          "metadata": {}
        },
        {
          "output_type": "display_data",
          "data": {
            "text/plain": [
              "<IPython.core.display.HTML object>"
            ],
            "text/html": []
          },
          "metadata": {}
        },
        {
          "output_type": "display_data",
          "data": {
            "text/plain": [
              "<IPython.core.display.HTML object>"
            ],
            "text/html": []
          },
          "metadata": {}
        },
        {
          "output_type": "display_data",
          "data": {
            "text/plain": [
              "<IPython.core.display.HTML object>"
            ],
            "text/html": []
          },
          "metadata": {}
        },
        {
          "output_type": "display_data",
          "data": {
            "text/plain": [
              "<IPython.core.display.HTML object>"
            ],
            "text/html": []
          },
          "metadata": {}
        },
        {
          "output_type": "display_data",
          "data": {
            "text/plain": [
              "<IPython.core.display.HTML object>"
            ],
            "text/html": []
          },
          "metadata": {}
        },
        {
          "output_type": "display_data",
          "data": {
            "text/plain": [
              "<IPython.core.display.HTML object>"
            ],
            "text/html": []
          },
          "metadata": {}
        },
        {
          "output_type": "display_data",
          "data": {
            "text/plain": [
              "<IPython.core.display.HTML object>"
            ],
            "text/html": []
          },
          "metadata": {}
        },
        {
          "output_type": "display_data",
          "data": {
            "text/plain": [
              "<IPython.core.display.HTML object>"
            ],
            "text/html": []
          },
          "metadata": {}
        },
        {
          "output_type": "display_data",
          "data": {
            "text/plain": [
              "<IPython.core.display.HTML object>"
            ],
            "text/html": []
          },
          "metadata": {}
        },
        {
          "output_type": "display_data",
          "data": {
            "text/plain": [
              "<IPython.core.display.HTML object>"
            ],
            "text/html": []
          },
          "metadata": {}
        },
        {
          "output_type": "display_data",
          "data": {
            "text/plain": [
              "<IPython.core.display.HTML object>"
            ],
            "text/html": []
          },
          "metadata": {}
        },
        {
          "output_type": "display_data",
          "data": {
            "text/plain": [
              "<IPython.core.display.HTML object>"
            ],
            "text/html": []
          },
          "metadata": {}
        },
        {
          "output_type": "display_data",
          "data": {
            "text/plain": [
              "<IPython.core.display.HTML object>"
            ],
            "text/html": []
          },
          "metadata": {}
        },
        {
          "output_type": "display_data",
          "data": {
            "text/plain": [
              "<IPython.core.display.HTML object>"
            ],
            "text/html": []
          },
          "metadata": {}
        },
        {
          "output_type": "display_data",
          "data": {
            "text/plain": [
              "<IPython.core.display.HTML object>"
            ],
            "text/html": []
          },
          "metadata": {}
        },
        {
          "output_type": "display_data",
          "data": {
            "text/plain": [
              "<IPython.core.display.HTML object>"
            ],
            "text/html": []
          },
          "metadata": {}
        },
        {
          "output_type": "display_data",
          "data": {
            "text/plain": [
              "<IPython.core.display.HTML object>"
            ],
            "text/html": []
          },
          "metadata": {}
        },
        {
          "output_type": "display_data",
          "data": {
            "text/plain": [
              "<IPython.core.display.HTML object>"
            ],
            "text/html": []
          },
          "metadata": {}
        },
        {
          "output_type": "display_data",
          "data": {
            "text/plain": [
              "<IPython.core.display.HTML object>"
            ],
            "text/html": []
          },
          "metadata": {}
        },
        {
          "output_type": "display_data",
          "data": {
            "text/plain": [
              "<IPython.core.display.HTML object>"
            ],
            "text/html": []
          },
          "metadata": {}
        },
        {
          "output_type": "display_data",
          "data": {
            "text/plain": [
              "<IPython.core.display.HTML object>"
            ],
            "text/html": []
          },
          "metadata": {}
        },
        {
          "output_type": "display_data",
          "data": {
            "text/plain": [
              "<IPython.core.display.HTML object>"
            ],
            "text/html": []
          },
          "metadata": {}
        },
        {
          "output_type": "display_data",
          "data": {
            "text/plain": [
              "<IPython.core.display.HTML object>"
            ],
            "text/html": []
          },
          "metadata": {}
        },
        {
          "output_type": "display_data",
          "data": {
            "text/plain": [
              "<IPython.core.display.HTML object>"
            ],
            "text/html": []
          },
          "metadata": {}
        },
        {
          "output_type": "display_data",
          "data": {
            "text/plain": [
              "<IPython.core.display.HTML object>"
            ],
            "text/html": []
          },
          "metadata": {}
        },
        {
          "output_type": "display_data",
          "data": {
            "text/plain": [
              "<IPython.core.display.HTML object>"
            ],
            "text/html": []
          },
          "metadata": {}
        },
        {
          "output_type": "display_data",
          "data": {
            "text/plain": [
              "<IPython.core.display.HTML object>"
            ],
            "text/html": []
          },
          "metadata": {}
        },
        {
          "output_type": "display_data",
          "data": {
            "text/plain": [
              "<IPython.core.display.HTML object>"
            ],
            "text/html": []
          },
          "metadata": {}
        },
        {
          "output_type": "display_data",
          "data": {
            "text/plain": [
              "<IPython.core.display.HTML object>"
            ],
            "text/html": []
          },
          "metadata": {}
        },
        {
          "output_type": "display_data",
          "data": {
            "text/plain": [
              "<IPython.core.display.HTML object>"
            ],
            "text/html": []
          },
          "metadata": {}
        },
        {
          "output_type": "display_data",
          "data": {
            "text/plain": [
              "<IPython.core.display.HTML object>"
            ],
            "text/html": []
          },
          "metadata": {}
        },
        {
          "output_type": "stream",
          "name": "stdout",
          "text": [
            "[zoopt] budget 200, fx result: 14.216777801513672\n",
            "[zoopt] x: [524.0, 0.7, 0.19, 109.0, 348.0, 1]\n"
          ]
        },
        {
          "output_type": "display_data",
          "data": {
            "text/plain": [
              "<IPython.core.display.HTML object>"
            ],
            "text/html": []
          },
          "metadata": {}
        },
        {
          "output_type": "display_data",
          "data": {
            "text/plain": [
              "<IPython.core.display.HTML object>"
            ],
            "text/html": []
          },
          "metadata": {}
        },
        {
          "output_type": "stream",
          "name": "stdout",
          "text": [
            "[zoopt] time_budget runs out\n",
            "[zoopt] x: [524.0, 0.7, 0.19, 109.0, 348.0, 1]\n",
            "[zoopt] value: 14.216777801513672\n"
          ]
        }
      ]
    },
    {
      "cell_type": "code",
      "source": [
        "df_opt = pd.read_csv('optimization_results_6d.txt', header=None, names=[\n",
        "    'Surface Area', 'Relative Compactness', 'Glazing Area',\n",
        "    'Wall Area', 'Roof Area', 'Overall Height', 'Approximated f(x)'\n",
        "])\n",
        "\n",
        "df_opt\n"
      ],
      "metadata": {
        "colab": {
          "base_uri": "https://localhost:8080/",
          "height": 363
        },
        "id": "PL6-i4TWptbS",
        "outputId": "0f70fae7-22fb-4125-e475-01462f4315ea"
      },
      "execution_count": 169,
      "outputs": [
        {
          "output_type": "execute_result",
          "data": {
            "text/plain": [
              "   Surface Area  Relative Compactness  Glazing Area  Wall Area  Roof Area  \\\n",
              "0         597.0                  0.89          0.59      125.0      147.0   \n",
              "1         676.0                  0.70          0.19      109.0      168.0   \n",
              "2         524.0                  0.70          0.19      109.0      168.0   \n",
              "3         524.0                  0.70          0.19      109.0      168.0   \n",
              "4         524.0                  0.70          0.19      109.0      390.0   \n",
              "5         524.0                  0.70          0.19      109.0      248.0   \n",
              "6         524.0                  0.70          0.19      109.0      248.0   \n",
              "7         524.0                  0.70          0.19      109.0      229.0   \n",
              "8         524.0                  0.70          0.19      109.0      348.0   \n",
              "9         524.0                  0.70          0.19      109.0      348.0   \n",
              "\n",
              "   Overall Height  Approximated f(x)  \n",
              "0               2          35.861168  \n",
              "1               2          14.216778  \n",
              "2               2          14.216778  \n",
              "3               1          14.216778  \n",
              "4               2          14.216778  \n",
              "5               2          14.216778  \n",
              "6               1          14.216778  \n",
              "7               2          14.216778  \n",
              "8               2          14.216778  \n",
              "9               1          14.216778  "
            ],
            "text/html": [
              "\n",
              "  <div id=\"df-8f01843d-0d69-40e4-aec0-1e10cacd7b75\" class=\"colab-df-container\">\n",
              "    <div>\n",
              "<style scoped>\n",
              "    .dataframe tbody tr th:only-of-type {\n",
              "        vertical-align: middle;\n",
              "    }\n",
              "\n",
              "    .dataframe tbody tr th {\n",
              "        vertical-align: top;\n",
              "    }\n",
              "\n",
              "    .dataframe thead th {\n",
              "        text-align: right;\n",
              "    }\n",
              "</style>\n",
              "<table border=\"1\" class=\"dataframe\">\n",
              "  <thead>\n",
              "    <tr style=\"text-align: right;\">\n",
              "      <th></th>\n",
              "      <th>Surface Area</th>\n",
              "      <th>Relative Compactness</th>\n",
              "      <th>Glazing Area</th>\n",
              "      <th>Wall Area</th>\n",
              "      <th>Roof Area</th>\n",
              "      <th>Overall Height</th>\n",
              "      <th>Approximated f(x)</th>\n",
              "    </tr>\n",
              "  </thead>\n",
              "  <tbody>\n",
              "    <tr>\n",
              "      <th>0</th>\n",
              "      <td>597.0</td>\n",
              "      <td>0.89</td>\n",
              "      <td>0.59</td>\n",
              "      <td>125.0</td>\n",
              "      <td>147.0</td>\n",
              "      <td>2</td>\n",
              "      <td>35.861168</td>\n",
              "    </tr>\n",
              "    <tr>\n",
              "      <th>1</th>\n",
              "      <td>676.0</td>\n",
              "      <td>0.70</td>\n",
              "      <td>0.19</td>\n",
              "      <td>109.0</td>\n",
              "      <td>168.0</td>\n",
              "      <td>2</td>\n",
              "      <td>14.216778</td>\n",
              "    </tr>\n",
              "    <tr>\n",
              "      <th>2</th>\n",
              "      <td>524.0</td>\n",
              "      <td>0.70</td>\n",
              "      <td>0.19</td>\n",
              "      <td>109.0</td>\n",
              "      <td>168.0</td>\n",
              "      <td>2</td>\n",
              "      <td>14.216778</td>\n",
              "    </tr>\n",
              "    <tr>\n",
              "      <th>3</th>\n",
              "      <td>524.0</td>\n",
              "      <td>0.70</td>\n",
              "      <td>0.19</td>\n",
              "      <td>109.0</td>\n",
              "      <td>168.0</td>\n",
              "      <td>1</td>\n",
              "      <td>14.216778</td>\n",
              "    </tr>\n",
              "    <tr>\n",
              "      <th>4</th>\n",
              "      <td>524.0</td>\n",
              "      <td>0.70</td>\n",
              "      <td>0.19</td>\n",
              "      <td>109.0</td>\n",
              "      <td>390.0</td>\n",
              "      <td>2</td>\n",
              "      <td>14.216778</td>\n",
              "    </tr>\n",
              "    <tr>\n",
              "      <th>5</th>\n",
              "      <td>524.0</td>\n",
              "      <td>0.70</td>\n",
              "      <td>0.19</td>\n",
              "      <td>109.0</td>\n",
              "      <td>248.0</td>\n",
              "      <td>2</td>\n",
              "      <td>14.216778</td>\n",
              "    </tr>\n",
              "    <tr>\n",
              "      <th>6</th>\n",
              "      <td>524.0</td>\n",
              "      <td>0.70</td>\n",
              "      <td>0.19</td>\n",
              "      <td>109.0</td>\n",
              "      <td>248.0</td>\n",
              "      <td>1</td>\n",
              "      <td>14.216778</td>\n",
              "    </tr>\n",
              "    <tr>\n",
              "      <th>7</th>\n",
              "      <td>524.0</td>\n",
              "      <td>0.70</td>\n",
              "      <td>0.19</td>\n",
              "      <td>109.0</td>\n",
              "      <td>229.0</td>\n",
              "      <td>2</td>\n",
              "      <td>14.216778</td>\n",
              "    </tr>\n",
              "    <tr>\n",
              "      <th>8</th>\n",
              "      <td>524.0</td>\n",
              "      <td>0.70</td>\n",
              "      <td>0.19</td>\n",
              "      <td>109.0</td>\n",
              "      <td>348.0</td>\n",
              "      <td>2</td>\n",
              "      <td>14.216778</td>\n",
              "    </tr>\n",
              "    <tr>\n",
              "      <th>9</th>\n",
              "      <td>524.0</td>\n",
              "      <td>0.70</td>\n",
              "      <td>0.19</td>\n",
              "      <td>109.0</td>\n",
              "      <td>348.0</td>\n",
              "      <td>1</td>\n",
              "      <td>14.216778</td>\n",
              "    </tr>\n",
              "  </tbody>\n",
              "</table>\n",
              "</div>\n",
              "    <div class=\"colab-df-buttons\">\n",
              "\n",
              "  <div class=\"colab-df-container\">\n",
              "    <button class=\"colab-df-convert\" onclick=\"convertToInteractive('df-8f01843d-0d69-40e4-aec0-1e10cacd7b75')\"\n",
              "            title=\"Convert this dataframe to an interactive table.\"\n",
              "            style=\"display:none;\">\n",
              "\n",
              "  <svg xmlns=\"http://www.w3.org/2000/svg\" height=\"24px\" viewBox=\"0 -960 960 960\">\n",
              "    <path d=\"M120-120v-720h720v720H120Zm60-500h600v-160H180v160Zm220 220h160v-160H400v160Zm0 220h160v-160H400v160ZM180-400h160v-160H180v160Zm440 0h160v-160H620v160ZM180-180h160v-160H180v160Zm440 0h160v-160H620v160Z\"/>\n",
              "  </svg>\n",
              "    </button>\n",
              "\n",
              "  <style>\n",
              "    .colab-df-container {\n",
              "      display:flex;\n",
              "      gap: 12px;\n",
              "    }\n",
              "\n",
              "    .colab-df-convert {\n",
              "      background-color: #E8F0FE;\n",
              "      border: none;\n",
              "      border-radius: 50%;\n",
              "      cursor: pointer;\n",
              "      display: none;\n",
              "      fill: #1967D2;\n",
              "      height: 32px;\n",
              "      padding: 0 0 0 0;\n",
              "      width: 32px;\n",
              "    }\n",
              "\n",
              "    .colab-df-convert:hover {\n",
              "      background-color: #E2EBFA;\n",
              "      box-shadow: 0px 1px 2px rgba(60, 64, 67, 0.3), 0px 1px 3px 1px rgba(60, 64, 67, 0.15);\n",
              "      fill: #174EA6;\n",
              "    }\n",
              "\n",
              "    .colab-df-buttons div {\n",
              "      margin-bottom: 4px;\n",
              "    }\n",
              "\n",
              "    [theme=dark] .colab-df-convert {\n",
              "      background-color: #3B4455;\n",
              "      fill: #D2E3FC;\n",
              "    }\n",
              "\n",
              "    [theme=dark] .colab-df-convert:hover {\n",
              "      background-color: #434B5C;\n",
              "      box-shadow: 0px 1px 3px 1px rgba(0, 0, 0, 0.15);\n",
              "      filter: drop-shadow(0px 1px 2px rgba(0, 0, 0, 0.3));\n",
              "      fill: #FFFFFF;\n",
              "    }\n",
              "  </style>\n",
              "\n",
              "    <script>\n",
              "      const buttonEl =\n",
              "        document.querySelector('#df-8f01843d-0d69-40e4-aec0-1e10cacd7b75 button.colab-df-convert');\n",
              "      buttonEl.style.display =\n",
              "        google.colab.kernel.accessAllowed ? 'block' : 'none';\n",
              "\n",
              "      async function convertToInteractive(key) {\n",
              "        const element = document.querySelector('#df-8f01843d-0d69-40e4-aec0-1e10cacd7b75');\n",
              "        const dataTable =\n",
              "          await google.colab.kernel.invokeFunction('convertToInteractive',\n",
              "                                                    [key], {});\n",
              "        if (!dataTable) return;\n",
              "\n",
              "        const docLinkHtml = 'Like what you see? Visit the ' +\n",
              "          '<a target=\"_blank\" href=https://colab.research.google.com/notebooks/data_table.ipynb>data table notebook</a>'\n",
              "          + ' to learn more about interactive tables.';\n",
              "        element.innerHTML = '';\n",
              "        dataTable['output_type'] = 'display_data';\n",
              "        await google.colab.output.renderOutput(dataTable, element);\n",
              "        const docLink = document.createElement('div');\n",
              "        docLink.innerHTML = docLinkHtml;\n",
              "        element.appendChild(docLink);\n",
              "      }\n",
              "    </script>\n",
              "  </div>\n",
              "\n",
              "\n",
              "<div id=\"df-502e6d4b-d50e-4f0e-bbd3-19af1d2ada55\">\n",
              "  <button class=\"colab-df-quickchart\" onclick=\"quickchart('df-502e6d4b-d50e-4f0e-bbd3-19af1d2ada55')\"\n",
              "            title=\"Suggest charts\"\n",
              "            style=\"display:none;\">\n",
              "\n",
              "<svg xmlns=\"http://www.w3.org/2000/svg\" height=\"24px\"viewBox=\"0 0 24 24\"\n",
              "     width=\"24px\">\n",
              "    <g>\n",
              "        <path d=\"M19 3H5c-1.1 0-2 .9-2 2v14c0 1.1.9 2 2 2h14c1.1 0 2-.9 2-2V5c0-1.1-.9-2-2-2zM9 17H7v-7h2v7zm4 0h-2V7h2v10zm4 0h-2v-4h2v4z\"/>\n",
              "    </g>\n",
              "</svg>\n",
              "  </button>\n",
              "\n",
              "<style>\n",
              "  .colab-df-quickchart {\n",
              "      --bg-color: #E8F0FE;\n",
              "      --fill-color: #1967D2;\n",
              "      --hover-bg-color: #E2EBFA;\n",
              "      --hover-fill-color: #174EA6;\n",
              "      --disabled-fill-color: #AAA;\n",
              "      --disabled-bg-color: #DDD;\n",
              "  }\n",
              "\n",
              "  [theme=dark] .colab-df-quickchart {\n",
              "      --bg-color: #3B4455;\n",
              "      --fill-color: #D2E3FC;\n",
              "      --hover-bg-color: #434B5C;\n",
              "      --hover-fill-color: #FFFFFF;\n",
              "      --disabled-bg-color: #3B4455;\n",
              "      --disabled-fill-color: #666;\n",
              "  }\n",
              "\n",
              "  .colab-df-quickchart {\n",
              "    background-color: var(--bg-color);\n",
              "    border: none;\n",
              "    border-radius: 50%;\n",
              "    cursor: pointer;\n",
              "    display: none;\n",
              "    fill: var(--fill-color);\n",
              "    height: 32px;\n",
              "    padding: 0;\n",
              "    width: 32px;\n",
              "  }\n",
              "\n",
              "  .colab-df-quickchart:hover {\n",
              "    background-color: var(--hover-bg-color);\n",
              "    box-shadow: 0 1px 2px rgba(60, 64, 67, 0.3), 0 1px 3px 1px rgba(60, 64, 67, 0.15);\n",
              "    fill: var(--button-hover-fill-color);\n",
              "  }\n",
              "\n",
              "  .colab-df-quickchart-complete:disabled,\n",
              "  .colab-df-quickchart-complete:disabled:hover {\n",
              "    background-color: var(--disabled-bg-color);\n",
              "    fill: var(--disabled-fill-color);\n",
              "    box-shadow: none;\n",
              "  }\n",
              "\n",
              "  .colab-df-spinner {\n",
              "    border: 2px solid var(--fill-color);\n",
              "    border-color: transparent;\n",
              "    border-bottom-color: var(--fill-color);\n",
              "    animation:\n",
              "      spin 1s steps(1) infinite;\n",
              "  }\n",
              "\n",
              "  @keyframes spin {\n",
              "    0% {\n",
              "      border-color: transparent;\n",
              "      border-bottom-color: var(--fill-color);\n",
              "      border-left-color: var(--fill-color);\n",
              "    }\n",
              "    20% {\n",
              "      border-color: transparent;\n",
              "      border-left-color: var(--fill-color);\n",
              "      border-top-color: var(--fill-color);\n",
              "    }\n",
              "    30% {\n",
              "      border-color: transparent;\n",
              "      border-left-color: var(--fill-color);\n",
              "      border-top-color: var(--fill-color);\n",
              "      border-right-color: var(--fill-color);\n",
              "    }\n",
              "    40% {\n",
              "      border-color: transparent;\n",
              "      border-right-color: var(--fill-color);\n",
              "      border-top-color: var(--fill-color);\n",
              "    }\n",
              "    60% {\n",
              "      border-color: transparent;\n",
              "      border-right-color: var(--fill-color);\n",
              "    }\n",
              "    80% {\n",
              "      border-color: transparent;\n",
              "      border-right-color: var(--fill-color);\n",
              "      border-bottom-color: var(--fill-color);\n",
              "    }\n",
              "    90% {\n",
              "      border-color: transparent;\n",
              "      border-bottom-color: var(--fill-color);\n",
              "    }\n",
              "  }\n",
              "</style>\n",
              "\n",
              "  <script>\n",
              "    async function quickchart(key) {\n",
              "      const quickchartButtonEl =\n",
              "        document.querySelector('#' + key + ' button');\n",
              "      quickchartButtonEl.disabled = true;  // To prevent multiple clicks.\n",
              "      quickchartButtonEl.classList.add('colab-df-spinner');\n",
              "      try {\n",
              "        const charts = await google.colab.kernel.invokeFunction(\n",
              "            'suggestCharts', [key], {});\n",
              "      } catch (error) {\n",
              "        console.error('Error during call to suggestCharts:', error);\n",
              "      }\n",
              "      quickchartButtonEl.classList.remove('colab-df-spinner');\n",
              "      quickchartButtonEl.classList.add('colab-df-quickchart-complete');\n",
              "    }\n",
              "    (() => {\n",
              "      let quickchartButtonEl =\n",
              "        document.querySelector('#df-502e6d4b-d50e-4f0e-bbd3-19af1d2ada55 button');\n",
              "      quickchartButtonEl.style.display =\n",
              "        google.colab.kernel.accessAllowed ? 'block' : 'none';\n",
              "    })();\n",
              "  </script>\n",
              "</div>\n",
              "    </div>\n",
              "  </div>\n"
            ],
            "application/vnd.google.colaboratory.intrinsic+json": {
              "type": "dataframe",
              "variable_name": "df_opt",
              "summary": "{\n  \"name\": \"df_opt\",\n  \"rows\": 10,\n  \"fields\": [\n    {\n      \"column\": \"Surface Area\",\n      \"properties\": {\n        \"dtype\": \"number\",\n        \"std\": 50.958043744066764,\n        \"min\": 524.0,\n        \"max\": 676.0,\n        \"num_unique_values\": 3,\n        \"samples\": [\n          597.0,\n          676.0,\n          524.0\n        ],\n        \"semantic_type\": \"\",\n        \"description\": \"\"\n      }\n    },\n    {\n      \"column\": \"Relative Compactness\",\n      \"properties\": {\n        \"dtype\": \"number\",\n        \"std\": 0.06008327554319923,\n        \"min\": 0.7,\n        \"max\": 0.89,\n        \"num_unique_values\": 2,\n        \"samples\": [\n          0.7,\n          0.89\n        ],\n        \"semantic_type\": \"\",\n        \"description\": \"\"\n      }\n    },\n    {\n      \"column\": \"Glazing Area\",\n      \"properties\": {\n        \"dtype\": \"number\",\n        \"std\": 0.12649110640673514,\n        \"min\": 0.19,\n        \"max\": 0.59,\n        \"num_unique_values\": 2,\n        \"samples\": [\n          0.19,\n          0.59\n        ],\n        \"semantic_type\": \"\",\n        \"description\": \"\"\n      }\n    },\n    {\n      \"column\": \"Wall Area\",\n      \"properties\": {\n        \"dtype\": \"number\",\n        \"std\": 5.059644256269407,\n        \"min\": 109.0,\n        \"max\": 125.0,\n        \"num_unique_values\": 2,\n        \"samples\": [\n          109.0,\n          125.0\n        ],\n        \"semantic_type\": \"\",\n        \"description\": \"\"\n      }\n    },\n    {\n      \"column\": \"Roof Area\",\n      \"properties\": {\n        \"dtype\": \"number\",\n        \"std\": 88.124659179798,\n        \"min\": 147.0,\n        \"max\": 390.0,\n        \"num_unique_values\": 6,\n        \"samples\": [\n          147.0,\n          168.0\n        ],\n        \"semantic_type\": \"\",\n        \"description\": \"\"\n      }\n    },\n    {\n      \"column\": \"Overall Height\",\n      \"properties\": {\n        \"dtype\": \"number\",\n        \"std\": 0,\n        \"min\": 1,\n        \"max\": 2,\n        \"num_unique_values\": 2,\n        \"samples\": [\n          1,\n          2\n        ],\n        \"semantic_type\": \"\",\n        \"description\": \"\"\n      }\n    },\n    {\n      \"column\": \"Approximated f(x)\",\n      \"properties\": {\n        \"dtype\": \"number\",\n        \"std\": 6.844557130080946,\n        \"min\": 14.216777801513672,\n        \"max\": 35.861167907714844,\n        \"num_unique_values\": 2,\n        \"samples\": [\n          14.216777801513672,\n          35.861167907714844\n        ],\n        \"semantic_type\": \"\",\n        \"description\": \"\"\n      }\n    }\n  ]\n}"
            }
          },
          "metadata": {},
          "execution_count": 169
        }
      ]
    },
    {
      "cell_type": "code",
      "source": [
        "plt.plot(df_opt[\"Approximated f(x)\"])"
      ],
      "metadata": {
        "colab": {
          "base_uri": "https://localhost:8080/",
          "height": 502
        },
        "id": "7FtFhiLYq8Nw",
        "outputId": "829083c1-fe62-48e1-a840-ef10787ea52f"
      },
      "execution_count": 170,
      "outputs": [
        {
          "output_type": "execute_result",
          "data": {
            "text/plain": [
              "[<matplotlib.lines.Line2D at 0x7bfaa016ff40>]"
            ]
          },
          "metadata": {},
          "execution_count": 170
        },
        {
          "output_type": "display_data",
          "data": {
            "text/plain": [
              "<Figure size 800x550 with 1 Axes>"
            ],
            "image/png": "[encoded data removed]"
          },
          "metadata": {}
        }
      ]
    },
    {
      "cell_type": "code",
      "source": [],
      "metadata": {
        "id": "-oFwqVyK6wnN"
      },
      "execution_count": null,
      "outputs": []
    }
  ]
}